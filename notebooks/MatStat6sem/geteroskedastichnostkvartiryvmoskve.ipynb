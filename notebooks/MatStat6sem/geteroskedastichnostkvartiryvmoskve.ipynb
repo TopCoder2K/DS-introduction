{
 "cells": [
  {
   "cell_type": "code",
   "execution_count": 1,
   "metadata": {},
   "outputs": [
    {
     "name": "stderr",
     "output_type": "stream",
     "text": [
      "Loading required package: zoo\n",
      "\n",
      "\n",
      "Attaching package: ‘zoo’\n",
      "\n",
      "\n",
      "The following objects are masked from ‘package:base’:\n",
      "\n",
      "    as.Date, as.Date.numeric\n",
      "\n",
      "\n"
     ]
    }
   ],
   "source": [
    "options(repr.plot.width=5, repr.plot.height=4)\n",
    "\n",
    "#install.packages('lmtest')\n",
    "library('lmtest')\n",
    "#install.packages('sandwich')\n",
    "library(\"sandwich\")"
   ]
  },
  {
   "cell_type": "markdown",
   "metadata": {},
   "source": [
    "## Гетероскедастичность\n",
    "\n",
    "Загрузим датасет с данными по стоимости квартир в Москве (<a href=\"https://raw.githubusercontent.com/bdemeshev/em301/master/datasets/flats_moscow.txt\">источник</a>)."
   ]
  },
  {
   "cell_type": "code",
   "execution_count": 2,
   "metadata": {},
   "outputs": [
    {
     "data": {
      "text/html": [
       "<table>\n",
       "<caption>A data.frame: 6 × 11</caption>\n",
       "<thead>\n",
       "\t<tr><th scope=col>n</th><th scope=col>price</th><th scope=col>totsp</th><th scope=col>livesp</th><th scope=col>kitsp</th><th scope=col>dist</th><th scope=col>metrdist</th><th scope=col>walk</th><th scope=col>brick</th><th scope=col>floor</th><th scope=col>code</th></tr>\n",
       "\t<tr><th scope=col>&lt;int&gt;</th><th scope=col>&lt;int&gt;</th><th scope=col>&lt;int&gt;</th><th scope=col>&lt;int&gt;</th><th scope=col>&lt;dbl&gt;</th><th scope=col>&lt;dbl&gt;</th><th scope=col>&lt;int&gt;</th><th scope=col>&lt;int&gt;</th><th scope=col>&lt;int&gt;</th><th scope=col>&lt;int&gt;</th><th scope=col>&lt;int&gt;</th></tr>\n",
       "</thead>\n",
       "<tbody>\n",
       "\t<tr><td>1</td><td> 81</td><td> 58</td><td>40</td><td> 6</td><td>12.5</td><td>7</td><td>1</td><td>1</td><td>1</td><td>3</td></tr>\n",
       "\t<tr><td>2</td><td> 75</td><td> 44</td><td>28</td><td> 6</td><td>13.5</td><td>7</td><td>1</td><td>0</td><td>1</td><td>6</td></tr>\n",
       "\t<tr><td>3</td><td>128</td><td> 70</td><td>42</td><td> 6</td><td>14.5</td><td>3</td><td>1</td><td>1</td><td>1</td><td>3</td></tr>\n",
       "\t<tr><td>4</td><td> 95</td><td> 61</td><td>37</td><td> 6</td><td>13.5</td><td>7</td><td>1</td><td>0</td><td>1</td><td>1</td></tr>\n",
       "\t<tr><td>5</td><td>330</td><td>104</td><td>60</td><td>11</td><td>10.5</td><td>7</td><td>0</td><td>1</td><td>1</td><td>3</td></tr>\n",
       "\t<tr><td>6</td><td>137</td><td> 76</td><td>50</td><td> 9</td><td>11.0</td><td>7</td><td>1</td><td>1</td><td>1</td><td>8</td></tr>\n",
       "</tbody>\n",
       "</table>\n"
      ],
      "text/latex": [
       "A data.frame: 6 × 11\n",
       "\\begin{tabular}{r|lllllllllll}\n",
       " n & price & totsp & livesp & kitsp & dist & metrdist & walk & brick & floor & code\\\\\n",
       " <int> & <int> & <int> & <int> & <dbl> & <dbl> & <int> & <int> & <int> & <int> & <int>\\\\\n",
       "\\hline\n",
       "\t 1 &  81 &  58 & 40 &  6 & 12.5 & 7 & 1 & 1 & 1 & 3\\\\\n",
       "\t 2 &  75 &  44 & 28 &  6 & 13.5 & 7 & 1 & 0 & 1 & 6\\\\\n",
       "\t 3 & 128 &  70 & 42 &  6 & 14.5 & 3 & 1 & 1 & 1 & 3\\\\\n",
       "\t 4 &  95 &  61 & 37 &  6 & 13.5 & 7 & 1 & 0 & 1 & 1\\\\\n",
       "\t 5 & 330 & 104 & 60 & 11 & 10.5 & 7 & 0 & 1 & 1 & 3\\\\\n",
       "\t 6 & 137 &  76 & 50 &  9 & 11.0 & 7 & 1 & 1 & 1 & 8\\\\\n",
       "\\end{tabular}\n"
      ],
      "text/markdown": [
       "\n",
       "A data.frame: 6 × 11\n",
       "\n",
       "| n &lt;int&gt; | price &lt;int&gt; | totsp &lt;int&gt; | livesp &lt;int&gt; | kitsp &lt;dbl&gt; | dist &lt;dbl&gt; | metrdist &lt;int&gt; | walk &lt;int&gt; | brick &lt;int&gt; | floor &lt;int&gt; | code &lt;int&gt; |\n",
       "|---|---|---|---|---|---|---|---|---|---|---|\n",
       "| 1 |  81 |  58 | 40 |  6 | 12.5 | 7 | 1 | 1 | 1 | 3 |\n",
       "| 2 |  75 |  44 | 28 |  6 | 13.5 | 7 | 1 | 0 | 1 | 6 |\n",
       "| 3 | 128 |  70 | 42 |  6 | 14.5 | 3 | 1 | 1 | 1 | 3 |\n",
       "| 4 |  95 |  61 | 37 |  6 | 13.5 | 7 | 1 | 0 | 1 | 1 |\n",
       "| 5 | 330 | 104 | 60 | 11 | 10.5 | 7 | 0 | 1 | 1 | 3 |\n",
       "| 6 | 137 |  76 | 50 |  9 | 11.0 | 7 | 1 | 1 | 1 | 8 |\n",
       "\n"
      ],
      "text/plain": [
       "  n price totsp livesp kitsp dist metrdist walk brick floor code\n",
       "1 1  81    58   40      6    12.5 7        1    1     1     3   \n",
       "2 2  75    44   28      6    13.5 7        1    0     1     6   \n",
       "3 3 128    70   42      6    14.5 3        1    1     1     3   \n",
       "4 4  95    61   37      6    13.5 7        1    0     1     1   \n",
       "5 5 330   104   60     11    10.5 7        0    1     1     3   \n",
       "6 6 137    76   50      9    11.0 7        1    1     1     8   "
      ]
     },
     "metadata": {},
     "output_type": "display_data"
    }
   ],
   "source": [
    "flats <- read.table('flats_moscow.txt', header = TRUE)\n",
    "head(flats)"
   ]
  },
  {
   "cell_type": "markdown",
   "metadata": {},
   "source": [
    "Будем рассматривать зависимость цены квартиры от ее площади. По графику явно видна гетероскедастичность."
   ]
  },
  {
   "cell_type": "code",
   "execution_count": 3,
   "metadata": {},
   "outputs": [
    {
     "data": {
      "image/png": "[encoded data removed]",
      "text/plain": [
       "Plot with title “Стоимость квартир в Москве”"
      ]
     },
     "metadata": {
      "image/png": {
       "height": 240,
       "width": 300
      },
      "text/plain": {
       "height": 240,
       "width": 300
      }
     },
     "output_type": "display_data"
    }
   ],
   "source": [
    "plot(\n",
    "    flats$price ~ flats$totsp, \n",
    "    cex = 0.5,\n",
    "    xlab = 'Общая площадь квартиры, кв.м',\n",
    "    ylab = 'Цена квартиры, $1000',\n",
    "    main = 'Стоимость квартир в Москве'\n",
    ")"
   ]
  },
  {
   "cell_type": "markdown",
   "metadata": {},
   "source": [
    "Обучаем регрессию для предсказания цены квартиры по ее площади"
   ]
  },
  {
   "cell_type": "code",
   "execution_count": 4,
   "metadata": {},
   "outputs": [
    {
     "data": {
      "text/plain": [
       "\n",
       "Call:\n",
       "lm(formula = price ~ totsp, data = flats)\n",
       "\n",
       "Residuals:\n",
       "    Min      1Q  Median      3Q     Max \n",
       "-120.58  -17.44   -3.56   10.99  444.52 \n",
       "\n",
       "Coefficients:\n",
       "             Estimate Std. Error t value Pr(>|t|)    \n",
       "(Intercept) -62.04484    3.71178  -16.72   <2e-16 ***\n",
       "totsp         2.59346    0.04973   52.15   <2e-16 ***\n",
       "---\n",
       "Signif. codes:  0 ‘***’ 0.001 ‘**’ 0.01 ‘*’ 0.05 ‘.’ 0.1 ‘ ’ 1\n",
       "\n",
       "Residual standard error: 33.96 on 2038 degrees of freedom\n",
       "Multiple R-squared:  0.5716,\tAdjusted R-squared:  0.5714 \n",
       "F-statistic:  2719 on 1 and 2038 DF,  p-value: < 2.2e-16\n"
      ]
     },
     "metadata": {},
     "output_type": "display_data"
    }
   ],
   "source": [
    "model <- lm(price ~ totsp, data = flats)\n",
    "summary(model)"
   ]
  },
  {
   "cell_type": "markdown",
   "metadata": {},
   "source": [
    "Ковариационная матрица вектора $\\widehat{\\theta}$ в условиях гомоскедастичности, что в данном случае не выполнено."
   ]
  },
  {
   "cell_type": "code",
   "execution_count": 5,
   "metadata": {},
   "outputs": [
    {
     "data": {
      "text/html": [
       "<table>\n",
       "<caption>A matrix: 2 × 2 of type dbl</caption>\n",
       "<thead>\n",
       "\t<tr><th></th><th scope=col>(Intercept)</th><th scope=col>totsp</th></tr>\n",
       "</thead>\n",
       "<tbody>\n",
       "\t<tr><th scope=row>(Intercept)</th><td>13.7772925</td><td>-0.180775186</td></tr>\n",
       "\t<tr><th scope=row>totsp</th><td>-0.1807752</td><td> 0.002473516</td></tr>\n",
       "</tbody>\n",
       "</table>\n"
      ],
      "text/latex": [
       "A matrix: 2 × 2 of type dbl\n",
       "\\begin{tabular}{r|ll}\n",
       "  & (Intercept) & totsp\\\\\n",
       "\\hline\n",
       "\t(Intercept) & 13.7772925 & -0.180775186\\\\\n",
       "\ttotsp & -0.1807752 &  0.002473516\\\\\n",
       "\\end{tabular}\n"
      ],
      "text/markdown": [
       "\n",
       "A matrix: 2 × 2 of type dbl\n",
       "\n",
       "| <!--/--> | (Intercept) | totsp |\n",
       "|---|---|---|\n",
       "| (Intercept) | 13.7772925 | -0.180775186 |\n",
       "| totsp | -0.1807752 |  0.002473516 |\n",
       "\n"
      ],
      "text/plain": [
       "            (Intercept) totsp       \n",
       "(Intercept) 13.7772925  -0.180775186\n",
       "totsp       -0.1807752   0.002473516"
      ]
     },
     "metadata": {},
     "output_type": "display_data"
    }
   ],
   "source": [
    "vcov(model)"
   ]
  },
  {
   "cell_type": "markdown",
   "metadata": {},
   "source": [
    "У нас явная гетероскедастичность, проверим это критериями"
   ]
  },
  {
   "cell_type": "code",
   "execution_count": 6,
   "metadata": {},
   "outputs": [
    {
     "data": {
      "text/plain": [
       "\n",
       "\tstudentized Breusch-Pagan test\n",
       "\n",
       "data:  model\n",
       "BP = 201.95, df = 1, p-value < 2.2e-16\n"
      ]
     },
     "metadata": {},
     "output_type": "display_data"
    },
    {
     "data": {
      "text/plain": [
       "\n",
       "\tGoldfeld-Quandt test\n",
       "\n",
       "data:  price ~ totsp\n",
       "GQ = 8.2121, df1 = 814, df2 = 814, p-value < 2.2e-16\n",
       "alternative hypothesis: variance increases from segment 1 to 2\n"
      ]
     },
     "metadata": {},
     "output_type": "display_data"
    }
   ],
   "source": [
    "bptest(model)\n",
    "gqtest(price ~ totsp, data = flats, fraction = 0.2, order.by = ~ totsp)"
   ]
  },
  {
   "cell_type": "markdown",
   "metadata": {},
   "source": [
    "Правильную оценку ковариационной матрицы вектора $\\widehat{\\theta}$ в условиях гетероскедастичности позволяет получить функция `vcovHC`. Возможные следующие виды оценок:\n",
    "\n",
    "`type = c(\"HC3\", \"const\", \"HC\", \"HC0\", \"HC1\", \"HC2\", \"HC4\", \"HC4m\", \"HC5\")`\n",
    "\n",
    "Справка по функции:"
   ]
  },
  {
   "cell_type": "code",
   "execution_count": 7,
   "metadata": {},
   "outputs": [],
   "source": [
    "?vcovHC"
   ]
  },
  {
   "cell_type": "markdown",
   "metadata": {},
   "source": [
    "Посчитаем эту оценку"
   ]
  },
  {
   "cell_type": "code",
   "execution_count": 8,
   "metadata": {},
   "outputs": [
    {
     "data": {
      "text/html": [
       "<table>\n",
       "<caption>A matrix: 2 × 2 of type dbl</caption>\n",
       "<thead>\n",
       "\t<tr><th></th><th scope=col>(Intercept)</th><th scope=col>totsp</th></tr>\n",
       "</thead>\n",
       "<tbody>\n",
       "\t<tr><th scope=row>(Intercept)</th><td>61.7662920</td><td>-0.89503034</td></tr>\n",
       "\t<tr><th scope=row>totsp</th><td>-0.8950303</td><td> 0.01303563</td></tr>\n",
       "</tbody>\n",
       "</table>\n"
      ],
      "text/latex": [
       "A matrix: 2 × 2 of type dbl\n",
       "\\begin{tabular}{r|ll}\n",
       "  & (Intercept) & totsp\\\\\n",
       "\\hline\n",
       "\t(Intercept) & 61.7662920 & -0.89503034\\\\\n",
       "\ttotsp & -0.8950303 &  0.01303563\\\\\n",
       "\\end{tabular}\n"
      ],
      "text/markdown": [
       "\n",
       "A matrix: 2 × 2 of type dbl\n",
       "\n",
       "| <!--/--> | (Intercept) | totsp |\n",
       "|---|---|---|\n",
       "| (Intercept) | 61.7662920 | -0.89503034 |\n",
       "| totsp | -0.8950303 |  0.01303563 |\n",
       "\n"
      ],
      "text/plain": [
       "            (Intercept) totsp      \n",
       "(Intercept) 61.7662920  -0.89503034\n",
       "totsp       -0.8950303   0.01303563"
      ]
     },
     "metadata": {},
     "output_type": "display_data"
    }
   ],
   "source": [
    "vcovHC(model)"
   ]
  },
  {
   "cell_type": "markdown",
   "metadata": {},
   "source": [
    "Правильные значения таблицы свойств коэффициентов в условиях гетероскедастичности можно получить, передав явно оценку ковариационной матрицы"
   ]
  },
  {
   "cell_type": "code",
   "execution_count": 9,
   "metadata": {},
   "outputs": [
    {
     "data": {
      "text/plain": [
       "\n",
       "t test of coefficients:\n",
       "\n",
       "             Estimate Std. Error t value  Pr(>|t|)    \n",
       "(Intercept) -62.04484    7.85915 -7.8946 4.716e-15 ***\n",
       "totsp         2.59346    0.11417 22.7151 < 2.2e-16 ***\n",
       "---\n",
       "Signif. codes:  0 ‘***’ 0.001 ‘**’ 0.01 ‘*’ 0.05 ‘.’ 0.1 ‘ ’ 1\n"
      ]
     },
     "metadata": {},
     "output_type": "display_data"
    }
   ],
   "source": [
    "coef.table <- coeftest(model, vcov = vcovHC(model))\n",
    "coef.table"
   ]
  },
  {
   "cell_type": "markdown",
   "metadata": {},
   "source": [
    "Асимптотический доверительный интервал для коэффициентов "
   ]
  },
  {
   "cell_type": "code",
   "execution_count": 10,
   "metadata": {},
   "outputs": [
    {
     "data": {
      "text/html": [
       "<table>\n",
       "<caption>A matrix: 2 × 2 of type dbl</caption>\n",
       "<thead>\n",
       "\t<tr><th></th><th scope=col>2.5 %</th><th scope=col>97.5 %</th></tr>\n",
       "</thead>\n",
       "<tbody>\n",
       "\t<tr><th scope=row>(Intercept)</th><td>-77.457655</td><td>-46.632033</td></tr>\n",
       "\t<tr><th scope=row>totsp</th><td>  2.369553</td><td>  2.817372</td></tr>\n",
       "</tbody>\n",
       "</table>\n"
      ],
      "text/latex": [
       "A matrix: 2 × 2 of type dbl\n",
       "\\begin{tabular}{r|ll}\n",
       "  & 2.5 \\% & 97.5 \\%\\\\\n",
       "\\hline\n",
       "\t(Intercept) & -77.457655 & -46.632033\\\\\n",
       "\ttotsp &   2.369553 &   2.817372\\\\\n",
       "\\end{tabular}\n"
      ],
      "text/markdown": [
       "\n",
       "A matrix: 2 × 2 of type dbl\n",
       "\n",
       "| <!--/--> | 2.5 % | 97.5 % |\n",
       "|---|---|---|\n",
       "| (Intercept) | -77.457655 | -46.632033 |\n",
       "| totsp |   2.369553 |   2.817372 |\n",
       "\n"
      ],
      "text/plain": [
       "            2.5 %      97.5 %    \n",
       "(Intercept) -77.457655 -46.632033\n",
       "totsp         2.369553   2.817372"
      ]
     },
     "metadata": {},
     "output_type": "display_data"
    }
   ],
   "source": [
    "coefci(model, vcov = vcovHC(model))"
   ]
  },
  {
   "cell_type": "markdown",
   "metadata": {},
   "source": [
    "Для примера можно его построить руками"
   ]
  },
  {
   "cell_type": "code",
   "execution_count": 11,
   "metadata": {},
   "outputs": [
    {
     "data": {
      "text/html": [
       "<table>\n",
       "<caption>A data.frame: 2 × 4</caption>\n",
       "<thead>\n",
       "\t<tr><th></th><th scope=col>estimate</th><th scope=col>std_err</th><th scope=col>left</th><th scope=col>right</th></tr>\n",
       "\t<tr><th></th><th scope=col>&lt;dbl&gt;</th><th scope=col>&lt;dbl&gt;</th><th scope=col>&lt;dbl&gt;</th><th scope=col>&lt;dbl&gt;</th></tr>\n",
       "</thead>\n",
       "<tbody>\n",
       "\t<tr><th scope=row>(Intercept)</th><td>-62.044844</td><td>7.8591534</td><td>-77.448501</td><td>-46.641186</td></tr>\n",
       "\t<tr><th scope=row>totsp</th><td>  2.593462</td><td>0.1141737</td><td>  2.369686</td><td>  2.817239</td></tr>\n",
       "</tbody>\n",
       "</table>\n"
      ],
      "text/latex": [
       "A data.frame: 2 × 4\n",
       "\\begin{tabular}{r|llll}\n",
       "  & estimate & std\\_err & left & right\\\\\n",
       "  & <dbl> & <dbl> & <dbl> & <dbl>\\\\\n",
       "\\hline\n",
       "\t(Intercept) & -62.044844 & 7.8591534 & -77.448501 & -46.641186\\\\\n",
       "\ttotsp &   2.593462 & 0.1141737 &   2.369686 &   2.817239\\\\\n",
       "\\end{tabular}\n"
      ],
      "text/markdown": [
       "\n",
       "A data.frame: 2 × 4\n",
       "\n",
       "| <!--/--> | estimate &lt;dbl&gt; | std_err &lt;dbl&gt; | left &lt;dbl&gt; | right &lt;dbl&gt; |\n",
       "|---|---|---|---|---|\n",
       "| (Intercept) | -62.044844 | 7.8591534 | -77.448501 | -46.641186 |\n",
       "| totsp |   2.593462 | 0.1141737 |   2.369686 |   2.817239 |\n",
       "\n"
      ],
      "text/plain": [
       "            estimate   std_err   left       right     \n",
       "(Intercept) -62.044844 7.8591534 -77.448501 -46.641186\n",
       "totsp         2.593462 0.1141737   2.369686   2.817239"
      ]
     },
     "metadata": {},
     "output_type": "display_data"
    }
   ],
   "source": [
    "ci <- data.frame(estimate = coef.table[, 1], \n",
    "                 std_err = coef.table[, 2],\n",
    "                 left = coef.table[, 1] - qnorm(0.975) * coef.table[, 2],\n",
    "                 right = coef.table[, 1] + qnorm(0.975) * coef.table[, 2])\n",
    "ci"
   ]
  },
  {
   "cell_type": "markdown",
   "metadata": {},
   "source": [
    "Рассмотрим регрессию, задаваемую формулой `price ~ totsp + livesp + dist`. С помощью критерия Вальда проверим гипотезу о незначимости признаков `livesp`, `dist`."
   ]
  },
  {
   "cell_type": "code",
   "execution_count": 12,
   "metadata": {},
   "outputs": [
    {
     "data": {
      "text/html": [
       "<table>\n",
       "<caption>A anova: 2 × 4</caption>\n",
       "<thead>\n",
       "\t<tr><th scope=col>Res.Df</th><th scope=col>Df</th><th scope=col>F</th><th scope=col>Pr(&gt;F)</th></tr>\n",
       "\t<tr><th scope=col>&lt;dbl&gt;</th><th scope=col>&lt;dbl&gt;</th><th scope=col>&lt;dbl&gt;</th><th scope=col>&lt;dbl&gt;</th></tr>\n",
       "</thead>\n",
       "<tbody>\n",
       "\t<tr><td>2038</td><td>NA</td><td>      NA</td><td>          NA</td></tr>\n",
       "\t<tr><td>2036</td><td> 2</td><td>158.2786</td><td>1.281947e-64</td></tr>\n",
       "</tbody>\n",
       "</table>\n"
      ],
      "text/latex": [
       "A anova: 2 × 4\n",
       "\\begin{tabular}{r|llll}\n",
       " Res.Df & Df & F & Pr(>F)\\\\\n",
       " <dbl> & <dbl> & <dbl> & <dbl>\\\\\n",
       "\\hline\n",
       "\t 2038 & NA &       NA &           NA\\\\\n",
       "\t 2036 &  2 & 158.2786 & 1.281947e-64\\\\\n",
       "\\end{tabular}\n"
      ],
      "text/markdown": [
       "\n",
       "A anova: 2 × 4\n",
       "\n",
       "| Res.Df &lt;dbl&gt; | Df &lt;dbl&gt; | F &lt;dbl&gt; | Pr(&gt;F) &lt;dbl&gt; |\n",
       "|---|---|---|---|\n",
       "| 2038 | NA |       NA |           NA |\n",
       "| 2036 |  2 | 158.2786 | 1.281947e-64 |\n",
       "\n"
      ],
      "text/plain": [
       "  Res.Df Df F        Pr(>F)      \n",
       "1 2038   NA       NA           NA\n",
       "2 2036    2 158.2786 1.281947e-64"
      ]
     },
     "metadata": {},
     "output_type": "display_data"
    }
   ],
   "source": [
    "model_2 <- lm(price ~ totsp + livesp + dist, data = flats)\n",
    "waldtest(model, model_2, vcov = vcovHC(model_2))"
   ]
  }
 ],
 "metadata": {
  "hide_input": false,
  "kernelspec": {
   "display_name": "R",
   "language": "R",
   "name": "ir"
  },
  "language_info": {
   "codemirror_mode": "r",
   "file_extension": ".r",
   "mimetype": "text/x-r-source",
   "name": "R",
   "pygments_lexer": "r",
   "version": "3.6.2"
  }
 },
 "nbformat": 4,
 "nbformat_minor": 2
}
