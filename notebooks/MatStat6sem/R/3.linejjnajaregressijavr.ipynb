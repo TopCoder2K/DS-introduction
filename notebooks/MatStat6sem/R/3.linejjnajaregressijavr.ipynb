{
 "cells": [
  {
   "cell_type": "code",
   "execution_count": 1,
   "metadata": {
    "id": "PCIzxcyJhyi0"
   },
   "outputs": [],
   "source": [
    "# настройка размера графиков\n",
    "options(repr.plot.width = 8, repr.plot.height = 6)"
   ]
  },
  {
   "cell_type": "markdown",
   "metadata": {
    "id": "ziNcUJ3BitzN"
   },
   "source": [
    "## Регрессия: [датасет Yacht Hydrodynamics](http://archive.ics.uci.edu/ml/datasets/Yacht+Hydrodynamics)\n",
    "\n",
    "Для парусных яхт нужно предсказать остаточное сопротивление на единицу массы смещения от размеров яхты и ее скорости."
   ]
  },
  {
   "cell_type": "markdown",
   "metadata": {
    "id": "oaygtHLf4Iiq"
   },
   "source": [
    "### Загрузка данных"
   ]
  },
  {
   "cell_type": "code",
   "execution_count": 2,
   "metadata": {
    "colab": {
     "base_uri": "https://localhost:8080/",
     "height": 272
    },
    "id": "poSx9YbPi87n",
    "outputId": "01963e0b-c0c9-4fc6-d54f-7e9dd5fb3c80"
   },
   "outputs": [
    {
     "data": {
      "text/html": [
       "<table class=\"dataframe\">\n",
       "<caption>A data.frame: 5 × 7</caption>\n",
       "<thead>\n",
       "\t<tr><th></th><th scope=col>Longitudinal_position</th><th scope=col>Prismatic_coefficient</th><th scope=col>Length.displacement_ratio</th><th scope=col>Beam.draught_ratio</th><th scope=col>Length.beam_ratio</th><th scope=col>Froude_number</th><th scope=col>Residuary_resistance</th></tr>\n",
       "\t<tr><th></th><th scope=col>&lt;dbl&gt;</th><th scope=col>&lt;dbl&gt;</th><th scope=col>&lt;dbl&gt;</th><th scope=col>&lt;dbl&gt;</th><th scope=col>&lt;dbl&gt;</th><th scope=col>&lt;dbl&gt;</th><th scope=col>&lt;dbl&gt;</th></tr>\n",
       "</thead>\n",
       "<tbody>\n",
       "\t<tr><th scope=row>1</th><td>-2.3</td><td>0.568</td><td>4.78</td><td>3.99</td><td>3.17</td><td>0.125</td><td>0.11</td></tr>\n",
       "\t<tr><th scope=row>2</th><td>-2.3</td><td>0.568</td><td>4.78</td><td>3.99</td><td>3.17</td><td>0.150</td><td>0.27</td></tr>\n",
       "\t<tr><th scope=row>3</th><td>-2.3</td><td>0.568</td><td>4.78</td><td>3.99</td><td>3.17</td><td>0.175</td><td>0.47</td></tr>\n",
       "\t<tr><th scope=row>4</th><td>-2.3</td><td>0.568</td><td>4.78</td><td>3.99</td><td>3.17</td><td>0.200</td><td>0.78</td></tr>\n",
       "\t<tr><th scope=row>5</th><td>-2.3</td><td>0.568</td><td>4.78</td><td>3.99</td><td>3.17</td><td>0.225</td><td>1.18</td></tr>\n",
       "</tbody>\n",
       "</table>\n"
      ],
      "text/latex": [
       "A data.frame: 5 × 7\n",
       "\\begin{tabular}{r|lllllll}\n",
       "  & Longitudinal\\_position & Prismatic\\_coefficient & Length.displacement\\_ratio & Beam.draught\\_ratio & Length.beam\\_ratio & Froude\\_number & Residuary\\_resistance\\\\\n",
       "  & <dbl> & <dbl> & <dbl> & <dbl> & <dbl> & <dbl> & <dbl>\\\\\n",
       "\\hline\n",
       "\t1 & -2.3 & 0.568 & 4.78 & 3.99 & 3.17 & 0.125 & 0.11\\\\\n",
       "\t2 & -2.3 & 0.568 & 4.78 & 3.99 & 3.17 & 0.150 & 0.27\\\\\n",
       "\t3 & -2.3 & 0.568 & 4.78 & 3.99 & 3.17 & 0.175 & 0.47\\\\\n",
       "\t4 & -2.3 & 0.568 & 4.78 & 3.99 & 3.17 & 0.200 & 0.78\\\\\n",
       "\t5 & -2.3 & 0.568 & 4.78 & 3.99 & 3.17 & 0.225 & 1.18\\\\\n",
       "\\end{tabular}\n"
      ],
      "text/markdown": [
       "\n",
       "A data.frame: 5 × 7\n",
       "\n",
       "| <!--/--> | Longitudinal_position &lt;dbl&gt; | Prismatic_coefficient &lt;dbl&gt; | Length.displacement_ratio &lt;dbl&gt; | Beam.draught_ratio &lt;dbl&gt; | Length.beam_ratio &lt;dbl&gt; | Froude_number &lt;dbl&gt; | Residuary_resistance &lt;dbl&gt; |\n",
       "|---|---|---|---|---|---|---|---|\n",
       "| 1 | -2.3 | 0.568 | 4.78 | 3.99 | 3.17 | 0.125 | 0.11 |\n",
       "| 2 | -2.3 | 0.568 | 4.78 | 3.99 | 3.17 | 0.150 | 0.27 |\n",
       "| 3 | -2.3 | 0.568 | 4.78 | 3.99 | 3.17 | 0.175 | 0.47 |\n",
       "| 4 | -2.3 | 0.568 | 4.78 | 3.99 | 3.17 | 0.200 | 0.78 |\n",
       "| 5 | -2.3 | 0.568 | 4.78 | 3.99 | 3.17 | 0.225 | 1.18 |\n",
       "\n"
      ],
      "text/plain": [
       "  Longitudinal_position Prismatic_coefficient Length.displacement_ratio\n",
       "1 -2.3                  0.568                 4.78                     \n",
       "2 -2.3                  0.568                 4.78                     \n",
       "3 -2.3                  0.568                 4.78                     \n",
       "4 -2.3                  0.568                 4.78                     \n",
       "5 -2.3                  0.568                 4.78                     \n",
       "  Beam.draught_ratio Length.beam_ratio Froude_number Residuary_resistance\n",
       "1 3.99               3.17              0.125         0.11                \n",
       "2 3.99               3.17              0.150         0.27                \n",
       "3 3.99               3.17              0.175         0.47                \n",
       "4 3.99               3.17              0.200         0.78                \n",
       "5 3.99               3.17              0.225         1.18                "
      ]
     },
     "metadata": {
      "tags": []
     },
     "output_type": "display_data"
    }
   ],
   "source": [
    "data <- read.table('yacht_hydrodynamics.data', header = TRUE, sep = ',')\n",
    "data[1:5,]"
   ]
  },
  {
   "cell_type": "markdown",
   "metadata": {
    "id": "zDKQQDSwoqWJ"
   },
   "source": [
    "### Разбиение данных на обучающую и тестовую выборки\n",
    "[createDataPartition](https://www.rdocumentation.org/packages/caret/versions/6.0-86/topics/createDataPartition) `(y,\n",
    "  times = 1,\n",
    "  p = 0.5,\n",
    "  list = TRUE,\n",
    "  groups = min(5, length(y))\n",
    ")` — функция для разделения данных. Требуется пакет 'caret'.\n",
    "\n",
    "Возвращает индексы объектов для обучения.\n",
    "\n",
    "* `y` — данные;\n",
    "\n",
    "* `times` — колличество разделений;\n",
    "\n",
    "* `p` — процент данных для train'а;\n",
    "\n",
    "* `list` — если TRUE, результат в виде списка, иначе матрица с floor(p * length(y)) строками и times столбцами;\n",
    "\n",
    "* `groups` — для числовых данных количество разбиений данных по квантилям для дальнейшего сэмплирования в каждом промежутке.\n"
   ]
  },
  {
   "cell_type": "code",
   "execution_count": 1,
   "metadata": {
    "ExecuteTime": {
     "end_time": "2021-02-14T08:00:46.582599Z",
     "start_time": "2021-02-14T07:56:59.842Z"
    },
    "colab": {
     "base_uri": "https://localhost:8080/"
    },
    "id": "5tIm83qpjW_N",
    "outputId": "d1febfa6-553f-4ac0-a40d-efcfb77d5a8e"
   },
   "outputs": [
    {
     "name": "stderr",
     "output_type": "stream",
     "text": [
      "also installing the dependencies ‘numDeriv’, ‘SQUAREM’, ‘lava’, ‘glue’, ‘lifecycle’, ‘rlang’, ‘vctrs’, ‘prodlim’, ‘cpp11’, ‘iterators’, ‘data.table’, ‘dplyr’, ‘generics’, ‘gower’, ‘ipred’, ‘lubridate’, ‘purrr’, ‘tidyr’, ‘tidyselect’, ‘timeDate’, ‘foreach’, ‘ModelMetrics’, ‘recipes’, ‘pROC’\n",
      "\n",
      "\n",
      "Warning message in install.packages(\"caret\"):\n",
      "“installation of package ‘lava’ had non-zero exit status”\n",
      "Warning message in install.packages(\"caret\"):\n",
      "“installation of package ‘prodlim’ had non-zero exit status”\n",
      "Warning message in install.packages(\"caret\"):\n",
      "“installation of package ‘ipred’ had non-zero exit status”\n",
      "Warning message in install.packages(\"caret\"):\n",
      "“installation of package ‘recipes’ had non-zero exit status”\n",
      "Warning message in install.packages(\"caret\"):\n",
      "“installation of package ‘caret’ had non-zero exit status”\n",
      "Updating HTML index of packages in '.Library'\n",
      "\n",
      "Making 'packages.html' ...\n",
      " done\n",
      "\n"
     ]
    },
    {
     "ename": "ERROR",
     "evalue": "Error in library(caret): there is no package called ‘caret’\n",
     "output_type": "error",
     "traceback": [
      "Error in library(caret): there is no package called ‘caret’\nTraceback:\n",
      "1. library(caret)"
     ]
    }
   ],
   "source": [
    "# установка пакета\n",
    "install.packages('caret')\n",
    "library(caret)"
   ]
  },
  {
   "cell_type": "code",
   "execution_count": 4,
   "metadata": {
    "id": "Yg1Io8EmlESJ"
   },
   "outputs": [],
   "source": [
    "# разбиение данных\n",
    "partition <- createDataPartition(data$Residuary_resistance, p = 0.7, list = FALSE)\n",
    "train <- data[partition,]\n",
    "test <- data[-partition,]"
   ]
  },
  {
   "cell_type": "markdown",
   "metadata": {
    "id": "aVQNDSkr4CEG"
   },
   "source": [
    "### Обучение\n",
    "\n",
    "[lm](https://www.rdocumentation.org/packages/stats/versions/3.6.2/topics/lm)`(formula, data, subset, weights, na.action,\n",
    "   method = \"qr\", model = TRUE, x = FALSE, y = FALSE, qr = TRUE,\n",
    "   singular.ok = TRUE, contrasts = NULL, offset, …)` — функция для построения линейных моделей.\n",
    "\n",
    "   * `formula` — формула;\n",
    "   * `data` — данные;\n",
    "   * `subset` — указывает на подмножество наблюдений, которые нужно использоваться для обучения;\n",
    "   * `weights` — веса для взвешенного МНК;\n",
    "   * `na.action` — функция, указывающая, что делать с пропусками.\n",
    "\n",
    "Возврвщает объект с полями:\n",
    "* `coefficients` — вектор коэффициентов\n",
    "* `residuals` — остатки модели\n",
    "\n",
    "Полная справка:"
   ]
  },
  {
   "cell_type": "code",
   "execution_count": 5,
   "metadata": {
    "id": "OM9g4CVZ3wuG"
   },
   "outputs": [],
   "source": [
    "#?lm"
   ]
  },
  {
   "cell_type": "markdown",
   "metadata": {
    "id": "ZGjdyfbq_VUI"
   },
   "source": [
    "Обучаем на train модель вида $Residuary\\_resistance  \\sim \\theta_1 + \\theta_1 \\cdot Froude_number$."
   ]
  },
  {
   "cell_type": "code",
   "execution_count": 6,
   "metadata": {
    "colab": {
     "base_uri": "https://localhost:8080/",
     "height": 136
    },
    "id": "co8h7aIT3ymE",
    "outputId": "8fe4dc9d-3407-4bab-829c-efaa0e469c16"
   },
   "outputs": [
    {
     "data": {
      "text/plain": [
       "\n",
       "Call:\n",
       "lm(formula = Residuary_resistance ~ Froude_number, data = train)\n",
       "\n",
       "Coefficients:\n",
       "  (Intercept)  Froude_number  \n",
       "        -25.1          123.3  \n"
      ]
     },
     "metadata": {
      "tags": []
     },
     "output_type": "display_data"
    }
   ],
   "source": [
    "# обучение модели\n",
    "model <- lm(formula = Residuary_resistance ~ Froude_number, data = train)\n",
    "model"
   ]
  },
  {
   "cell_type": "markdown",
   "metadata": {
    "id": "N9k9E7sSFyEd"
   },
   "source": [
    "Оценки параметров линейной регрессии:"
   ]
  },
  {
   "cell_type": "code",
   "execution_count": 7,
   "metadata": {
    "colab": {
     "base_uri": "https://localhost:8080/",
     "height": 51
    },
    "id": "pAueMhxwEuFB",
    "outputId": "ed5e4027-eefb-4d5a-fac6-6e0761b9e52e"
   },
   "outputs": [
    {
     "data": {
      "text/html": [
       "<style>\n",
       ".dl-inline {width: auto; margin:0; padding: 0}\n",
       ".dl-inline>dt, .dl-inline>dd {float: none; width: auto; display: inline-block}\n",
       ".dl-inline>dt::after {content: \":\\0020\"; padding-right: .5ex}\n",
       ".dl-inline>dt:not(:first-of-type) {padding-left: .5ex}\n",
       "</style><dl class=dl-inline><dt>(Intercept)</dt><dd>-25.0975321279945</dd><dt>Froude_number</dt><dd>123.298829161007</dd></dl>\n"
      ],
      "text/latex": [
       "\\begin{description*}\n",
       "\\item[(Intercept)] -25.0975321279945\n",
       "\\item[Froude\\textbackslash{}\\_number] 123.298829161007\n",
       "\\end{description*}\n"
      ],
      "text/markdown": [
       "(Intercept)\n",
       ":   -25.0975321279945Froude_number\n",
       ":   123.298829161007\n",
       "\n"
      ],
      "text/plain": [
       "  (Intercept) Froude_number \n",
       "    -25.09753     123.29883 "
      ]
     },
     "metadata": {
      "tags": []
     },
     "output_type": "display_data"
    },
    {
     "data": {
      "text/html": [
       "<strong>(Intercept):</strong> -25.0975321279945"
      ],
      "text/latex": [
       "\\textbf{(Intercept):} -25.0975321279945"
      ],
      "text/markdown": [
       "**(Intercept):** -25.0975321279945"
      ],
      "text/plain": [
       "(Intercept) \n",
       "  -25.09753 "
      ]
     },
     "metadata": {
      "tags": []
     },
     "output_type": "display_data"
    }
   ],
   "source": [
    "# все коэффициенты\n",
    "model$coefficients \n",
    "\n",
    "# взять первый коэффициент\n",
    "model$coefficients[1]"
   ]
  },
  {
   "cell_type": "markdown",
   "metadata": {
    "id": "iouLTD-PGDSP"
   },
   "source": [
    "Ковариационная матрица вектора $\\widehat \\theta$ в условиях гомоскедастичности:"
   ]
  },
  {
   "cell_type": "code",
   "execution_count": 8,
   "metadata": {
    "colab": {
     "base_uri": "https://localhost:8080/",
     "height": 128
    },
    "id": "ji-n00iMF-Xm",
    "outputId": "1f69a975-7ebd-4f06-d333-5c27ad8f5ca8"
   },
   "outputs": [
    {
     "data": {
      "text/html": [
       "<table class=\"dataframe\">\n",
       "<caption>A matrix: 2 × 2 of type dbl</caption>\n",
       "<thead>\n",
       "\t<tr><th></th><th scope=col>(Intercept)</th><th scope=col>Froude_number</th></tr>\n",
       "</thead>\n",
       "<tbody>\n",
       "\t<tr><th scope=row>(Intercept)</th><td>  3.46472</td><td>-10.71682</td></tr>\n",
       "\t<tr><th scope=row>Froude_number</th><td>-10.71682</td><td> 37.09670</td></tr>\n",
       "</tbody>\n",
       "</table>\n"
      ],
      "text/latex": [
       "A matrix: 2 × 2 of type dbl\n",
       "\\begin{tabular}{r|ll}\n",
       "  & (Intercept) & Froude\\_number\\\\\n",
       "\\hline\n",
       "\t(Intercept) &   3.46472 & -10.71682\\\\\n",
       "\tFroude\\_number & -10.71682 &  37.09670\\\\\n",
       "\\end{tabular}\n"
      ],
      "text/markdown": [
       "\n",
       "A matrix: 2 × 2 of type dbl\n",
       "\n",
       "| <!--/--> | (Intercept) | Froude_number |\n",
       "|---|---|---|\n",
       "| (Intercept) |   3.46472 | -10.71682 |\n",
       "| Froude_number | -10.71682 |  37.09670 |\n",
       "\n"
      ],
      "text/plain": [
       "              (Intercept) Froude_number\n",
       "(Intercept)     3.46472   -10.71682    \n",
       "Froude_number -10.71682    37.09670    "
      ]
     },
     "metadata": {
      "tags": []
     },
     "output_type": "display_data"
    }
   ],
   "source": [
    "vcov(model)"
   ]
  },
  {
   "cell_type": "markdown",
   "metadata": {
    "id": "lMi6WT_2GclX"
   },
   "source": [
    "Для записи формулы, с зависимостью от нескольких параметров, например $Residuary\\_resistance  \\sim \\theta_1 + \\theta_1 \\cdot Froude_number + \\theta_2 \\cdot Prismatic\\_coefficient$, можно записать названия признаков через `+`."
   ]
  },
  {
   "cell_type": "code",
   "execution_count": 9,
   "metadata": {
    "colab": {
     "base_uri": "https://localhost:8080/",
     "height": 153
    },
    "id": "R1tD7rm_GSae",
    "outputId": "a66d74b4-5dbb-44a0-9b6e-edeb396a989b"
   },
   "outputs": [
    {
     "data": {
      "text/plain": [
       "\n",
       "Call:\n",
       "lm(formula = Residuary_resistance ~ Froude_number + Prismatic_coefficient, \n",
       "    data = train)\n",
       "\n",
       "Coefficients:\n",
       "          (Intercept)          Froude_number  Prismatic_coefficient  \n",
       "               -16.36                 123.51                 -15.58  \n"
      ]
     },
     "metadata": {
      "tags": []
     },
     "output_type": "display_data"
    }
   ],
   "source": [
    "model2 <- lm(formula = Residuary_resistance ~ Froude_number + Prismatic_coefficient, data = train)\n",
    "model2"
   ]
  },
  {
   "cell_type": "markdown",
   "metadata": {
    "id": "0k4ZLtMzG_lf"
   },
   "source": [
    "### Свойства (в гауссовской линейной модели)\n",
    "Функция [summary](https://www.rdocumentation.org/packages/base/versions/3.6.2/topics/summary)`(object, …)` печатает:\n",
    "\n",
    "* Остатки: минимум, 0.25-квантиль, медиана, 0.75-квантиль, максимум\n",
    "* Для каждого коэффициента: его оценка, стандартная ошибка, значение t-статистики гипотезы о\n",
    "незначимости коэффициента, pvalue этой гипотезы, звездочки значимости (чем больше, тем более\n",
    "значим коэффициент)\n",
    "* RSS и число степеней свободы, R^2 и его поправленная версия, значение F-статистики критерия\n",
    "Фишера о значимости регрессии вообще, число степеней свободы распределения Фишера, pvalue\n",
    "этой гипотезы.\n",
    "\n",
    "Для данной модели оба признака значимы, поскольку pvalue мало. То есть отвергаются гипотезы $\\theta_1 = 0$ и $\\theta_2 = 0$."
   ]
  },
  {
   "cell_type": "code",
   "execution_count": 10,
   "metadata": {
    "colab": {
     "base_uri": "https://localhost:8080/",
     "height": 323
    },
    "id": "y7iPm2fdG5SJ",
    "outputId": "7ae4a38f-4e94-4dc0-8396-80f945bc4c3f"
   },
   "outputs": [
    {
     "data": {
      "text/plain": [
       "\n",
       "Call:\n",
       "lm(formula = Residuary_resistance ~ Froude_number, data = train)\n",
       "\n",
       "Residuals:\n",
       "    Min      1Q  Median      3Q     Max \n",
       "-11.197  -7.415  -1.605   6.690  30.463 \n",
       "\n",
       "Coefficients:\n",
       "              Estimate Std. Error t value Pr(>|t|)    \n",
       "(Intercept)    -25.098      1.861  -13.48   <2e-16 ***\n",
       "Froude_number  123.299      6.091   20.24   <2e-16 ***\n",
       "---\n",
       "Signif. codes:  0 ‘***’ 0.001 ‘**’ 0.01 ‘*’ 0.05 ‘.’ 0.1 ‘ ’ 1\n",
       "\n",
       "Residual standard error: 8.925 on 214 degrees of freedom\n",
       "Multiple R-squared:  0.6569,\tAdjusted R-squared:  0.6553 \n",
       "F-statistic: 409.8 on 1 and 214 DF,  p-value: < 2.2e-16\n"
      ]
     },
     "metadata": {
      "tags": []
     },
     "output_type": "display_data"
    }
   ],
   "source": [
    "summary(model)"
   ]
  },
  {
   "cell_type": "markdown",
   "metadata": {
    "id": "86gwbngzK9_p"
   },
   "source": [
    "Можно вытащить отдельные числа:\n",
    "\n"
   ]
  },
  {
   "cell_type": "code",
   "execution_count": 11,
   "metadata": {
    "colab": {
     "base_uri": "https://localhost:8080/",
     "height": 34
    },
    "id": "yzTLM7gbK8Ap",
    "outputId": "b697fa79-befb-4a8c-ec6d-97c74abf8c73"
   },
   "outputs": [
    {
     "data": {
      "text/html": [
       "0.656946854624293"
      ],
      "text/latex": [
       "0.656946854624293"
      ],
      "text/markdown": [
       "0.656946854624293"
      ],
      "text/plain": [
       "[1] 0.6569469"
      ]
     },
     "metadata": {
      "tags": []
     },
     "output_type": "display_data"
    }
   ],
   "source": [
    "summary(model)$r.squared"
   ]
  },
  {
   "cell_type": "markdown",
   "metadata": {
    "id": "yxMM69TOLHpJ"
   },
   "source": [
    "Доверительные интервалы для коэффициентов:"
   ]
  },
  {
   "cell_type": "code",
   "execution_count": 12,
   "metadata": {
    "colab": {
     "base_uri": "https://localhost:8080/",
     "height": 128
    },
    "id": "XYkyo-adK02k",
    "outputId": "c92faeb2-e4c5-47e1-e12e-5b8122d98a59"
   },
   "outputs": [
    {
     "data": {
      "text/html": [
       "<table class=\"dataframe\">\n",
       "<caption>A matrix: 2 × 2 of type dbl</caption>\n",
       "<thead>\n",
       "\t<tr><th></th><th scope=col>2.5 %</th><th scope=col>97.5 %</th></tr>\n",
       "</thead>\n",
       "<tbody>\n",
       "\t<tr><th scope=row>(Intercept)</th><td>-28.76651</td><td>-21.42855</td></tr>\n",
       "\t<tr><th scope=row>Froude_number</th><td>111.29337</td><td>135.30429</td></tr>\n",
       "</tbody>\n",
       "</table>\n"
      ],
      "text/latex": [
       "A matrix: 2 × 2 of type dbl\n",
       "\\begin{tabular}{r|ll}\n",
       "  & 2.5 \\% & 97.5 \\%\\\\\n",
       "\\hline\n",
       "\t(Intercept) & -28.76651 & -21.42855\\\\\n",
       "\tFroude\\_number & 111.29337 & 135.30429\\\\\n",
       "\\end{tabular}\n"
      ],
      "text/markdown": [
       "\n",
       "A matrix: 2 × 2 of type dbl\n",
       "\n",
       "| <!--/--> | 2.5 % | 97.5 % |\n",
       "|---|---|---|\n",
       "| (Intercept) | -28.76651 | -21.42855 |\n",
       "| Froude_number | 111.29337 | 135.30429 |\n",
       "\n"
      ],
      "text/plain": [
       "              2.5 %     97.5 %   \n",
       "(Intercept)   -28.76651 -21.42855\n",
       "Froude_number 111.29337 135.30429"
      ]
     },
     "metadata": {
      "tags": []
     },
     "output_type": "display_data"
    }
   ],
   "source": [
    "confint(model, level = 0.95)"
   ]
  },
  {
   "cell_type": "markdown",
   "metadata": {
    "id": "3P0OLpAOL6EC"
   },
   "source": [
    "### Предсказания\n",
    "Предсказания строятся с помощью универсальной функции predict . Для линейной регрессии она\n",
    "эквивалентна функции predict.lm .\n",
    "\n",
    "\n",
    "[predict](https://www.rdocumentation.org/packages/stats/versions/3.6.2/topics/predict.lm)`(object, newdata, se.fit = FALSE, scale = NULL, df = Inf,\n",
    "        interval = c(\"none\", \"confidence\", \"prediction\"),\n",
    "        level = 0.95, type = c(\"response\", \"terms\"),\n",
    "        terms = NULL, na.action = na.pass,\n",
    "        pred.var = res.var/weights, weights = 1, …)`\n",
    "\n",
    "* object — обученная ранее модель;\n",
    "* se.fit — индикатор того, что требуется подсчет стандартных ошибок;\n",
    "* scale — параметр для подсчета std.err;\n",
    "* df — степени свободы scale;\n",
    "* level — уровень доверия;\n",
    "* interval — тип интервала.\n",
    "\n",
    "По ней можно получить справку:"
   ]
  },
  {
   "cell_type": "code",
   "execution_count": 13,
   "metadata": {
    "id": "SOkDyye2LKZe"
   },
   "outputs": [],
   "source": [
    "# ?predict.lm"
   ]
  },
  {
   "cell_type": "markdown",
   "metadata": {
    "id": "suf4WlJZOHvN"
   },
   "source": [
    "В предположениях гауссовской линейной модели можно построить два типа интервалов —\n",
    "доверительный ( confidence ) и предсказательный ( prediction ). Первый является доверительными\n",
    "интервалом в обычном смысле для среднего значения отклика. Второй является интервалом, в котором\n",
    "с большой вероятностью лежит само значение отклика. Второй итервал всегда шире первого.\n",
    "\n",
    "Доверительный интервал для  $x_{new}\\theta$ :\n",
    "$$x_{new}^T\\hat\\theta \\pm T_{n -k - 1, 1 -  \\alpha/2} \\hat \\sigma \\sqrt{x_{new}^T(X^TX)^{-1}x_{new}}$$\n",
    "\n",
    "Предсказательный интервал для $x_{new} \\theta + \\varepsilon$:\n",
    "$$x_{new}^T\\hat\\theta \\pm T_{n -k - 1, 1 - \\alpha / 2} \\hat \\sigma \\sqrt{1 + x_{new}^T(X^TX)^{-1}x_{new}}$$\n",
    "\n",
    "Предсказание значений на новых объектах вместе с доверительным интервалом:"
   ]
  },
  {
   "cell_type": "code",
   "execution_count": 14,
   "metadata": {
    "colab": {
     "base_uri": "https://localhost:8080/",
     "height": 159
    },
    "id": "_T9mpnCBRkeo",
    "outputId": "ef2b4917-783e-495a-8f83-82a536bfff41"
   },
   "outputs": [
    {
     "data": {
      "text/html": [
       "<table class=\"dataframe\">\n",
       "<caption>A matrix: 3 × 3 of type dbl</caption>\n",
       "<thead>\n",
       "\t<tr><th></th><th scope=col>fit</th><th scope=col>lwr</th><th scope=col>upr</th></tr>\n",
       "</thead>\n",
       "<tbody>\n",
       "\t<tr><th scope=row>25</th><td>21.139529</td><td> 19.55793</td><td>22.721123</td></tr>\n",
       "\t<tr><th scope=row>26</th><td>24.222000</td><td> 22.42977</td><td>26.014229</td></tr>\n",
       "\t<tr><th scope=row>29</th><td>-9.685178</td><td>-11.98822</td><td>-7.382139</td></tr>\n",
       "</tbody>\n",
       "</table>\n"
      ],
      "text/latex": [
       "A matrix: 3 × 3 of type dbl\n",
       "\\begin{tabular}{r|lll}\n",
       "  & fit & lwr & upr\\\\\n",
       "\\hline\n",
       "\t25 & 21.139529 &  19.55793 & 22.721123\\\\\n",
       "\t26 & 24.222000 &  22.42977 & 26.014229\\\\\n",
       "\t29 & -9.685178 & -11.98822 & -7.382139\\\\\n",
       "\\end{tabular}\n"
      ],
      "text/markdown": [
       "\n",
       "A matrix: 3 × 3 of type dbl\n",
       "\n",
       "| <!--/--> | fit | lwr | upr |\n",
       "|---|---|---|---|\n",
       "| 25 | 21.139529 |  19.55793 | 22.721123 |\n",
       "| 26 | 24.222000 |  22.42977 | 26.014229 |\n",
       "| 29 | -9.685178 | -11.98822 | -7.382139 |\n",
       "\n"
      ],
      "text/plain": [
       "   fit       lwr       upr      \n",
       "25 21.139529  19.55793 22.721123\n",
       "26 24.222000  22.42977 26.014229\n",
       "29 -9.685178 -11.98822 -7.382139"
      ]
     },
     "metadata": {
      "tags": []
     },
     "output_type": "display_data"
    }
   ],
   "source": [
    "predicted <- predict(model, test, level = 0.95, interval = 'confidence')\n",
    "predicted[1:3,]"
   ]
  },
  {
   "cell_type": "markdown",
   "metadata": {
    "id": "5oHINX7qRrtj"
   },
   "source": [
    "Предсказание значений на новых объектах вместе с предсказательным интервалом:"
   ]
  },
  {
   "cell_type": "code",
   "execution_count": 15,
   "metadata": {
    "colab": {
     "base_uri": "https://localhost:8080/",
     "height": 159
    },
    "id": "L8h27YeARmYW",
    "outputId": "0fc61b78-5162-4608-a49e-f39e2d503761"
   },
   "outputs": [
    {
     "data": {
      "text/html": [
       "<table class=\"dataframe\">\n",
       "<caption>A matrix: 3 × 3 of type dbl</caption>\n",
       "<thead>\n",
       "\t<tr><th></th><th scope=col>fit</th><th scope=col>lwr</th><th scope=col>upr</th></tr>\n",
       "</thead>\n",
       "<tbody>\n",
       "\t<tr><th scope=row>25</th><td>21.139529</td><td>  3.477059</td><td>38.80200</td></tr>\n",
       "\t<tr><th scope=row>26</th><td>24.222000</td><td>  6.539424</td><td>41.90458</td></tr>\n",
       "\t<tr><th scope=row>29</th><td>-9.685178</td><td>-27.426807</td><td> 8.05645</td></tr>\n",
       "</tbody>\n",
       "</table>\n"
      ],
      "text/latex": [
       "A matrix: 3 × 3 of type dbl\n",
       "\\begin{tabular}{r|lll}\n",
       "  & fit & lwr & upr\\\\\n",
       "\\hline\n",
       "\t25 & 21.139529 &   3.477059 & 38.80200\\\\\n",
       "\t26 & 24.222000 &   6.539424 & 41.90458\\\\\n",
       "\t29 & -9.685178 & -27.426807 &  8.05645\\\\\n",
       "\\end{tabular}\n"
      ],
      "text/markdown": [
       "\n",
       "A matrix: 3 × 3 of type dbl\n",
       "\n",
       "| <!--/--> | fit | lwr | upr |\n",
       "|---|---|---|---|\n",
       "| 25 | 21.139529 |   3.477059 | 38.80200 |\n",
       "| 26 | 24.222000 |   6.539424 | 41.90458 |\n",
       "| 29 | -9.685178 | -27.426807 |  8.05645 |\n",
       "\n"
      ],
      "text/plain": [
       "   fit       lwr        upr     \n",
       "25 21.139529   3.477059 38.80200\n",
       "26 24.222000   6.539424 41.90458\n",
       "29 -9.685178 -27.426807  8.05645"
      ]
     },
     "metadata": {
      "tags": []
     },
     "output_type": "display_data"
    }
   ],
   "source": [
    "predicted <- predict(model, test, level = 0.95, interval = 'prediction')\n",
    "predicted[1:3,]"
   ]
  },
  {
   "cell_type": "markdown",
   "metadata": {
    "id": "qNcA8wq-Ryxo"
   },
   "source": [
    "MSE посчитаем ручками."
   ]
  },
  {
   "cell_type": "code",
   "execution_count": 16,
   "metadata": {
    "colab": {
     "base_uri": "https://localhost:8080/",
     "height": 34
    },
    "id": "WoM8y0veRv7a",
    "outputId": "ca365457-8d94-4fb1-a66c-ec364df523ae"
   },
   "outputs": [
    {
     "data": {
      "text/html": [
       "78.5337769514293"
      ],
      "text/latex": [
       "78.5337769514293"
      ],
      "text/markdown": [
       "78.5337769514293"
      ],
      "text/plain": [
       "[1] 78.53378"
      ]
     },
     "metadata": {
      "tags": []
     },
     "output_type": "display_data"
    }
   ],
   "source": [
    "mean((predicted[,1] - test$Residuary_resistance) ^ 2)"
   ]
  },
  {
   "cell_type": "markdown",
   "metadata": {
    "id": "P7HfvYIrR5lg"
   },
   "source": [
    "Посмотрим на график предсказания."
   ]
  },
  {
   "cell_type": "code",
   "execution_count": 17,
   "metadata": {
    "colab": {
     "base_uri": "https://localhost:8080/",
     "height": 377
    },
    "id": "4-V8L8IMR3su",
    "outputId": "18eed79c-df36-405e-a6bd-d2e01ad1b727"
   },
   "outputs": [
    {
     "data": {
      "image/png": "[encoded data removed]",
      "text/plain": [
       "plot without title"
      ]
     },
     "metadata": {
      "image/png": {
       "height": 360,
       "width": 480
      },
      "tags": []
     },
     "output_type": "display_data"
    }
   ],
   "source": [
    "plot(data$Residuary_resistance ~ data$Froude_number)\n",
    "x <- seq(from = 0, to = 0.5, by = 0.1)\n",
    "lines(x, model$coefficients[1] + model$coefficients[2] * x, col = \"red\", lwd = 2)"
   ]
  },
  {
   "cell_type": "markdown",
   "metadata": {
    "id": "TjbQie-LSjVF"
   },
   "source": [
    "### Еще примеры\n",
    "\n",
    "Обучаем на train модель вида $Residuary\\_resistance = \\theta_1 + \\theta_2 \\cdot Froude\\_number + \\theta_3 \\cdot Froude\\_number^2 + \\theta_4 \\cdot Froude\\_number^3$\n",
    "\n",
    "*Обозначения в формуле:*\n",
    "\n",
    "`(x+y)^2` эквивалентно `x^2 + y^2 + xy`, что означает взять признаки `x^2`, `y^2`, `xy`\n",
    "\n",
    "`I((x+y)^2)` означает взять признак `(x+y)^2`."
   ]
  },
  {
   "cell_type": "code",
   "execution_count": 18,
   "metadata": {
    "colab": {
     "base_uri": "https://localhost:8080/",
     "height": 391
    },
    "id": "5oIohm1RSern",
    "outputId": "df589187-0cd5-4b72-9de3-2dd1f27a5294"
   },
   "outputs": [
    {
     "data": {
      "text/html": [
       "<style>\n",
       ".dl-inline {width: auto; margin:0; padding: 0}\n",
       ".dl-inline>dt, .dl-inline>dd {float: none; width: auto; display: inline-block}\n",
       ".dl-inline>dt::after {content: \":\\0020\"; padding-right: .5ex}\n",
       ".dl-inline>dt:not(:first-of-type) {padding-left: .5ex}\n",
       "</style><dl class=dl-inline><dt>(Intercept)</dt><dd>-47.5135132565681</dd><dt>Froude_number</dt><dd>684.900341266057</dd><dt>I(Froude_number^2)</dt><dd>-3105.79891612191</dd><dt>I(Froude_number^3)</dt><dd>4592.52782891772</dd></dl>\n"
      ],
      "text/latex": [
       "\\begin{description*}\n",
       "\\item[(Intercept)] -47.5135132565681\n",
       "\\item[Froude\\textbackslash{}\\_number] 684.900341266057\n",
       "\\item[I(Froude\\textbackslash{}\\_number\\textbackslash{}textasciicircum\\{\\}2)] -3105.79891612191\n",
       "\\item[I(Froude\\textbackslash{}\\_number\\textbackslash{}textasciicircum\\{\\}3)] 4592.52782891772\n",
       "\\end{description*}\n"
      ],
      "text/markdown": [
       "(Intercept)\n",
       ":   -47.5135132565681Froude_number\n",
       ":   684.900341266057I(Froude_number^2)\n",
       ":   -3105.79891612191I(Froude_number^3)\n",
       ":   4592.52782891772\n",
       "\n"
      ],
      "text/plain": [
       "       (Intercept)      Froude_number I(Froude_number^2) I(Froude_number^3) \n",
       "         -47.51351          684.90034        -3105.79892         4592.52783 "
      ]
     },
     "metadata": {
      "tags": []
     },
     "output_type": "display_data"
    },
    {
     "data": {
      "text/plain": [
       "\n",
       "Call:\n",
       "lm(formula = Residuary_resistance ~ Froude_number + I(Froude_number^2) + \n",
       "    I(Froude_number^3), data = train)\n",
       "\n",
       "Residuals:\n",
       "    Min      1Q  Median      3Q     Max \n",
       "-5.8815 -1.1699 -0.2189  1.1542 10.5885 \n",
       "\n",
       "Coefficients:\n",
       "                    Estimate Std. Error t value Pr(>|t|)    \n",
       "(Intercept)          -47.514      3.253  -14.61   <2e-16 ***\n",
       "Froude_number        684.900     38.674   17.71   <2e-16 ***\n",
       "I(Froude_number^2) -3105.799    141.931  -21.88   <2e-16 ***\n",
       "I(Froude_number^3)  4592.528    163.041   28.17   <2e-16 ***\n",
       "---\n",
       "Signif. codes:  0 ‘***’ 0.001 ‘**’ 0.01 ‘*’ 0.05 ‘.’ 0.1 ‘ ’ 1\n",
       "\n",
       "Residual standard error: 1.853 on 212 degrees of freedom\n",
       "Multiple R-squared:  0.9853,\tAdjusted R-squared:  0.9851 \n",
       "F-statistic:  4752 on 3 and 212 DF,  p-value: < 2.2e-16\n"
      ]
     },
     "metadata": {
      "tags": []
     },
     "output_type": "display_data"
    }
   ],
   "source": [
    "model_2 <- lm(\n",
    "    formula = Residuary_resistance ~ Froude_number + I(Froude_number^2) + I(Froude_number^3), \n",
    "    data = train\n",
    ")\n",
    "model_2$coefficients\n",
    "summary(model_2)"
   ]
  },
  {
   "cell_type": "markdown",
   "metadata": {
    "id": "e1OqlpsuSu-3"
   },
   "source": [
    "Сравнить две модели можно в одной таблице при помощи функции mtable."
   ]
  },
  {
   "cell_type": "code",
   "execution_count": 19,
   "metadata": {
    "colab": {
     "base_uri": "https://localhost:8080/"
    },
    "id": "aMqe7Sh5StgW",
    "outputId": "000311e6-43fd-4747-f18a-63bf2afa4361"
   },
   "outputs": [
    {
     "name": "stderr",
     "output_type": "stream",
     "text": [
      "Installing package into ‘/usr/local/lib/R/site-library’\n",
      "(as ‘lib’ is unspecified)\n",
      "\n",
      "Loading required package: MASS\n",
      "\n",
      "\n",
      "Attaching package: ‘memisc’\n",
      "\n",
      "\n",
      "The following object is masked from ‘package:ggplot2’:\n",
      "\n",
      "    syms\n",
      "\n",
      "\n",
      "The following objects are masked from ‘package:stats’:\n",
      "\n",
      "    contr.sum, contr.treatment, contrasts\n",
      "\n",
      "\n",
      "The following object is masked from ‘package:base’:\n",
      "\n",
      "    as.array\n",
      "\n",
      "\n"
     ]
    }
   ],
   "source": [
    "install.packages('memisc')\n",
    "library(\"memisc\")"
   ]
  },
  {
   "cell_type": "code",
   "execution_count": 20,
   "metadata": {
    "colab": {
     "base_uri": "https://localhost:8080/"
    },
    "id": "_cul3jnpS4IH",
    "outputId": "289bd132-ef01-4603-9e4e-73bcb45f1c52"
   },
   "outputs": [
    {
     "name": "stdout",
     "output_type": "stream",
     "text": [
      "\n",
      "Calls:\n",
      "model: lm(formula = Residuary_resistance ~ Froude_number, data = train)\n",
      "model_2: lm(formula = Residuary_resistance ~ Froude_number + I(Froude_number^2) + \n",
      "    I(Froude_number^3), data = train)\n",
      "\n",
      "================================================\n",
      "                        model       model_2     \n",
      "------------------------------------------------\n",
      "  (Intercept)         -25.098***    -47.514***  \n",
      "                       (1.861)       (3.253)    \n",
      "  Froude_number       123.299***    684.900***  \n",
      "                       (6.091)      (38.674)    \n",
      "  I(Froude_number^2)              -3105.799***  \n",
      "                                   (141.931)    \n",
      "  I(Froude_number^3)               4592.528***  \n",
      "                                   (163.041)    \n",
      "------------------------------------------------\n",
      "  R-squared             0.657         0.985     \n",
      "  N                   216           216         \n",
      "================================================\n",
      "  Significance: *** = p < 0.001;   \n",
      "                ** = p < 0.01; * = p < 0.05  \n"
     ]
    }
   ],
   "source": [
    "print(mtable(model, model_2))"
   ]
  },
  {
   "cell_type": "markdown",
   "metadata": {
    "id": "UXbuZrk2TI4m"
   },
   "source": [
    "Значение MSE куда меньше во второй модели."
   ]
  },
  {
   "cell_type": "code",
   "execution_count": 21,
   "metadata": {
    "colab": {
     "base_uri": "https://localhost:8080/",
     "height": 34
    },
    "id": "9JDsUPFPTCOI",
    "outputId": "89eb2baf-0532-4ed3-8a13-6add03d765e8"
   },
   "outputs": [
    {
     "data": {
      "text/html": [
       "4.7775398282039"
      ],
      "text/latex": [
       "4.7775398282039"
      ],
      "text/markdown": [
       "4.7775398282039"
      ],
      "text/plain": [
       "[1] 4.77754"
      ]
     },
     "metadata": {
      "tags": []
     },
     "output_type": "display_data"
    }
   ],
   "source": [
    "predicted <- predict(model_2, test)\n",
    "mean((predicted - test$Residuary_resistance) ^ 2)"
   ]
  },
  {
   "cell_type": "markdown",
   "metadata": {
    "id": "T5q_vN4lTTmx"
   },
   "source": [
    "Посмотрим на график:"
   ]
  },
  {
   "cell_type": "code",
   "execution_count": 22,
   "metadata": {
    "colab": {
     "base_uri": "https://localhost:8080/",
     "height": 377
    },
    "id": "j1bhuaNbTOdN",
    "outputId": "167e8a2a-ca0c-44fa-dbdf-fe4882334bdb"
   },
   "outputs": [
    {
     "data": {
      "image/png": "[encoded data removed]",
      "text/plain": [
       "plot without title"
      ]
     },
     "metadata": {
      "image/png": {
       "height": 360,
       "width": 480
      },
      "tags": []
     },
     "output_type": "display_data"
    }
   ],
   "source": [
    "plot(data$Residuary_resistance ~ data$Froude_number)\n",
    "x <- seq(from = 0, to = 0.5, by = 0.01)\n",
    "lines(x, \n",
    "      model_2$coefficients[1] + model_2$coefficients[2] * x + model_2$coefficients[3] * x^2 + model_2$coefficients[4] * x^3, \n",
    "      col = \"red\", lwd = 2)"
   ]
  },
  {
   "cell_type": "markdown",
   "metadata": {
    "id": "gz_WGzr8TZKP"
   },
   "source": [
    "Обучим регрессию на всех фичах. Как видим, все остальные фичи незначимы - pvalue мало.\n",
    "\n",
    "*Чтобы взять в формулу все признаки, можно поставить просто точку*"
   ]
  },
  {
   "cell_type": "code",
   "execution_count": 23,
   "metadata": {
    "colab": {
     "base_uri": "https://localhost:8080/",
     "height": 510
    },
    "id": "faiWWHSYTVse",
    "outputId": "5af292ca-f147-4983-f8ff-f47d86e4319f"
   },
   "outputs": [
    {
     "data": {
      "text/html": [
       "<style>\n",
       ".dl-inline {width: auto; margin:0; padding: 0}\n",
       ".dl-inline>dt, .dl-inline>dd {float: none; width: auto; display: inline-block}\n",
       ".dl-inline>dt::after {content: \":\\0020\"; padding-right: .5ex}\n",
       ".dl-inline>dt:not(:first-of-type) {padding-left: .5ex}\n",
       "</style><dl class=dl-inline><dt>(Intercept)</dt><dd>-48.8736626934071</dd><dt>Longitudinal_position</dt><dd>0.236408204352789</dd><dt>Prismatic_coefficient</dt><dd>1.64048657515175</dd><dt>Length.displacement_ratio</dt><dd>6.01671347715098</dd><dt>Beam.draught_ratio</dt><dd>-2.39586337158701</dd><dt>Length.beam_ratio</dt><dd>-5.99754083780924</dd><dt>Froude_number</dt><dd>695.390883704686</dd><dt>I(Froude_number^2)</dt><dd>-3143.76348877578</dd><dt>I(Froude_number^3)</dt><dd>4634.61054470721</dd></dl>\n"
      ],
      "text/latex": [
       "\\begin{description*}\n",
       "\\item[(Intercept)] -48.8736626934071\n",
       "\\item[Longitudinal\\textbackslash{}\\_position] 0.236408204352789\n",
       "\\item[Prismatic\\textbackslash{}\\_coefficient] 1.64048657515175\n",
       "\\item[Length.displacement\\textbackslash{}\\_ratio] 6.01671347715098\n",
       "\\item[Beam.draught\\textbackslash{}\\_ratio] -2.39586337158701\n",
       "\\item[Length.beam\\textbackslash{}\\_ratio] -5.99754083780924\n",
       "\\item[Froude\\textbackslash{}\\_number] 695.390883704686\n",
       "\\item[I(Froude\\textbackslash{}\\_number\\textbackslash{}textasciicircum\\{\\}2)] -3143.76348877578\n",
       "\\item[I(Froude\\textbackslash{}\\_number\\textbackslash{}textasciicircum\\{\\}3)] 4634.61054470721\n",
       "\\end{description*}\n"
      ],
      "text/markdown": [
       "(Intercept)\n",
       ":   -48.8736626934071Longitudinal_position\n",
       ":   0.236408204352789Prismatic_coefficient\n",
       ":   1.64048657515175Length.displacement_ratio\n",
       ":   6.01671347715098Beam.draught_ratio\n",
       ":   -2.39586337158701Length.beam_ratio\n",
       ":   -5.99754083780924Froude_number\n",
       ":   695.390883704686I(Froude_number^2)\n",
       ":   -3143.76348877578I(Froude_number^3)\n",
       ":   4634.61054470721\n",
       "\n"
      ],
      "text/plain": [
       "              (Intercept)     Longitudinal_position     Prismatic_coefficient \n",
       "              -48.8736627                 0.2364082                 1.6404866 \n",
       "Length.displacement_ratio        Beam.draught_ratio         Length.beam_ratio \n",
       "                6.0167135                -2.3958634                -5.9975408 \n",
       "            Froude_number        I(Froude_number^2)        I(Froude_number^3) \n",
       "              695.3908837             -3143.7634888              4634.6105447 "
      ]
     },
     "metadata": {
      "tags": []
     },
     "output_type": "display_data"
    },
    {
     "data": {
      "text/plain": [
       "\n",
       "Call:\n",
       "lm(formula = Residuary_resistance ~ . + I(Froude_number^2) + \n",
       "    I(Froude_number^3), data = train)\n",
       "\n",
       "Residuals:\n",
       "    Min      1Q  Median      3Q     Max \n",
       "-5.4293 -1.0783 -0.1308  1.0368  9.3284 \n",
       "\n",
       "Coefficients:\n",
       "                            Estimate Std. Error t value Pr(>|t|)    \n",
       "(Intercept)               -4.887e+01  7.160e+00  -6.826 9.49e-11 ***\n",
       "Longitudinal_position      2.364e-01  8.223e-02   2.875  0.00446 ** \n",
       "Prismatic_coefficient      1.640e+00  1.013e+01   0.162  0.87146    \n",
       "Length.displacement_ratio  6.017e+00  3.255e+00   1.849  0.06595 .  \n",
       "Beam.draught_ratio        -2.396e+00  1.274e+00  -1.881  0.06140 .  \n",
       "Length.beam_ratio         -5.998e+00  3.280e+00  -1.829  0.06888 .  \n",
       "Froude_number              6.954e+02  3.768e+01  18.455  < 2e-16 ***\n",
       "I(Froude_number^2)        -3.144e+03  1.383e+02 -22.738  < 2e-16 ***\n",
       "I(Froude_number^3)         4.635e+03  1.588e+02  29.188  < 2e-16 ***\n",
       "---\n",
       "Signif. codes:  0 ‘***’ 0.001 ‘**’ 0.01 ‘*’ 0.05 ‘.’ 0.1 ‘ ’ 1\n",
       "\n",
       "Residual standard error: 1.796 on 207 degrees of freedom\n",
       "Multiple R-squared:  0.9866,\tAdjusted R-squared:  0.986 \n",
       "F-statistic:  1901 on 8 and 207 DF,  p-value: < 2.2e-16\n"
      ]
     },
     "metadata": {
      "tags": []
     },
     "output_type": "display_data"
    }
   ],
   "source": [
    "model <- lm(formula = Residuary_resistance ~ . + I(Froude_number^2) + I(Froude_number^3), \n",
    "            data = train)\n",
    "model$coefficients\n",
    "summary(model)"
   ]
  },
  {
   "cell_type": "markdown",
   "metadata": {
    "id": "Axg7S8eeTd6Q"
   },
   "source": [
    "MSE почти такое же."
   ]
  },
  {
   "cell_type": "code",
   "execution_count": 24,
   "metadata": {
    "colab": {
     "base_uri": "https://localhost:8080/",
     "height": 34
    },
    "id": "_KBplu7zTbQQ",
    "outputId": "f7c0feb0-5739-4ae2-849c-1a7ded14ac96"
   },
   "outputs": [
    {
     "data": {
      "text/html": [
       "4.50170693534222"
      ],
      "text/latex": [
       "4.50170693534222"
      ],
      "text/markdown": [
       "4.50170693534222"
      ],
      "text/plain": [
       "[1] 4.501707"
      ]
     },
     "metadata": {
      "tags": []
     },
     "output_type": "display_data"
    }
   ],
   "source": [
    "predicted <- predict(model, test)\n",
    "mean((predicted - test$Residuary_resistance) ^ 2)"
   ]
  },
  {
   "cell_type": "markdown",
   "metadata": {
    "id": "Z-AX7woQThfZ"
   },
   "source": [
    "### Отбор признаков\n",
    "\n",
    "Процедура отбора фичей [bestglm](https://cran.r-project.org/web/packages/bestglm/bestglm.pdf)`(Xy, family = gaussian, IC = \"BIC\", t = \"default\",CVArgs = \"default\", qLevel = 0.99, TopModels = 5,method = \"exhaustive\", intercept = TRUE, weights = NULL,nvmax = \"default\", RequireFullEnumerationQ = FALSE, ...)` использует алгоритм ’leaps’ для гауссовского случая.\n",
    "* `Xy` — данные;\n",
    "* `IC` — критерий информативности;\n"
   ]
  },
  {
   "cell_type": "code",
   "execution_count": 25,
   "metadata": {
    "colab": {
     "base_uri": "https://localhost:8080/"
    },
    "id": "Z3lP4seWT0ZT",
    "outputId": "1e658891-9fec-4d0b-dd5d-3c9d440ff106"
   },
   "outputs": [
    {
     "name": "stderr",
     "output_type": "stream",
     "text": [
      "Installing package into ‘/usr/local/lib/R/site-library’\n",
      "(as ‘lib’ is unspecified)\n",
      "\n",
      "Loading required package: leaps\n",
      "\n"
     ]
    }
   ],
   "source": [
    "install.packages('bestglm')\n",
    "library('bestglm')\n"
   ]
  },
  {
   "cell_type": "code",
   "execution_count": 26,
   "metadata": {
    "colab": {
     "base_uri": "https://localhost:8080/",
     "height": 119
    },
    "id": "QBqu9P1nT0z6",
    "outputId": "9f49d436-0715-4aec-a003-85e3c5973046"
   },
   "outputs": [
    {
     "data": {
      "text/plain": [
       "BIC\n",
       "BICq equivalent for q in (0, 0.914864450185682)\n",
       "Best Model:\n",
       "               Estimate Std. Error   t value     Pr(>|t|)\n",
       "(Intercept)   -25.09753   1.861376 -13.48332 2.124206e-30\n",
       "Froude_number 123.29883   6.090706  20.24377 1.288509e-51"
      ]
     },
     "metadata": {
      "tags": []
     },
     "output_type": "display_data"
    }
   ],
   "source": [
    "bestglm(train, family = gaussian, IC = \"BIC\")"
   ]
  }
 ],
 "metadata": {
  "colab": {
   "collapsed_sections": [],
   "name": "Копия_3_Линейная_регрессия_в_R.ipynb",
   "provenance": [],
   "toc_visible": true
  },
  "hide_input": false,
  "kernelspec": {
   "display_name": "R",
   "language": "R",
   "name": "ir"
  },
  "language_info": {
   "codemirror_mode": "r",
   "file_extension": ".r",
   "mimetype": "text/x-r-source",
   "name": "R",
   "pygments_lexer": "r",
   "version": "3.6.2"
  }
 },
 "nbformat": 4,
 "nbformat_minor": 1
}
