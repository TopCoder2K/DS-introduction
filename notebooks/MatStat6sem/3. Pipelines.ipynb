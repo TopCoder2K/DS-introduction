{
 "cells": [
  {
   "cell_type": "markdown",
   "metadata": {
    "colab_type": "text",
    "id": "Fd8BN-0fw9vw"
   },
   "source": [
    "# `Pipeline` в `sklearn`"
   ]
  },
  {
   "cell_type": "code",
   "execution_count": 1,
   "metadata": {
    "ExecuteTime": {
     "end_time": "2021-02-08T20:56:04.243164Z",
     "start_time": "2021-02-08T20:56:03.248691Z"
    },
    "colab": {},
    "colab_type": "code",
    "id": "RRQAmi0Nw9vz"
   },
   "outputs": [],
   "source": [
    "import pandas as pd\n",
    "import numpy as np\n",
    "\n",
    "from sklearn.pipeline import Pipeline\n",
    "from sklearn.preprocessing import StandardScaler\n",
    "\n",
    "from sklearn.model_selection import train_test_split\n",
    "from sklearn.linear_model import LogisticRegression\n",
    "from sklearn.model_selection import GridSearchCV\n",
    "\n",
    "import seaborn as sns\n",
    "import matplotlib.pyplot as plt\n",
    "\n",
    "sns.set(font_scale=1.3)"
   ]
  },
  {
   "cell_type": "markdown",
   "metadata": {},
   "source": [
    "В этом ноутбуке описывается класс `Pipeline`, встроенный в библиотеку `sklearn`. \n",
    "\n",
    "В библиотеке `sklearn` есть несколько категорий объектов:\n",
    "* `Estimator` &mdash; объект, который имеет метод `fit`;\n",
    "* `Predictor` &mdash; объект, который имеет метод `predict`;\n",
    "* `Transformer` &mdash; объект, который имеет метод `transform`.\n",
    "\n",
    "Более подробнее о структуре классов можно почитать по [ссылке](https://scikit-learn.org/stable/developers/develop.html).\n",
    "\n",
    "Конкретный класс может относиться сразу к нескольким из этих категорий. Например, `Ridge` имеет методы `fit`, `predict`, `StandardScaler` методы `fit`, `transform`.\n",
    "\n",
    "Инструмент `Pipeline` позволяет создать новый `Estimator` из цепочки последовательно применяющихся `Transformer` и `Estimator` в качестве последнего звена. Таким образом, мы можем зафиксировать различные преобразования над данными, которые надо выполнить перед обучением и применением модели.\n",
    "\n",
    "При вызове метода `fit` для всех компонент кроме последней выполняется метод `fit_transform`, который обучает компоненту и передает трансформированные данные дальше по цепочке. Для последней компоненты выполняется только метод `fit`. \n",
    "\n",
    "При вызове методов `transform`, `predict` для всех компонент кроме последней вызывается метод `transform`, а для последней вызванный от всего пайплайна метод.\n",
    "\n",
    "Более подробно об особенностях применения можно почитать по [ссылке](https://scikit-learn.org/stable/modules/compose.html)."
   ]
  },
  {
   "cell_type": "markdown",
   "metadata": {
    "colab_type": "text",
    "id": "UmulNRf3w9wE"
   },
   "source": [
    "## Данные\n",
    " \n",
    "Датасет состоит из $11$ химических признаков вина. Откликом является переменная `quality` &mdash; качество вина."
   ]
  },
  {
   "cell_type": "code",
   "execution_count": 2,
   "metadata": {
    "ExecuteTime": {
     "end_time": "2021-02-08T20:56:05.972814Z",
     "start_time": "2021-02-08T20:56:04.246389Z"
    },
    "colab": {
     "base_uri": "https://localhost:8080/",
     "height": 197
    },
    "colab_type": "code",
    "id": "tN4mjNQBw9wF",
    "outputId": "dd8990e7-3436-40a7-cd9a-034eb1df2aab"
   },
   "outputs": [
    {
     "data": {
      "text/html": [
       "<div>\n",
       "<style scoped>\n",
       "    .dataframe tbody tr th:only-of-type {\n",
       "        vertical-align: middle;\n",
       "    }\n",
       "\n",
       "    .dataframe tbody tr th {\n",
       "        vertical-align: top;\n",
       "    }\n",
       "\n",
       "    .dataframe thead th {\n",
       "        text-align: right;\n",
       "    }\n",
       "</style>\n",
       "<table border=\"1\" class=\"dataframe\">\n",
       "  <thead>\n",
       "    <tr style=\"text-align: right;\">\n",
       "      <th></th>\n",
       "      <th>fixed acidity</th>\n",
       "      <th>volatile acidity</th>\n",
       "      <th>citric acid</th>\n",
       "      <th>residual sugar</th>\n",
       "      <th>chlorides</th>\n",
       "      <th>free sulfur dioxide</th>\n",
       "      <th>total sulfur dioxide</th>\n",
       "      <th>density</th>\n",
       "      <th>pH</th>\n",
       "      <th>sulphates</th>\n",
       "      <th>alcohol</th>\n",
       "      <th>quality</th>\n",
       "    </tr>\n",
       "  </thead>\n",
       "  <tbody>\n",
       "    <tr>\n",
       "      <th>0</th>\n",
       "      <td>7.4</td>\n",
       "      <td>0.70</td>\n",
       "      <td>0.00</td>\n",
       "      <td>1.9</td>\n",
       "      <td>0.076</td>\n",
       "      <td>11.0</td>\n",
       "      <td>34.0</td>\n",
       "      <td>0.9978</td>\n",
       "      <td>3.51</td>\n",
       "      <td>0.56</td>\n",
       "      <td>9.4</td>\n",
       "      <td>5</td>\n",
       "    </tr>\n",
       "    <tr>\n",
       "      <th>1</th>\n",
       "      <td>7.8</td>\n",
       "      <td>0.88</td>\n",
       "      <td>0.00</td>\n",
       "      <td>2.6</td>\n",
       "      <td>0.098</td>\n",
       "      <td>25.0</td>\n",
       "      <td>67.0</td>\n",
       "      <td>0.9968</td>\n",
       "      <td>3.20</td>\n",
       "      <td>0.68</td>\n",
       "      <td>9.8</td>\n",
       "      <td>5</td>\n",
       "    </tr>\n",
       "    <tr>\n",
       "      <th>2</th>\n",
       "      <td>7.8</td>\n",
       "      <td>0.76</td>\n",
       "      <td>0.04</td>\n",
       "      <td>2.3</td>\n",
       "      <td>0.092</td>\n",
       "      <td>15.0</td>\n",
       "      <td>54.0</td>\n",
       "      <td>0.9970</td>\n",
       "      <td>3.26</td>\n",
       "      <td>0.65</td>\n",
       "      <td>9.8</td>\n",
       "      <td>5</td>\n",
       "    </tr>\n",
       "    <tr>\n",
       "      <th>3</th>\n",
       "      <td>11.2</td>\n",
       "      <td>0.28</td>\n",
       "      <td>0.56</td>\n",
       "      <td>1.9</td>\n",
       "      <td>0.075</td>\n",
       "      <td>17.0</td>\n",
       "      <td>60.0</td>\n",
       "      <td>0.9980</td>\n",
       "      <td>3.16</td>\n",
       "      <td>0.58</td>\n",
       "      <td>9.8</td>\n",
       "      <td>6</td>\n",
       "    </tr>\n",
       "    <tr>\n",
       "      <th>4</th>\n",
       "      <td>7.4</td>\n",
       "      <td>0.70</td>\n",
       "      <td>0.00</td>\n",
       "      <td>1.9</td>\n",
       "      <td>0.076</td>\n",
       "      <td>11.0</td>\n",
       "      <td>34.0</td>\n",
       "      <td>0.9978</td>\n",
       "      <td>3.51</td>\n",
       "      <td>0.56</td>\n",
       "      <td>9.4</td>\n",
       "      <td>5</td>\n",
       "    </tr>\n",
       "  </tbody>\n",
       "</table>\n",
       "</div>"
      ],
      "text/plain": [
       "   fixed acidity  volatile acidity  citric acid  residual sugar  chlorides  \\\n",
       "0            7.4              0.70         0.00             1.9      0.076   \n",
       "1            7.8              0.88         0.00             2.6      0.098   \n",
       "2            7.8              0.76         0.04             2.3      0.092   \n",
       "3           11.2              0.28         0.56             1.9      0.075   \n",
       "4            7.4              0.70         0.00             1.9      0.076   \n",
       "\n",
       "   free sulfur dioxide  total sulfur dioxide  density    pH  sulphates  \\\n",
       "0                 11.0                  34.0   0.9978  3.51       0.56   \n",
       "1                 25.0                  67.0   0.9968  3.20       0.68   \n",
       "2                 15.0                  54.0   0.9970  3.26       0.65   \n",
       "3                 17.0                  60.0   0.9980  3.16       0.58   \n",
       "4                 11.0                  34.0   0.9978  3.51       0.56   \n",
       "\n",
       "   alcohol  quality  \n",
       "0      9.4        5  \n",
       "1      9.8        5  \n",
       "2      9.8        5  \n",
       "3      9.8        6  \n",
       "4      9.4        5  "
      ]
     },
     "execution_count": 2,
     "metadata": {},
     "output_type": "execute_result"
    }
   ],
   "source": [
    "winedf = pd.read_csv(\n",
    "    'https://archive.ics.uci.edu/ml/'\n",
    "    'machine-learning-databases/wine-quality/winequality-red.csv', \n",
    "    sep=';'\n",
    ")\n",
    "winedf.head()"
   ]
  },
  {
   "cell_type": "markdown",
   "metadata": {
    "colab_type": "text",
    "id": "tRAA2P5Gw9wL"
   },
   "source": [
    "Посмотрим, что в датасете нет пропущенных значений:"
   ]
  },
  {
   "cell_type": "code",
   "execution_count": 3,
   "metadata": {
    "ExecuteTime": {
     "end_time": "2021-02-08T20:56:05.996578Z",
     "start_time": "2021-02-08T20:56:05.978880Z"
    },
    "colab": {
     "base_uri": "https://localhost:8080/",
     "height": 34
    },
    "colab_type": "code",
    "id": "MurjTrFQw9wQ",
    "outputId": "3550747d-0631-493c-c640-caebf1565ef4"
   },
   "outputs": [
    {
     "data": {
      "text/plain": [
       "0"
      ]
     },
     "execution_count": 3,
     "metadata": {},
     "output_type": "execute_result"
    }
   ],
   "source": [
    "winedf['quality'].isnull().sum()"
   ]
  },
  {
   "cell_type": "markdown",
   "metadata": {
    "colab_type": "text",
    "id": "eFzS5ar4w9wY"
   },
   "source": [
    "Разделим данные на регрессоров и отклик:"
   ]
  },
  {
   "cell_type": "code",
   "execution_count": 4,
   "metadata": {
    "ExecuteTime": {
     "end_time": "2021-02-08T20:56:06.013184Z",
     "start_time": "2021-02-08T20:56:06.001671Z"
    },
    "colab": {
     "base_uri": "https://localhost:8080/",
     "height": 34
    },
    "colab_type": "code",
    "id": "xlWAjY5uw9wZ",
    "outputId": "e116617c-22b0-4c73-df3a-0117c527571d"
   },
   "outputs": [
    {
     "name": "stdout",
     "output_type": "stream",
     "text": [
      "<class 'pandas.core.frame.DataFrame'> <class 'pandas.core.series.Series'>\n"
     ]
    }
   ],
   "source": [
    "X = winedf.drop(columns=['quality'])\n",
    "y = winedf['quality']\n",
    "\n",
    "print(type(X), type(y)) "
   ]
  },
  {
   "cell_type": "markdown",
   "metadata": {
    "colab_type": "text",
    "id": "dCrAS1yUw9wc"
   },
   "source": [
    "## Использование `Pipeline`"
   ]
  },
  {
   "cell_type": "markdown",
   "metadata": {
    "colab_type": "text",
    "id": "rwCNw6R4w9wf"
   },
   "source": [
    "Для создания пайплайна следует определить последовательность именованных шагов. В качестве примера построим пайплайн для логистической регрессии. Так как в модели есть регуляризация, то данные предварительно надо стандартизировать. Таким образом, получим шаги:\n",
    "1. standard scaler;\n",
    "2. логистическая регрессия. \n",
    "\n",
    "*Замечание.*\n",
    "\n",
    "Кроме `StandardScaler` в `sklearn` есть еще набор классов для масштабирования:\n",
    "\n",
    "* `MinMaxScaler`\n",
    "* `MaxAbsScaler`\n",
    "* `StandardScaler`\n",
    "* `RobustScaler`\n",
    "* `Normalizer`\n",
    "* `QuantileTransformer`\n",
    "* `PowerTransformer`"
   ]
  },
  {
   "cell_type": "code",
   "execution_count": 5,
   "metadata": {
    "ExecuteTime": {
     "end_time": "2021-02-08T20:56:06.024501Z",
     "start_time": "2021-02-08T20:56:06.016307Z"
    },
    "colab": {},
    "colab_type": "code",
    "id": "2UPs75zew9wh"
   },
   "outputs": [],
   "source": [
    "steps = [\n",
    "    ('scaler', StandardScaler()), \n",
    "    ('clf', LogisticRegression(solver='saga', \n",
    "                               multi_class='multinomial', \n",
    "                               max_iter=5000))\n",
    "]\n",
    "\n",
    "pipeline = Pipeline(steps) "
   ]
  },
  {
   "cell_type": "markdown",
   "metadata": {
    "colab_type": "text",
    "id": "UbFw6Xrpw9wk"
   },
   "source": [
    "Разделим выборку на обучающую и тестовую. Перед этим посмотрим на распределение классов у отклика."
   ]
  },
  {
   "cell_type": "code",
   "execution_count": 6,
   "metadata": {
    "ExecuteTime": {
     "end_time": "2021-02-08T20:56:06.040398Z",
     "start_time": "2021-02-08T20:56:06.028050Z"
    },
    "colab": {
     "base_uri": "https://localhost:8080/",
     "height": 141
    },
    "colab_type": "code",
    "id": "a8B1WPCPw9wl",
    "outputId": "618794aa-fe1e-423d-ec3a-a0383e086c24"
   },
   "outputs": [
    {
     "data": {
      "text/plain": [
       "5    681\n",
       "6    638\n",
       "7    199\n",
       "4     53\n",
       "8     18\n",
       "3     10\n",
       "Name: quality, dtype: int64"
      ]
     },
     "execution_count": 6,
     "metadata": {},
     "output_type": "execute_result"
    }
   ],
   "source": [
    "y.value_counts()"
   ]
  },
  {
   "cell_type": "markdown",
   "metadata": {
    "colab_type": "text",
    "id": "eRQWZFGGw9wo"
   },
   "source": [
    "Распределение классов очень несбалансированное, поэтому будем использовать стратификацию при разделении на обучающую и тестовую выборки.\n",
    "\n",
    "*Замечание.*\n",
    "\n",
    "Подробнее о значении стратификации можете прочесть в ноутбуке про валидацию."
   ]
  },
  {
   "cell_type": "code",
   "execution_count": 7,
   "metadata": {
    "ExecuteTime": {
     "end_time": "2021-02-08T20:56:06.061040Z",
     "start_time": "2021-02-08T20:56:06.043733Z"
    },
    "colab": {},
    "colab_type": "code",
    "id": "NjPU5Maqw9wr"
   },
   "outputs": [],
   "source": [
    "X_train, X_test, y_train, y_test = train_test_split(\n",
    "    X, y, test_size=0.2, random_state=30, stratify=y\n",
    ")"
   ]
  },
  {
   "cell_type": "markdown",
   "metadata": {
    "colab_type": "text",
    "id": "5tUfPczSw9wu"
   },
   "source": [
    "Обучим созданный ранее `Pipeline` на обучающей выборке. Опишем на данном конкретном примере, что произойдет после вызова метода `fit`:\n",
    "1. У `pipiline.named_steps['scaler']` вызовется метод `fit_transform` над `X_train`, который обучит скейлер и вернет преобразованные данные. Для упрощения дальнейшего изложения обозначим их `X_train_scaled`.\n",
    "2. У `pipeline.named_steps['clf']` вызовется метод `fit` над `X_train_scaled`, так как это финальная компонента."
   ]
  },
  {
   "cell_type": "code",
   "execution_count": 8,
   "metadata": {
    "ExecuteTime": {
     "end_time": "2021-02-08T20:56:06.505149Z",
     "start_time": "2021-02-08T20:56:06.063827Z"
    },
    "colab": {
     "base_uri": "https://localhost:8080/",
     "height": 230
    },
    "colab_type": "code",
    "id": "3KjnA5__w9ww",
    "outputId": "a8bc6b9c-0083-4370-a7ef-d429f6481bcb"
   },
   "outputs": [
    {
     "data": {
      "text/plain": [
       "Pipeline(memory=None,\n",
       "         steps=[('scaler',\n",
       "                 StandardScaler(copy=True, with_mean=True, with_std=True)),\n",
       "                ('clf',\n",
       "                 LogisticRegression(C=1.0, class_weight=None, dual=False,\n",
       "                                    fit_intercept=True, intercept_scaling=1,\n",
       "                                    l1_ratio=None, max_iter=5000,\n",
       "                                    multi_class='multinomial', n_jobs=None,\n",
       "                                    penalty='l2', random_state=None,\n",
       "                                    solver='saga', tol=0.0001, verbose=0,\n",
       "                                    warm_start=False))],\n",
       "         verbose=False)"
      ]
     },
     "execution_count": 8,
     "metadata": {},
     "output_type": "execute_result"
    }
   ],
   "source": [
    "pipeline.fit(X_train, y_train)"
   ]
  },
  {
   "cell_type": "markdown",
   "metadata": {},
   "source": [
    "Выполним предсказания на тестовой выборке и измерим долю правильных ответов в предсказаниях. Опишем на данном конкретном примере, что произойдет после вызова метода `predict`:\n",
    "1. У `pipiline.named_steps['scaler']` вызовется метод `transform` над `X_test`, который вернет преобразованные данные. Для упрощения дальнейшего изложения обозначим их `X_test_scaled`.\n",
    "2. У `pipeline.named_steps['clf']` вызовется метод `predict` над `X_test_scaled`, так как это финальная компонента."
   ]
  },
  {
   "cell_type": "code",
   "execution_count": 9,
   "metadata": {
    "ExecuteTime": {
     "end_time": "2021-02-08T20:56:06.517096Z",
     "start_time": "2021-02-08T20:56:06.508432Z"
    },
    "colab": {
     "base_uri": "https://localhost:8080/",
     "height": 34
    },
    "colab_type": "code",
    "id": "ki4fiWyTw9w0",
    "outputId": "4e868cf6-da64-42f0-fa70-76e193e41c4a",
    "scrolled": true
   },
   "outputs": [
    {
     "name": "stdout",
     "output_type": "stream",
     "text": [
      "Accuracy: 0.584\n"
     ]
    }
   ],
   "source": [
    "prediction = pipeline.predict(X_test)\n",
    "accuracy = (prediction == y_test).mean()\n",
    "print(f'Accuracy: {accuracy:.3f}')"
   ]
  },
  {
   "cell_type": "markdown",
   "metadata": {
    "colab_type": "text",
    "id": "R9hMhDKJw9w2"
   },
   "source": [
    "## Подбор гиперпараметров при помощи `Pipeline`"
   ]
  },
  {
   "cell_type": "markdown",
   "metadata": {
    "colab_type": "text",
    "id": "R9hMhDKJw9w2"
   },
   "source": [
    "Как мы уже выяснили, объект класса `Pipeline` может быть моделью машинного обучения, а потому мы можем захотеть определить для этой модели оптимальные гиперпараметры. \n",
    "\n",
    "Чтобы получить доступ к параметрам объектов внутри `named_steps` требуется обратиться к параметру с названием `{name_step}__{param_name}`, где `name_step` &mdash; имя шага, `param_name` &mdash; название параметра. "
   ]
  },
  {
   "cell_type": "markdown",
   "metadata": {
    "colab_type": "text",
    "id": "R9hMhDKJw9w2"
   },
   "source": [
    "Возвращаясь к нашему примеру, мы хотим подобрать оптимальные параметры у логистической регрессии. Обычно оптимизируют `penalty` и `C`. \n",
    "\n",
    "Но почему мы здесь хотим использовать именно `Pipeline`? Почему бы не обучить `StandardScaler` на всей обучающей выборке и не выполнить соответствующее преобразование? Как мы уже знаем, на каждом этапе кросс-валидации от обучающей выборки отрезается один фолд на валидацию, а остальные идут на обучение. Поэтому, если мы применим `StandardScaler` в самом начале ко всей выборке, то фолды обучения увидят некоторую информацию о фолде валидации. В общем же случае, фолды обучения не должны знать валидационные и тестовые данные. Таким образом, наша валидационная процедура будет отличаться от тестирования, что может приводить к плохой корреляции результатов валидации и тестирования, а также к завышенным результатам валидации."
   ]
  },
  {
   "cell_type": "code",
   "execution_count": 10,
   "metadata": {
    "ExecuteTime": {
     "end_time": "2021-02-08T20:56:06.526285Z",
     "start_time": "2021-02-08T20:56:06.521052Z"
    },
    "colab": {},
    "colab_type": "code",
    "id": "TUiTvVISw9w4"
   },
   "outputs": [],
   "source": [
    "parameteres = {'clf__penalty': ['l1', 'l2'], \n",
    "               'clf__C': [0.01, 0.1, 1, 10, 100]}"
   ]
  },
  {
   "cell_type": "markdown",
   "metadata": {
    "colab_type": "text",
    "id": "mKpVA0k-w9w6"
   },
   "source": [
    "Теперь создадим объект для поиска по сетке `GridSearchCV`, которой передадим `Pipeline` типа `Predictor` и скажем, что будем использовать кросс-валидацию на $5$ фолдов:"
   ]
  },
  {
   "cell_type": "code",
   "execution_count": 11,
   "metadata": {
    "ExecuteTime": {
     "end_time": "2021-02-08T20:56:06.532942Z",
     "start_time": "2021-02-08T20:56:06.528610Z"
    },
    "colab": {},
    "colab_type": "code",
    "id": "5V_7Iebzw9w7"
   },
   "outputs": [],
   "source": [
    "grid = GridSearchCV(\n",
    "    pipeline, param_grid=parameteres, cv=5, scoring='accuracy'\n",
    ")"
   ]
  },
  {
   "cell_type": "markdown",
   "metadata": {
    "colab_type": "text",
    "id": "Qnt2CS30w9w-"
   },
   "source": [
    "Выполним поиск:"
   ]
  },
  {
   "cell_type": "code",
   "execution_count": 12,
   "metadata": {
    "ExecuteTime": {
     "end_time": "2021-02-08T20:56:41.976133Z",
     "start_time": "2021-02-08T20:56:06.535192Z"
    },
    "colab": {
     "base_uri": "https://localhost:8080/",
     "height": 550
    },
    "colab_type": "code",
    "id": "VxEx1qKNw9w_",
    "outputId": "b43c37da-1cf1-4bca-c845-8cdf31a447e0"
   },
   "outputs": [
    {
     "name": "stdout",
     "output_type": "stream",
     "text": [
      "CPU times: user 35.3 s, sys: 5.06 ms, total: 35.3 s\n",
      "Wall time: 35.4 s\n"
     ]
    },
    {
     "data": {
      "text/plain": [
       "GridSearchCV(cv=5, error_score=nan,\n",
       "             estimator=Pipeline(memory=None,\n",
       "                                steps=[('scaler',\n",
       "                                        StandardScaler(copy=True,\n",
       "                                                       with_mean=True,\n",
       "                                                       with_std=True)),\n",
       "                                       ('clf',\n",
       "                                        LogisticRegression(C=1.0,\n",
       "                                                           class_weight=None,\n",
       "                                                           dual=False,\n",
       "                                                           fit_intercept=True,\n",
       "                                                           intercept_scaling=1,\n",
       "                                                           l1_ratio=None,\n",
       "                                                           max_iter=5000,\n",
       "                                                           multi_class='multinomial',\n",
       "                                                           n_jobs=None,\n",
       "                                                           penalty='l2',\n",
       "                                                           random_state=None,\n",
       "                                                           solver='saga',\n",
       "                                                           tol=0.0001,\n",
       "                                                           verbose=0,\n",
       "                                                           warm_start=False))],\n",
       "                                verbose=False),\n",
       "             iid='deprecated', n_jobs=None,\n",
       "             param_grid={'clf__C': [0.01, 0.1, 1, 10, 100],\n",
       "                         'clf__penalty': ['l1', 'l2']},\n",
       "             pre_dispatch='2*n_jobs', refit=True, return_train_score=False,\n",
       "             scoring='accuracy', verbose=0)"
      ]
     },
     "execution_count": 12,
     "metadata": {},
     "output_type": "execute_result"
    }
   ],
   "source": [
    "%%time\n",
    "grid.fit(X_train, y_train)"
   ]
  },
  {
   "cell_type": "markdown",
   "metadata": {
    "colab_type": "text",
    "id": "l5fVvLgLw9xB"
   },
   "source": [
    "Найдем качество лучшей найденной модели и выведем оптимальные гиперпараметры:"
   ]
  },
  {
   "cell_type": "code",
   "execution_count": 13,
   "metadata": {
    "ExecuteTime": {
     "end_time": "2021-02-08T20:56:41.992663Z",
     "start_time": "2021-02-08T20:56:41.979971Z"
    },
    "colab": {
     "base_uri": "https://localhost:8080/",
     "height": 52
    },
    "colab_type": "code",
    "id": "hOX3OR4rw9xC",
    "outputId": "f472333c-2830-4809-984a-f09169cf2261"
   },
   "outputs": [
    {
     "name": "stdout",
     "output_type": "stream",
     "text": [
      "Accuracy = 0.58\n",
      "{'clf__C': 0.1, 'clf__penalty': 'l2'}\n"
     ]
    }
   ],
   "source": [
    "print(f\"Accuracy = {grid.score(X_test, y_test):.2f}\")\n",
    "print(grid.best_params_)"
   ]
  },
  {
   "cell_type": "markdown",
   "metadata": {
    "colab_type": "text",
    "id": "TTMMnxg_w9xG"
   },
   "source": [
    "## Плюсы использования `Pipeline`\n",
    "\n",
    "1. Создание пайплайнов обеспечивает соблюдение определенного порядка выполнения операций, что способствует воспроизводимости и созданию удобного рабочего процесса.\n",
    "2. Полученный объект может быть передан во все процедуры библиотеки `sklearn` наравне со стандартными классами моделей. Например, это позволяет делать поиск гиперпараметров при помощи процедуры `GridSearchCV`.\n",
    "3. Структура класса позволяет лучше избежать утечек данных с валидационных множеств во время кросс-валидации."
   ]
  }
 ],
 "metadata": {
  "colab": {
   "name": "3. Pipelines.ipynb",
   "provenance": []
  },
  "kernelspec": {
   "display_name": "Python 3",
   "language": "python",
   "name": "python3"
  },
  "language_info": {
   "codemirror_mode": {
    "name": "ipython",
    "version": 3
   },
   "file_extension": ".py",
   "mimetype": "text/x-python",
   "name": "python",
   "nbconvert_exporter": "python",
   "pygments_lexer": "ipython3",
   "version": "3.7.6"
  }
 },
 "nbformat": 4,
 "nbformat_minor": 1
}
