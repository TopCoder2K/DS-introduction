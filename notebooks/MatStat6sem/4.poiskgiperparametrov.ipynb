{
 "cells": [
  {
   "cell_type": "code",
   "execution_count": 1,
   "metadata": {
    "colab": {},
    "colab_type": "code",
    "id": "Llyf5oChqt1C",
    "scrolled": true
   },
   "outputs": [],
   "source": [
    "import scipy.stats as sps\n",
    "import numpy as np\n",
    "\n",
    "from sklearn.model_selection import train_test_split\n",
    "from sklearn.model_selection import ShuffleSplit\n",
    "from sklearn.model_selection import StratifiedKFold\n",
    "from sklearn.model_selection import GridSearchCV\n",
    "from sklearn.linear_model import Ridge\n",
    "from sklearn.metrics import accuracy_score\n",
    "from sklearn import datasets\n",
    "\n",
    "import matplotlib.pyplot as plt\n",
    "import pandas as pd\n",
    "import seaborn as sns\n",
    "import warnings\n",
    "\n",
    "sns.set('notebook', style='whitegrid', font_scale=1.3)"
   ]
  },
  {
   "cell_type": "markdown",
   "metadata": {
    "colab_type": "text",
    "id": "a8ENAm1mqt1M"
   },
   "source": [
    "# Поиск гиперпараметров"
   ]
  },
  {
   "cell_type": "markdown",
   "metadata": {
    "colab_type": "text",
    "id": "aNlFhcoeqt1O"
   },
   "source": [
    "В машинном обучении существуют различные семейства моделей, выбор которых зависит от задачи, которая перед вам стоит.   "
   ]
  },
  {
   "cell_type": "markdown",
   "metadata": {
    "colab_type": "text",
    "id": "_KjtK4ARqt1Q"
   },
   "source": [
    "Предположим, вы выбрали семейство моделей, например, линейную регрессию. Теперь вам нужно настроить гиперпараметры данной модели. Для начала нужно определить, что в машинном обучении называют гиперпараметрами.  \n",
    "  \n",
    "**Гиперпараметры** &mdash; это параметры модели, которые задаются ДО ее обучения, т.е. они не являются обучаемымии параметрами и не изменяются в ходе обучения модели.  \n",
    "\n",
    "Пример: выбор способа регуляризации в модели линейной регрессии. Строго говоря, выбор семейства моделей также является гиперпараметром. \n",
    "\n",
    "В данном ноутбуке мы изучим различные методы подбора гиперапараметров, затем применим их к ридж-регрессии.  "
   ]
  },
  {
   "cell_type": "markdown",
   "metadata": {
    "colab_type": "text",
    "id": "K21E0iulqt1Z"
   },
   "source": [
    "В контексте линейной регрессии мы будем работать с таким гиперпараметром, как коэффициент регуляризации. Этот гиперпараметр относится к группе, которую мы в дальнейшем для удобства будем называть красными гиперпараметрами:  \n",
    "* <span style=\"color:red\">красные гиперпараметры </span> &mdash; гиперпараметры, ограничивающие модель. Если увеличить значение гиперпараметра такого типа, то можно снизить переобучение модели.  И, наоборот, уменьшение значений даст модели возможность лучше улавливать зависимости в данных. <br> \n",
    "\n",
    "Пример: коэффициент регуляризации в Ridge или Lasso регрессии является <span style=\"color:red\">красным гиперпараметром</span>. Чем больше данный коэффициент, тем меньше зависимостей улавливает модель, именно поэтому при больших значениях параметра регуляризации коэффициенты признаков зануляются.  "
   ]
  },
  {
   "cell_type": "markdown",
   "metadata": {},
   "source": [
    "О других видах гиперпараметров вы узнаете позже."
   ]
  },
  {
   "cell_type": "markdown",
   "metadata": {
    "colab_type": "text",
    "id": "PBv93X0cqt1b"
   },
   "source": [
    "## Поиск гиперпараметров для Ridge-регрессии"
   ]
  },
  {
   "cell_type": "markdown",
   "metadata": {
    "colab_type": "text",
    "id": "TUOUKrygqt1c"
   },
   "source": [
    "Будем предсказывать цены квартир в Бостоне при помощи линейной регрессии с $l_2$-регуляризацией. Вспомним, что в Ridge-регрессии мы оптимизируем \n",
    "\n",
    "$$\n",
    "\\lVert Y - X \\theta\\rVert^2_2 + \\alpha \\cdot \\lVert\\theta\\rVert^2_2,\n",
    "$$ \n",
    "\n",
    "где $Y$ &mdash; истинные значения целевой переменной, $X$ &mdash; матрица \"объект-признак\", $\\theta$ &mdash; параметр модели, $\\alpha$ &mdash; параметр регуляризации."
   ]
  },
  {
   "cell_type": "code",
   "execution_count": 2,
   "metadata": {
    "colab": {},
    "colab_type": "code",
    "id": "OYrt9eJ-qt1e"
   },
   "outputs": [],
   "source": [
    "boston = datasets.load_boston()  # данные о ценах квартир в Бостоне\n",
    "X = pd.DataFrame(data=boston['data'], columns=boston['feature_names'])\n",
    "y = boston['target']"
   ]
  },
  {
   "cell_type": "markdown",
   "metadata": {},
   "source": [
    "Описание датасета:"
   ]
  },
  {
   "cell_type": "code",
   "execution_count": 3,
   "metadata": {},
   "outputs": [
    {
     "name": "stdout",
     "output_type": "stream",
     "text": [
      ".. _boston_dataset:\n",
      "\n",
      "Boston house prices dataset\n",
      "---------------------------\n",
      "\n",
      "**Data Set Characteristics:**  \n",
      "\n",
      "    :Number of Instances: 506 \n",
      "\n",
      "    :Number of Attributes: 13 numeric/categorical predictive. Median Value (attribute 14) is usually the target.\n",
      "\n",
      "    :Attribute Information (in order):\n",
      "        - CRIM     per capita crime rate by town\n",
      "        - ZN       proportion of residential land zoned for lots over 25,000 sq.ft.\n",
      "        - INDUS    proportion of non-retail business acres per town\n",
      "        - CHAS     Charles River dummy variable (= 1 if tract bounds river; 0 otherwise)\n",
      "        - NOX      nitric oxides concentration (parts per 10 million)\n",
      "        - RM       average number of rooms per dwelling\n",
      "        - AGE      proportion of owner-occupied units built prior to 1940\n",
      "        - DIS      weighted distances to five Boston employment centres\n",
      "        - RAD      index of accessibility to radial highways\n",
      "        - TAX      full-value property-tax rate per $10,000\n",
      "        - PTRATIO  pupil-teacher ratio by town\n",
      "        - B        1000(Bk - 0.63)^2 where Bk is the proportion of blacks by town\n",
      "        - LSTAT    % lower status of the population\n",
      "        - MEDV     Median value of owner-occupied homes in $1000's\n",
      "\n",
      "    :Missing Attribute Values: None\n",
      "\n",
      "    :Creator: Harrison, D. and Rubinfeld, D.L.\n",
      "\n",
      "This is a copy of UCI ML housing dataset.\n",
      "https://archive.ics.uci.edu/ml/machine-learning-databases/housing/\n",
      "\n",
      "\n",
      "This dataset was taken from the StatLib library which is maintained at Carnegie Mellon University.\n",
      "\n",
      "The Boston house-price data of Harrison, D. and Rubinfeld, D.L. 'Hedonic\n",
      "prices and the demand for clean air', J. Environ. Economics & Management,\n",
      "vol.5, 81-102, 1978.   Used in Belsley, Kuh & Welsch, 'Regression diagnostics\n",
      "...', Wiley, 1980.   N.B. Various transformations are used in the table on\n",
      "pages 244-261 of the latter.\n",
      "\n",
      "The Boston house-price data has been used in many machine learning papers that address regression\n",
      "problems.   \n",
      "     \n",
      ".. topic:: References\n",
      "\n",
      "   - Belsley, Kuh & Welsch, 'Regression diagnostics: Identifying Influential Data and Sources of Collinearity', Wiley, 1980. 244-261.\n",
      "   - Quinlan,R. (1993). Combining Instance-Based and Model-Based Learning. In Proceedings on the Tenth International Conference of Machine Learning, 236-243, University of Massachusetts, Amherst. Morgan Kaufmann.\n",
      "\n"
     ]
    }
   ],
   "source": [
    "print(boston['DESCR'])"
   ]
  },
  {
   "cell_type": "code",
   "execution_count": 4,
   "metadata": {},
   "outputs": [
    {
     "data": {
      "text/html": [
       "<div>\n",
       "<style scoped>\n",
       "    .dataframe tbody tr th:only-of-type {\n",
       "        vertical-align: middle;\n",
       "    }\n",
       "\n",
       "    .dataframe tbody tr th {\n",
       "        vertical-align: top;\n",
       "    }\n",
       "\n",
       "    .dataframe thead th {\n",
       "        text-align: right;\n",
       "    }\n",
       "</style>\n",
       "<table border=\"1\" class=\"dataframe\">\n",
       "  <thead>\n",
       "    <tr style=\"text-align: right;\">\n",
       "      <th></th>\n",
       "      <th>CRIM</th>\n",
       "      <th>ZN</th>\n",
       "      <th>INDUS</th>\n",
       "      <th>CHAS</th>\n",
       "      <th>NOX</th>\n",
       "      <th>RM</th>\n",
       "      <th>AGE</th>\n",
       "      <th>DIS</th>\n",
       "      <th>RAD</th>\n",
       "      <th>TAX</th>\n",
       "      <th>PTRATIO</th>\n",
       "      <th>B</th>\n",
       "      <th>LSTAT</th>\n",
       "    </tr>\n",
       "  </thead>\n",
       "  <tbody>\n",
       "    <tr>\n",
       "      <th>0</th>\n",
       "      <td>0.00632</td>\n",
       "      <td>18.0</td>\n",
       "      <td>2.31</td>\n",
       "      <td>0.0</td>\n",
       "      <td>0.538</td>\n",
       "      <td>6.575</td>\n",
       "      <td>65.2</td>\n",
       "      <td>4.0900</td>\n",
       "      <td>1.0</td>\n",
       "      <td>296.0</td>\n",
       "      <td>15.3</td>\n",
       "      <td>396.90</td>\n",
       "      <td>4.98</td>\n",
       "    </tr>\n",
       "    <tr>\n",
       "      <th>1</th>\n",
       "      <td>0.02731</td>\n",
       "      <td>0.0</td>\n",
       "      <td>7.07</td>\n",
       "      <td>0.0</td>\n",
       "      <td>0.469</td>\n",
       "      <td>6.421</td>\n",
       "      <td>78.9</td>\n",
       "      <td>4.9671</td>\n",
       "      <td>2.0</td>\n",
       "      <td>242.0</td>\n",
       "      <td>17.8</td>\n",
       "      <td>396.90</td>\n",
       "      <td>9.14</td>\n",
       "    </tr>\n",
       "    <tr>\n",
       "      <th>2</th>\n",
       "      <td>0.02729</td>\n",
       "      <td>0.0</td>\n",
       "      <td>7.07</td>\n",
       "      <td>0.0</td>\n",
       "      <td>0.469</td>\n",
       "      <td>7.185</td>\n",
       "      <td>61.1</td>\n",
       "      <td>4.9671</td>\n",
       "      <td>2.0</td>\n",
       "      <td>242.0</td>\n",
       "      <td>17.8</td>\n",
       "      <td>392.83</td>\n",
       "      <td>4.03</td>\n",
       "    </tr>\n",
       "    <tr>\n",
       "      <th>3</th>\n",
       "      <td>0.03237</td>\n",
       "      <td>0.0</td>\n",
       "      <td>2.18</td>\n",
       "      <td>0.0</td>\n",
       "      <td>0.458</td>\n",
       "      <td>6.998</td>\n",
       "      <td>45.8</td>\n",
       "      <td>6.0622</td>\n",
       "      <td>3.0</td>\n",
       "      <td>222.0</td>\n",
       "      <td>18.7</td>\n",
       "      <td>394.63</td>\n",
       "      <td>2.94</td>\n",
       "    </tr>\n",
       "    <tr>\n",
       "      <th>4</th>\n",
       "      <td>0.06905</td>\n",
       "      <td>0.0</td>\n",
       "      <td>2.18</td>\n",
       "      <td>0.0</td>\n",
       "      <td>0.458</td>\n",
       "      <td>7.147</td>\n",
       "      <td>54.2</td>\n",
       "      <td>6.0622</td>\n",
       "      <td>3.0</td>\n",
       "      <td>222.0</td>\n",
       "      <td>18.7</td>\n",
       "      <td>396.90</td>\n",
       "      <td>5.33</td>\n",
       "    </tr>\n",
       "  </tbody>\n",
       "</table>\n",
       "</div>"
      ],
      "text/plain": [
       "      CRIM    ZN  INDUS  CHAS    NOX     RM   AGE     DIS  RAD    TAX  \\\n",
       "0  0.00632  18.0   2.31   0.0  0.538  6.575  65.2  4.0900  1.0  296.0   \n",
       "1  0.02731   0.0   7.07   0.0  0.469  6.421  78.9  4.9671  2.0  242.0   \n",
       "2  0.02729   0.0   7.07   0.0  0.469  7.185  61.1  4.9671  2.0  242.0   \n",
       "3  0.03237   0.0   2.18   0.0  0.458  6.998  45.8  6.0622  3.0  222.0   \n",
       "4  0.06905   0.0   2.18   0.0  0.458  7.147  54.2  6.0622  3.0  222.0   \n",
       "\n",
       "   PTRATIO       B  LSTAT  \n",
       "0     15.3  396.90   4.98  \n",
       "1     17.8  396.90   9.14  \n",
       "2     17.8  392.83   4.03  \n",
       "3     18.7  394.63   2.94  \n",
       "4     18.7  396.90   5.33  "
      ]
     },
     "execution_count": 4,
     "metadata": {},
     "output_type": "execute_result"
    }
   ],
   "source": [
    "X.head()"
   ]
  },
  {
   "cell_type": "markdown",
   "metadata": {},
   "source": [
    "Разберемся, что означают эти признаки:  \n",
    "* `CRIM` &mdash; уровень преступности на душу населения  \n",
    "* `ZN` &mdash; доля жилой земли на каждые 25 000 км$^2$\n",
    "* `INDUS` &mdash; доля неторговых площадей в районе\n",
    "* `CHAS` &mdash; индиактор того, что неподалеку река Чарльз\n",
    "* `NOX` &mdash; концентрация оксида азота\n",
    "* `RM` &mdash; среднее количество комнат в доме\n",
    "* `AGE` &mdash; доля зданий, построенных до 1940 года\n",
    "* `DIS` &mdash; взвешенные расстояния до пяти бостонских центров занятости\n",
    "* `RAD` &mdash; индекс доступности радиальных магистралей\n",
    "* `TAX` &mdash; ставка налога на полную стоимость имущества за 10 000 долларов\n",
    "* `PTRATIO` &mdash; количество учеников на учителя\n",
    "* `B` &mdash; доля темнокожих\n",
    "* `LSTAT` &mdash; доля населения с низким статусом"
   ]
  },
  {
   "cell_type": "markdown",
   "metadata": {
    "colab_type": "text",
    "id": "1__T-xk5qt1k"
   },
   "source": [
    "Получить гиперпараметры модели можно при помощи метода `get_params()`."
   ]
  },
  {
   "cell_type": "code",
   "execution_count": 5,
   "metadata": {
    "colab": {
     "base_uri": "https://localhost:8080/",
     "height": 150
    },
    "colab_type": "code",
    "id": "DFc5hTVsqt1m",
    "outputId": "9666c91d-9834-42c6-d7f0-c490b849d09a"
   },
   "outputs": [
    {
     "data": {
      "text/plain": [
       "{'alpha': 1.0,\n",
       " 'copy_X': True,\n",
       " 'fit_intercept': True,\n",
       " 'max_iter': None,\n",
       " 'normalize': False,\n",
       " 'random_state': None,\n",
       " 'solver': 'auto',\n",
       " 'tol': 0.001}"
      ]
     },
     "execution_count": 5,
     "metadata": {},
     "output_type": "execute_result"
    }
   ],
   "source": [
    "model = Ridge()\n",
    "model.get_params()"
   ]
  },
  {
   "cell_type": "markdown",
   "metadata": {
    "colab_type": "text",
    "id": "p1UtezJvqt1r"
   },
   "source": [
    "Самым важным гиперпараметром тут является `alpha` &mdash; коэффициент регуляризации. Именно его мы и будем искать при помощи техники полного перебора по сетке &mdash; `GridSearch`.  \n",
    " \n",
    "Суть перебора по сетке заключается в следующем: вы задаете область значений гиперпараметров, которые хотите оптимизировать, обучаете все модели, которые возможно получить в рамках заданного пространства поиска гиперпараметров. Затем выбираете из данных моделей ту, которая дала наилучшее качество на кросс-валидации. Этой модели соответствует конкретный набор значений гиперпараметров &mdash; его мы и ищем.  \n",
    "\n",
    "В `sklearn` вам нужно просто указать одномерную сетку отдельно для каждого из гиперпараметров, построение многомерного пространства поиска оптимальных гиперпараметров спрятано в реализации метода. Применим `GridSearch` на примере:"
   ]
  },
  {
   "cell_type": "code",
   "execution_count": 6,
   "metadata": {
    "colab": {},
    "colab_type": "code",
    "id": "uK-frwb5qt1t"
   },
   "outputs": [],
   "source": [
    "# задаем пространство поиска\n",
    "parameters_grid = {\n",
    "    'alpha' : np.linspace(0.00001, 2, num=1000)\n",
    "}\n",
    "\n",
    "# задаем стратегию кросс-валидации\n",
    "ss = ShuffleSplit(n_splits=5, test_size=0.25, random_state=0)\n",
    "\n",
    "# задаем модель\n",
    "model = Ridge()\n",
    "\n",
    "# определяем поиск по сетке \n",
    "gs = GridSearchCV(\n",
    "    # модель для обучения, в нашем случае Ridge\n",
    "    estimator=model,\n",
    "    # сетка значений гиперпараметров\n",
    "    param_grid=parameters_grid,\n",
    "    # метрика качества, берем MSE\n",
    "    scoring='neg_mean_squared_error',\n",
    "    # GridSearch отлично параллелится, указываем количество параллельных джоб\n",
    "    # -1 означает использование всех ядер\n",
    "    n_jobs=-1,\n",
    "    # стратегия кросс-валидации\n",
    "    cv=ss,\n",
    "    # сообщения с логами обучения: больше значение - больше сообщений\n",
    "    verbose=10,\n",
    "    # значение, присваиваемое scorer в случае ошибки при обучении\n",
    "    error_score='raise'\n",
    ")"
   ]
  },
  {
   "cell_type": "markdown",
   "metadata": {},
   "source": [
    "Стоит отметить, что в качестве scoring мы используем `neg_mean_squared_error`. Префикс neg показывает, что мы оптимизируем $(-1) \\cdot \\mathrm{MSE}$. Дело в том, что оптимизации в sklearn подразумевают **максимизацию** метрики качества."
   ]
  },
  {
   "cell_type": "code",
   "execution_count": 7,
   "metadata": {
    "colab": {
     "base_uri": "https://localhost:8080/",
     "height": 753
    },
    "colab_type": "code",
    "id": "CYsdSfixqt1y",
    "outputId": "744bf5bc-b9d9-4777-80d5-b1392ba768b4"
   },
   "outputs": [
    {
     "name": "stdout",
     "output_type": "stream",
     "text": [
      "Fitting 5 folds for each of 1000 candidates, totalling 5000 fits\n"
     ]
    },
    {
     "name": "stderr",
     "output_type": "stream",
     "text": [
      "[Parallel(n_jobs=-1)]: Using backend LokyBackend with 4 concurrent workers.\n",
      "[Parallel(n_jobs=-1)]: Done   5 tasks      | elapsed:    6.0s\n",
      "[Parallel(n_jobs=-1)]: Done  10 tasks      | elapsed:    6.2s\n",
      "[Parallel(n_jobs=-1)]: Done  17 tasks      | elapsed:    6.5s\n",
      "[Parallel(n_jobs=-1)]: Done  24 tasks      | elapsed:    6.7s\n",
      "[Parallel(n_jobs=-1)]: Done  33 tasks      | elapsed:    7.0s\n",
      "[Parallel(n_jobs=-1)]: Batch computation too fast (0.1960s.) Setting batch_size=2.\n",
      "[Parallel(n_jobs=-1)]: Done  42 tasks      | elapsed:    7.3s\n",
      "[Parallel(n_jobs=-1)]: Done  58 tasks      | elapsed:    7.6s\n",
      "[Parallel(n_jobs=-1)]: Done  80 tasks      | elapsed:    7.9s\n",
      "[Parallel(n_jobs=-1)]: Batch computation too fast (0.1835s.) Setting batch_size=4.\n",
      "[Parallel(n_jobs=-1)]: Done 108 tasks      | elapsed:    8.2s\n",
      "[Parallel(n_jobs=-1)]: Done 160 tasks      | elapsed:    8.8s\n",
      "[Parallel(n_jobs=-1)]: Done 220 tasks      | elapsed:    9.4s\n",
      "[Parallel(n_jobs=-1)]: Done 280 tasks      | elapsed:   10.0s\n",
      "[Parallel(n_jobs=-1)]: Done 348 tasks      | elapsed:   10.8s\n",
      "[Parallel(n_jobs=-1)]: Done 416 tasks      | elapsed:   11.6s\n",
      "[Parallel(n_jobs=-1)]: Done 492 tasks      | elapsed:   12.3s\n",
      "[Parallel(n_jobs=-1)]: Done 568 tasks      | elapsed:   12.9s\n",
      "[Parallel(n_jobs=-1)]: Done 652 tasks      | elapsed:   13.8s\n",
      "[Parallel(n_jobs=-1)]: Done 736 tasks      | elapsed:   14.8s\n",
      "[Parallel(n_jobs=-1)]: Done 828 tasks      | elapsed:   15.5s\n",
      "[Parallel(n_jobs=-1)]: Batch computation too fast (0.1968s.) Setting batch_size=8.\n",
      "[Parallel(n_jobs=-1)]: Batch computation too fast (0.1903s.) Setting batch_size=16.\n",
      "[Parallel(n_jobs=-1)]: Done 952 tasks      | elapsed:   16.3s\n",
      "[Parallel(n_jobs=-1)]: Done 1352 tasks      | elapsed:   18.6s\n",
      "[Parallel(n_jobs=-1)]: Done 1752 tasks      | elapsed:   20.9s\n",
      "[Parallel(n_jobs=-1)]: Done 2184 tasks      | elapsed:   23.7s\n",
      "[Parallel(n_jobs=-1)]: Done 2616 tasks      | elapsed:   26.4s\n",
      "[Parallel(n_jobs=-1)]: Done 3080 tasks      | elapsed:   29.3s\n",
      "[Parallel(n_jobs=-1)]: Done 3544 tasks      | elapsed:   31.6s\n",
      "[Parallel(n_jobs=-1)]: Done 4040 tasks      | elapsed:   34.0s\n",
      "[Parallel(n_jobs=-1)]: Done 4536 tasks      | elapsed:   36.9s\n",
      "[Parallel(n_jobs=-1)]: Done 4974 tasks      | elapsed:   39.6s\n",
      "[Parallel(n_jobs=-1)]: Done 5000 out of 5000 | elapsed:   39.7s finished\n"
     ]
    },
    {
     "name": "stdout",
     "output_type": "stream",
     "text": [
      "CPU times: user 5.07 s, sys: 194 ms, total: 5.27 s\n",
      "Wall time: 39.8 s\n"
     ]
    },
    {
     "data": {
      "text/plain": [
       "GridSearchCV(cv=ShuffleSplit(n_splits=5, random_state=0, test_size=0.25, train_size=None),\n",
       "             error_score='raise',\n",
       "             estimator=Ridge(alpha=1.0, copy_X=True, fit_intercept=True,\n",
       "                             max_iter=None, normalize=False, random_state=None,\n",
       "                             solver='auto', tol=0.001),\n",
       "             iid='deprecated', n_jobs=-1,\n",
       "             param_grid={'alpha': array([1.00000000e-05, 2.01199199e-03, 4.01398398e-03, 6.01597598e-03...\n",
       "       1.96196215e+00, 1.96396414e+00, 1.96596614e+00, 1.96796813e+00,\n",
       "       1.96997012e+00, 1.97197211e+00, 1.97397410e+00, 1.97597610e+00,\n",
       "       1.97797809e+00, 1.97998008e+00, 1.98198207e+00, 1.98398406e+00,\n",
       "       1.98598606e+00, 1.98798805e+00, 1.98999004e+00, 1.99199203e+00,\n",
       "       1.99399402e+00, 1.99599602e+00, 1.99799801e+00, 2.00000000e+00])},\n",
       "             pre_dispatch='2*n_jobs', refit=True, return_train_score=False,\n",
       "             scoring='neg_mean_squared_error', verbose=10)"
      ]
     },
     "execution_count": 7,
     "metadata": {},
     "output_type": "execute_result"
    }
   ],
   "source": [
    "%%time\n",
    "# выполняем поиск по сетке\n",
    "gs.fit(X, y)"
   ]
  },
  {
   "cell_type": "markdown",
   "metadata": {
    "colab_type": "text",
    "id": "66njAUT-qt13"
   },
   "source": [
    "Итак, мы выполнили полный перебор по сетке. Давайте посмотрим, какие атрибуты есть у `GridSearch` и чему они равны. \n",
    "\n",
    "Атрибут `cv_results_` возвращает информацию о времени выполнения обучения и подробности о значениях метрик. Значения данного атрибута удобнее отображать через `pd.DataFrame`."
   ]
  },
  {
   "cell_type": "code",
   "execution_count": 8,
   "metadata": {
    "colab": {
     "base_uri": "https://localhost:8080/",
     "height": 283
    },
    "colab_type": "code",
    "id": "xaO_GSaBqt14",
    "outputId": "37463381-bf62-4bc2-da48-3f92e78eabb4"
   },
   "outputs": [
    {
     "data": {
      "text/html": [
       "<div>\n",
       "<style scoped>\n",
       "    .dataframe tbody tr th:only-of-type {\n",
       "        vertical-align: middle;\n",
       "    }\n",
       "\n",
       "    .dataframe tbody tr th {\n",
       "        vertical-align: top;\n",
       "    }\n",
       "\n",
       "    .dataframe thead th {\n",
       "        text-align: right;\n",
       "    }\n",
       "</style>\n",
       "<table border=\"1\" class=\"dataframe\">\n",
       "  <thead>\n",
       "    <tr style=\"text-align: right;\">\n",
       "      <th></th>\n",
       "      <th>mean_fit_time</th>\n",
       "      <th>std_fit_time</th>\n",
       "      <th>mean_score_time</th>\n",
       "      <th>std_score_time</th>\n",
       "      <th>param_alpha</th>\n",
       "      <th>params</th>\n",
       "      <th>split0_test_score</th>\n",
       "      <th>split1_test_score</th>\n",
       "      <th>split2_test_score</th>\n",
       "      <th>split3_test_score</th>\n",
       "      <th>split4_test_score</th>\n",
       "      <th>mean_test_score</th>\n",
       "      <th>std_test_score</th>\n",
       "      <th>rank_test_score</th>\n",
       "    </tr>\n",
       "  </thead>\n",
       "  <tbody>\n",
       "    <tr>\n",
       "      <th>0</th>\n",
       "      <td>0.019730</td>\n",
       "      <td>0.006207</td>\n",
       "      <td>0.011997</td>\n",
       "      <td>0.005321</td>\n",
       "      <td>1e-05</td>\n",
       "      <td>{'alpha': 1e-05}</td>\n",
       "      <td>-29.782255</td>\n",
       "      <td>-32.267382</td>\n",
       "      <td>-28.280225</td>\n",
       "      <td>-22.238042</td>\n",
       "      <td>-22.424877</td>\n",
       "      <td>-26.998556</td>\n",
       "      <td>4.018289</td>\n",
       "      <td>1</td>\n",
       "    </tr>\n",
       "    <tr>\n",
       "      <th>1</th>\n",
       "      <td>0.014094</td>\n",
       "      <td>0.008158</td>\n",
       "      <td>0.013653</td>\n",
       "      <td>0.007455</td>\n",
       "      <td>0.00201199</td>\n",
       "      <td>{'alpha': 0.002011991991991992}</td>\n",
       "      <td>-29.784217</td>\n",
       "      <td>-32.269228</td>\n",
       "      <td>-28.280004</td>\n",
       "      <td>-22.237358</td>\n",
       "      <td>-22.424236</td>\n",
       "      <td>-26.999009</td>\n",
       "      <td>4.019338</td>\n",
       "      <td>2</td>\n",
       "    </tr>\n",
       "    <tr>\n",
       "      <th>2</th>\n",
       "      <td>0.014363</td>\n",
       "      <td>0.005050</td>\n",
       "      <td>0.007562</td>\n",
       "      <td>0.005435</td>\n",
       "      <td>0.00401398</td>\n",
       "      <td>{'alpha': 0.004013983983983983}</td>\n",
       "      <td>-29.786178</td>\n",
       "      <td>-32.271071</td>\n",
       "      <td>-28.279797</td>\n",
       "      <td>-22.236683</td>\n",
       "      <td>-22.423603</td>\n",
       "      <td>-26.999466</td>\n",
       "      <td>4.020384</td>\n",
       "      <td>3</td>\n",
       "    </tr>\n",
       "    <tr>\n",
       "      <th>3</th>\n",
       "      <td>0.018396</td>\n",
       "      <td>0.005929</td>\n",
       "      <td>0.005049</td>\n",
       "      <td>0.004292</td>\n",
       "      <td>0.00601598</td>\n",
       "      <td>{'alpha': 0.006015975975975975}</td>\n",
       "      <td>-29.788137</td>\n",
       "      <td>-32.272911</td>\n",
       "      <td>-28.279602</td>\n",
       "      <td>-22.236017</td>\n",
       "      <td>-22.422978</td>\n",
       "      <td>-26.999929</td>\n",
       "      <td>4.021426</td>\n",
       "      <td>4</td>\n",
       "    </tr>\n",
       "    <tr>\n",
       "      <th>4</th>\n",
       "      <td>0.015930</td>\n",
       "      <td>0.012884</td>\n",
       "      <td>0.007728</td>\n",
       "      <td>0.003205</td>\n",
       "      <td>0.00801797</td>\n",
       "      <td>{'alpha': 0.008017967967967967}</td>\n",
       "      <td>-29.790096</td>\n",
       "      <td>-32.274748</td>\n",
       "      <td>-28.279421</td>\n",
       "      <td>-22.235360</td>\n",
       "      <td>-22.422361</td>\n",
       "      <td>-27.000397</td>\n",
       "      <td>4.022464</td>\n",
       "      <td>5</td>\n",
       "    </tr>\n",
       "    <tr>\n",
       "      <th>...</th>\n",
       "      <td>...</td>\n",
       "      <td>...</td>\n",
       "      <td>...</td>\n",
       "      <td>...</td>\n",
       "      <td>...</td>\n",
       "      <td>...</td>\n",
       "      <td>...</td>\n",
       "      <td>...</td>\n",
       "      <td>...</td>\n",
       "      <td>...</td>\n",
       "      <td>...</td>\n",
       "      <td>...</td>\n",
       "      <td>...</td>\n",
       "      <td>...</td>\n",
       "    </tr>\n",
       "    <tr>\n",
       "      <th>995</th>\n",
       "      <td>0.013368</td>\n",
       "      <td>0.010216</td>\n",
       "      <td>0.007332</td>\n",
       "      <td>0.007039</td>\n",
       "      <td>1.99199</td>\n",
       "      <td>{'alpha': 1.991992032032032}</td>\n",
       "      <td>-30.862732</td>\n",
       "      <td>-33.139910</td>\n",
       "      <td>-28.908917</td>\n",
       "      <td>-22.498731</td>\n",
       "      <td>-22.507605</td>\n",
       "      <td>-27.583579</td>\n",
       "      <td>4.358976</td>\n",
       "      <td>996</td>\n",
       "    </tr>\n",
       "    <tr>\n",
       "      <th>996</th>\n",
       "      <td>0.010284</td>\n",
       "      <td>0.008301</td>\n",
       "      <td>0.002275</td>\n",
       "      <td>0.000125</td>\n",
       "      <td>1.99399</td>\n",
       "      <td>{'alpha': 1.993994024024024}</td>\n",
       "      <td>-30.863263</td>\n",
       "      <td>-33.140273</td>\n",
       "      <td>-28.909397</td>\n",
       "      <td>-22.499066</td>\n",
       "      <td>-22.507703</td>\n",
       "      <td>-27.583940</td>\n",
       "      <td>4.359077</td>\n",
       "      <td>997</td>\n",
       "    </tr>\n",
       "    <tr>\n",
       "      <th>997</th>\n",
       "      <td>0.007465</td>\n",
       "      <td>0.002904</td>\n",
       "      <td>0.008263</td>\n",
       "      <td>0.004809</td>\n",
       "      <td>1.996</td>\n",
       "      <td>{'alpha': 1.995996016016016}</td>\n",
       "      <td>-30.863794</td>\n",
       "      <td>-33.140635</td>\n",
       "      <td>-28.909876</td>\n",
       "      <td>-22.499400</td>\n",
       "      <td>-22.507801</td>\n",
       "      <td>-27.584301</td>\n",
       "      <td>4.359177</td>\n",
       "      <td>998</td>\n",
       "    </tr>\n",
       "    <tr>\n",
       "      <th>998</th>\n",
       "      <td>0.024899</td>\n",
       "      <td>0.013004</td>\n",
       "      <td>0.005273</td>\n",
       "      <td>0.005824</td>\n",
       "      <td>1.998</td>\n",
       "      <td>{'alpha': 1.997998008008008}</td>\n",
       "      <td>-30.864324</td>\n",
       "      <td>-33.140997</td>\n",
       "      <td>-28.910355</td>\n",
       "      <td>-22.499735</td>\n",
       "      <td>-22.507899</td>\n",
       "      <td>-27.584662</td>\n",
       "      <td>4.359278</td>\n",
       "      <td>999</td>\n",
       "    </tr>\n",
       "    <tr>\n",
       "      <th>999</th>\n",
       "      <td>0.007314</td>\n",
       "      <td>0.003550</td>\n",
       "      <td>0.005138</td>\n",
       "      <td>0.005197</td>\n",
       "      <td>2</td>\n",
       "      <td>{'alpha': 2.0}</td>\n",
       "      <td>-30.864853</td>\n",
       "      <td>-33.141358</td>\n",
       "      <td>-28.910834</td>\n",
       "      <td>-22.500069</td>\n",
       "      <td>-22.507997</td>\n",
       "      <td>-27.585022</td>\n",
       "      <td>4.359378</td>\n",
       "      <td>1000</td>\n",
       "    </tr>\n",
       "  </tbody>\n",
       "</table>\n",
       "<p>1000 rows × 14 columns</p>\n",
       "</div>"
      ],
      "text/plain": [
       "     mean_fit_time  std_fit_time  mean_score_time  std_score_time param_alpha  \\\n",
       "0         0.019730      0.006207         0.011997        0.005321       1e-05   \n",
       "1         0.014094      0.008158         0.013653        0.007455  0.00201199   \n",
       "2         0.014363      0.005050         0.007562        0.005435  0.00401398   \n",
       "3         0.018396      0.005929         0.005049        0.004292  0.00601598   \n",
       "4         0.015930      0.012884         0.007728        0.003205  0.00801797   \n",
       "..             ...           ...              ...             ...         ...   \n",
       "995       0.013368      0.010216         0.007332        0.007039     1.99199   \n",
       "996       0.010284      0.008301         0.002275        0.000125     1.99399   \n",
       "997       0.007465      0.002904         0.008263        0.004809       1.996   \n",
       "998       0.024899      0.013004         0.005273        0.005824       1.998   \n",
       "999       0.007314      0.003550         0.005138        0.005197           2   \n",
       "\n",
       "                              params  split0_test_score  split1_test_score  \\\n",
       "0                   {'alpha': 1e-05}         -29.782255         -32.267382   \n",
       "1    {'alpha': 0.002011991991991992}         -29.784217         -32.269228   \n",
       "2    {'alpha': 0.004013983983983983}         -29.786178         -32.271071   \n",
       "3    {'alpha': 0.006015975975975975}         -29.788137         -32.272911   \n",
       "4    {'alpha': 0.008017967967967967}         -29.790096         -32.274748   \n",
       "..                               ...                ...                ...   \n",
       "995     {'alpha': 1.991992032032032}         -30.862732         -33.139910   \n",
       "996     {'alpha': 1.993994024024024}         -30.863263         -33.140273   \n",
       "997     {'alpha': 1.995996016016016}         -30.863794         -33.140635   \n",
       "998     {'alpha': 1.997998008008008}         -30.864324         -33.140997   \n",
       "999                   {'alpha': 2.0}         -30.864853         -33.141358   \n",
       "\n",
       "     split2_test_score  split3_test_score  split4_test_score  mean_test_score  \\\n",
       "0           -28.280225         -22.238042         -22.424877       -26.998556   \n",
       "1           -28.280004         -22.237358         -22.424236       -26.999009   \n",
       "2           -28.279797         -22.236683         -22.423603       -26.999466   \n",
       "3           -28.279602         -22.236017         -22.422978       -26.999929   \n",
       "4           -28.279421         -22.235360         -22.422361       -27.000397   \n",
       "..                 ...                ...                ...              ...   \n",
       "995         -28.908917         -22.498731         -22.507605       -27.583579   \n",
       "996         -28.909397         -22.499066         -22.507703       -27.583940   \n",
       "997         -28.909876         -22.499400         -22.507801       -27.584301   \n",
       "998         -28.910355         -22.499735         -22.507899       -27.584662   \n",
       "999         -28.910834         -22.500069         -22.507997       -27.585022   \n",
       "\n",
       "     std_test_score  rank_test_score  \n",
       "0          4.018289                1  \n",
       "1          4.019338                2  \n",
       "2          4.020384                3  \n",
       "3          4.021426                4  \n",
       "4          4.022464                5  \n",
       "..              ...              ...  \n",
       "995        4.358976              996  \n",
       "996        4.359077              997  \n",
       "997        4.359177              998  \n",
       "998        4.359278              999  \n",
       "999        4.359378             1000  \n",
       "\n",
       "[1000 rows x 14 columns]"
      ]
     },
     "execution_count": 8,
     "metadata": {},
     "output_type": "execute_result"
    }
   ],
   "source": [
    "results = gs.cv_results_\n",
    "pd.DataFrame(results)"
   ]
  },
  {
   "cell_type": "markdown",
   "metadata": {},
   "source": [
    "Каждой строке в этой таблице соответствуют результаты эксперимента для конкретного значения гиперпараметра. Для поиска оптимального параметра регуляризации мы выбрали сетку из 1000 элементов, соответственно, в данной таблице 1000 строк. Также напомним, что в каждом эксперименте проводится процедура кросс-валидации, то есть модель обучается несколько раз на разных батчах. Разберемся, что в каждом столбце таблицы выше:\n",
    "* `mean_fit_time` &mdash; среднее время обучения модели.\n",
    "* `std_fit_time` &mdash; стандартное отклонение времени обучения модели.\n",
    "* `mean_score_time` &mdash; среднее время  предсказания модели. \n",
    "* `std_score_time` &mdash; стандартное отклонение времение предсказания модели.\n",
    "* `param_alpha` &mdash; значение гиперпараметра. \n",
    "* `params` &mdash; значения всех гиперпараметров в виде словаря. \n",
    "* `split0_test_score` и тд &mdash; значения метрики на каждом из этапов кросс-валидации. \n",
    "* `mean_test_score` &mdash; усредненное значение метрики на тестовых батчах.\n",
    "* `std_test_score` &mdash; стандартное отклонение значений метрики на тестовых батчах.\n",
    "* `rank_test_score` &mdash; ранг эксперимента. Все эксприменты отсортированы по `mean_test_score`, ранг &mdash; это место эксперимента в отсортированном списке экспериментов."
   ]
  },
  {
   "cell_type": "markdown",
   "metadata": {},
   "source": [
    "Лучшая модель:"
   ]
  },
  {
   "cell_type": "code",
   "execution_count": 9,
   "metadata": {
    "colab": {
     "base_uri": "https://localhost:8080/",
     "height": 50
    },
    "colab_type": "code",
    "id": "xd68vUY4qt17",
    "outputId": "17fbd98d-6263-4371-ba2f-53bacfdde22d"
   },
   "outputs": [
    {
     "data": {
      "text/plain": [
       "Ridge(alpha=1e-05, copy_X=True, fit_intercept=True, max_iter=None,\n",
       "      normalize=False, random_state=None, solver='auto', tol=0.001)"
      ]
     },
     "execution_count": 9,
     "metadata": {},
     "output_type": "execute_result"
    }
   ],
   "source": [
    "gs.best_estimator_ "
   ]
  },
  {
   "cell_type": "markdown",
   "metadata": {},
   "source": [
    "Значение метрики лучшей модели:\n"
   ]
  },
  {
   "cell_type": "code",
   "execution_count": 10,
   "metadata": {
    "colab": {
     "base_uri": "https://localhost:8080/",
     "height": 33
    },
    "colab_type": "code",
    "id": "LHXQMFutqt19",
    "outputId": "c3b0de6a-7781-40a1-c67f-7fbdda6fe509"
   },
   "outputs": [
    {
     "data": {
      "text/plain": [
       "-26.998556105304555"
      ]
     },
     "execution_count": 10,
     "metadata": {},
     "output_type": "execute_result"
    }
   ],
   "source": [
    "gs.best_score_ "
   ]
  },
  {
   "cell_type": "markdown",
   "metadata": {},
   "source": [
    "Значения гиперпараметров лучшей модели:"
   ]
  },
  {
   "cell_type": "code",
   "execution_count": 11,
   "metadata": {
    "colab": {
     "base_uri": "https://localhost:8080/",
     "height": 33
    },
    "colab_type": "code",
    "id": "gFt9uepCqt2A",
    "outputId": "392405e9-e468-4383-ee6c-61c064a2327d"
   },
   "outputs": [
    {
     "data": {
      "text/plain": [
       "{'alpha': 1e-05}"
      ]
     },
     "execution_count": 11,
     "metadata": {},
     "output_type": "execute_result"
    }
   ],
   "source": [
    "gs.best_params_ "
   ]
  },
  {
   "cell_type": "markdown",
   "metadata": {},
   "source": [
    "Время обучения лучшей модели в секундах:"
   ]
  },
  {
   "cell_type": "code",
   "execution_count": 12,
   "metadata": {
    "colab": {
     "base_uri": "https://localhost:8080/",
     "height": 33
    },
    "colab_type": "code",
    "id": "D9ccknhHqt2C",
    "outputId": "41fb50a5-f6dc-4c92-9e0c-df2938acf6cb"
   },
   "outputs": [
    {
     "data": {
      "text/plain": [
       "0.019248247146606445"
      ]
     },
     "execution_count": 12,
     "metadata": {},
     "output_type": "execute_result"
    }
   ],
   "source": [
    "gs.refit_time_ "
   ]
  }
 ],
 "metadata": {
  "colab": {
   "collapsed_sections": [],
   "name": "Hyper.ipynb",
   "provenance": []
  },
  "hide_input": false,
  "kernelspec": {
   "display_name": "Python 3",
   "language": "python",
   "name": "python3"
  },
  "language_info": {
   "codemirror_mode": {
    "name": "ipython",
    "version": 3
   },
   "file_extension": ".py",
   "mimetype": "text/x-python",
   "name": "python",
   "nbconvert_exporter": "python",
   "pygments_lexer": "ipython3",
   "version": "3.7.6"
  }
 },
 "nbformat": 4,
 "nbformat_minor": 1
}
