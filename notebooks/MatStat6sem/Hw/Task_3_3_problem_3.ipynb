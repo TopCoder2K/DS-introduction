{
 "cells": [
  {
   "cell_type": "markdown",
   "metadata": {},
   "source": [
    "### Задача 3\n",
    "\n",
    "*Эту задачу можно выполнить в Питоне. Можно в отдельном ноутбуке.*\n",
    "\n",
    "Проведите эксперимент по определению реального уровня значимости критерия для проверки гипотезы о незначимости коэффициента в гауссовской линейной модели, если на самом деле в данных присутствует гетероскедастичность. \n",
    "Для этого смоделируйте некоторым образом двумерные данные $x$ и посчитайте по ним ожидаемый отклик \n",
    "\t$y(x) = \\theta_0 + \\theta_1 x^{(1)} + \\theta_2 x^{(2)}$, где коэффициенты выберите по своему усмотрению, причем $\\theta_2 = 0$. \n",
    "Зашумите набор значений $y(x_i)$ некоторым шумом, дисперсия которого зависит от $x$ или от номера наблюдения. \n",
    "По таким данным обучите\tлинейную модель и проверьте гипотезу $\\mathsf{H}_0\\colon \\theta_2 = 0$. \n",
    "Повторите эксперимент несколько раз и посчитайте долю случаев, в которых гипотеза отвергается. Распределение шума должно быть одинаковым в каждом эксперименте."
   ]
  },
  {
   "cell_type": "code",
   "execution_count": 98,
   "metadata": {
    "ExecuteTime": {
     "end_time": "2021-02-16T09:37:38.891636Z",
     "start_time": "2021-02-16T09:37:38.871547Z"
    }
   },
   "outputs": [],
   "source": [
    "import scipy.stats as sps\n",
    "import numpy as np\n",
    "\n",
    "# Смоделируем данные\n",
    "n = 100\n",
    "X = sps.multivariate_normal(mean=[0, 0], cov=[[100, 0], [0, 100]]).rvs(size=n)\n",
    "theta_0 = 10\n",
    "theta_1 = 1\n",
    "theta_2 = 0\n",
    "X = np.hstack((np.array([1] * n).reshape(n, -1), X))\n",
    "y_true = X @ np.array([theta_0, theta_1, theta_2])\n",
    "\n",
    "# Зашумим истинные значения\n",
    "y = y_true.reshape(n, -1) +\\\n",
    "sps.norm(scale = np.abs(X[:, 1].reshape(n, -1) / 5)).rvs(size=(n, 1))"
   ]
  },
  {
   "cell_type": "code",
   "execution_count": 99,
   "metadata": {
    "ExecuteTime": {
     "end_time": "2021-02-16T09:37:39.807520Z",
     "start_time": "2021-02-16T09:37:39.375382Z"
    }
   },
   "outputs": [
    {
     "data": {
      "text/html": [
       "<table class=\"simpletable\">\n",
       "<caption>OLS Regression Results</caption>\n",
       "<tr>\n",
       "  <th>Dep. Variable:</th>            <td>y</td>        <th>  R-squared:         </th> <td>   0.966</td>\n",
       "</tr>\n",
       "<tr>\n",
       "  <th>Model:</th>                   <td>OLS</td>       <th>  Adj. R-squared:    </th> <td>   0.966</td>\n",
       "</tr>\n",
       "<tr>\n",
       "  <th>Method:</th>             <td>Least Squares</td>  <th>  F-statistic:       </th> <td>   1397.</td>\n",
       "</tr>\n",
       "<tr>\n",
       "  <th>Date:</th>             <td>Tue, 16 Feb 2021</td> <th>  Prob (F-statistic):</th> <td>3.20e-72</td>\n",
       "</tr>\n",
       "<tr>\n",
       "  <th>Time:</th>                 <td>12:37:39</td>     <th>  Log-Likelihood:    </th> <td> -205.51</td>\n",
       "</tr>\n",
       "<tr>\n",
       "  <th>No. Observations:</th>      <td>   100</td>      <th>  AIC:               </th> <td>   417.0</td>\n",
       "</tr>\n",
       "<tr>\n",
       "  <th>Df Residuals:</th>          <td>    97</td>      <th>  BIC:               </th> <td>   424.8</td>\n",
       "</tr>\n",
       "<tr>\n",
       "  <th>Df Model:</th>              <td>     2</td>      <th>                     </th>     <td> </td>   \n",
       "</tr>\n",
       "<tr>\n",
       "  <th>Covariance Type:</th>      <td>nonrobust</td>    <th>                     </th>     <td> </td>   \n",
       "</tr>\n",
       "</table>\n",
       "<table class=\"simpletable\">\n",
       "<tr>\n",
       "    <td></td>       <th>coef</th>     <th>std err</th>      <th>t</th>      <th>P>|t|</th>  <th>[0.025</th>    <th>0.975]</th>  \n",
       "</tr>\n",
       "<tr>\n",
       "  <th>const</th> <td>    9.8363</td> <td>    0.192</td> <td>   51.192</td> <td> 0.000</td> <td>    9.455</td> <td>   10.218</td>\n",
       "</tr>\n",
       "<tr>\n",
       "  <th>x1</th>    <td>    0.9521</td> <td>    0.018</td> <td>   52.849</td> <td> 0.000</td> <td>    0.916</td> <td>    0.988</td>\n",
       "</tr>\n",
       "<tr>\n",
       "  <th>x2</th>    <td>   -0.0328</td> <td>    0.022</td> <td>   -1.498</td> <td> 0.137</td> <td>   -0.076</td> <td>    0.011</td>\n",
       "</tr>\n",
       "</table>\n",
       "<table class=\"simpletable\">\n",
       "<tr>\n",
       "  <th>Omnibus:</th>       <td>41.282</td> <th>  Durbin-Watson:     </th> <td>   1.944</td>\n",
       "</tr>\n",
       "<tr>\n",
       "  <th>Prob(Omnibus):</th> <td> 0.000</td> <th>  Jarque-Bera (JB):  </th> <td> 230.230</td>\n",
       "</tr>\n",
       "<tr>\n",
       "  <th>Skew:</th>          <td>-1.137</td> <th>  Prob(JB):          </th> <td>1.01e-50</td>\n",
       "</tr>\n",
       "<tr>\n",
       "  <th>Kurtosis:</th>      <td>10.077</td> <th>  Cond. No.          </th> <td>    10.7</td>\n",
       "</tr>\n",
       "</table><br/><br/>Warnings:<br/>[1] Standard Errors assume that the covariance matrix of the errors is correctly specified."
      ],
      "text/plain": [
       "<class 'statsmodels.iolib.summary.Summary'>\n",
       "\"\"\"\n",
       "                            OLS Regression Results                            \n",
       "==============================================================================\n",
       "Dep. Variable:                      y   R-squared:                       0.966\n",
       "Model:                            OLS   Adj. R-squared:                  0.966\n",
       "Method:                 Least Squares   F-statistic:                     1397.\n",
       "Date:                Tue, 16 Feb 2021   Prob (F-statistic):           3.20e-72\n",
       "Time:                        12:37:39   Log-Likelihood:                -205.51\n",
       "No. Observations:                 100   AIC:                             417.0\n",
       "Df Residuals:                      97   BIC:                             424.8\n",
       "Df Model:                           2                                         \n",
       "Covariance Type:            nonrobust                                         \n",
       "==============================================================================\n",
       "                 coef    std err          t      P>|t|      [0.025      0.975]\n",
       "------------------------------------------------------------------------------\n",
       "const          9.8363      0.192     51.192      0.000       9.455      10.218\n",
       "x1             0.9521      0.018     52.849      0.000       0.916       0.988\n",
       "x2            -0.0328      0.022     -1.498      0.137      -0.076       0.011\n",
       "==============================================================================\n",
       "Omnibus:                       41.282   Durbin-Watson:                   1.944\n",
       "Prob(Omnibus):                  0.000   Jarque-Bera (JB):              230.230\n",
       "Skew:                          -1.137   Prob(JB):                     1.01e-50\n",
       "Kurtosis:                      10.077   Cond. No.                         10.7\n",
       "==============================================================================\n",
       "\n",
       "Warnings:\n",
       "[1] Standard Errors assume that the covariance matrix of the errors is correctly specified.\n",
       "\"\"\""
      ]
     },
     "execution_count": 99,
     "metadata": {},
     "output_type": "execute_result"
    }
   ],
   "source": [
    "import statsmodels.api as sm\n",
    "\n",
    "# Обучим ЛР и посмотрим на гипотезы о незначимости\n",
    "model = sm.OLS(y, X)\n",
    "res = model.fit()\n",
    "res.summary()"
   ]
  },
  {
   "cell_type": "markdown",
   "metadata": {},
   "source": [
    "**Вывод.** Как мы видим, p-value для x2 равен 0.137, то есть гипотеза о незначимости коэффициента не отвергается."
   ]
  },
  {
   "cell_type": "code",
   "execution_count": 110,
   "metadata": {
    "ExecuteTime": {
     "end_time": "2021-02-16T09:53:26.073378Z",
     "start_time": "2021-02-16T09:53:18.712345Z"
    }
   },
   "outputs": [
    {
     "name": "stdout",
     "output_type": "stream",
     "text": [
      "Доля случаев отвержения гипотез: 0.020\n",
      "Доля случаев отвержения гипотез: 0.040\n",
      "Доля случаев отвержения гипотез: 0.040\n",
      "Доля случаев отвержения гипотез: 0.060\n",
      "Доля случаев отвержения гипотез: 0.040\n",
      "Доля случаев отвержения гипотез: 0.020\n",
      "Доля случаев отвержения гипотез: 0.050\n",
      "Доля случаев отвержения гипотез: 0.040\n",
      "Доля случаев отвержения гипотез: 0.040\n",
      "Доля случаев отвержения гипотез: 0.040\n"
     ]
    }
   ],
   "source": [
    "# Проведём этот эксперимент несколько раз и найдём долю отвержений\n",
    "\n",
    "tests_cnt = 100\n",
    "for test_num in range(10):\n",
    "    rejected_cnt = 0\n",
    "    for i in range(tests_cnt):\n",
    "        X = sps.multivariate_normal(\n",
    "            mean=[0, 0], cov=[[100, 0], [0, 100]]).rvs(size=n)\n",
    "        X = np.hstack((np.array([1] * n).reshape(n, -1), X))\n",
    "        y_true = X @ np.array([theta_0, theta_1, theta_2])\n",
    "\n",
    "        # Хороший вопрос, что имелось в виду в условии под \"одинаковым распределением шума\"\n",
    "        # вставлять один и тот же шум нельзя: потеряется зависимость от текущих х\n",
    "        # так что параметры распределения шума будут разными в разных экспериментах\n",
    "        y = y_true.reshape(n, -1) +\\\n",
    "        sps.norm(scale = np.abs(X[:, 1].reshape(n, -1) / 5)).rvs(size=(n, 1))\n",
    "\n",
    "        model = sm.OLS(y, X)\n",
    "        res = model.fit()\n",
    "        res.summary()\n",
    "\n",
    "        pval = float(res.summary().tables[1].data[3][4])\n",
    "        if pval <= 0.05:\n",
    "            rejected_cnt += 1\n",
    "\n",
    "    print(\"Доля случаев отвержения гипотез: {0:.3f}\".format(rejected_cnt / tests_cnt))"
   ]
  },
  {
   "cell_type": "markdown",
   "metadata": {},
   "source": [
    "**Вывод.** Таким образом, всё равно есть небольшая доля случаев, в которых происходит отвержение $H_0$, но заметим, что доля таких случаев часто не превышает 0.05. Похоже, что это связано с тем, что p <= 0.05 (то есть веротяность ошибки первого рода соответствующего критерия <= 0.05)."
   ]
  },
  {
   "cell_type": "code",
   "execution_count": null,
   "metadata": {},
   "outputs": [],
   "source": []
  }
 ],
 "metadata": {
  "hide_input": false,
  "kernelspec": {
   "display_name": "Python [conda env:mipt-stats] *",
   "language": "python",
   "name": "conda-env-mipt-stats-py"
  },
  "language_info": {
   "codemirror_mode": {
    "name": "ipython",
    "version": 3
   },
   "file_extension": ".py",
   "mimetype": "text/x-python",
   "name": "python",
   "nbconvert_exporter": "python",
   "pygments_lexer": "ipython3",
   "version": "3.7.6"
  }
 },
 "nbformat": 4,
 "nbformat_minor": 4
}
