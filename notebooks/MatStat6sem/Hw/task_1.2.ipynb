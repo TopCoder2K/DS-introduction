{
 "cells": [
  {
   "cell_type": "markdown",
   "metadata": {
    "id": "fi7nsu_qWQJ5"
   },
   "source": [
    "# Машинное обучение, DS-поток\n",
    "## Задание 1.2\n",
    "\n",
    "\n",
    "**Правила:**\n",
    "\n",
    "* Выполненную работу нужно отправить телеграм-боту `@miptstats_ds20_bot`.\n",
    "* Дедлайны см. в боте. После дедлайна работы не принимаются кроме случаев наличия уважительной причины.\n",
    "* Прислать нужно ноутбук в формате `ipynb`.\n",
    "* Решения, размещенные на каких-либо интернет-ресурсах не принимаются. Публикация решения может быть приравнена к предоставлении возможности списать.\n",
    "* Для выполнения задания используйте этот ноутбук в качествие основы, ничего не удаляя из него.\n",
    "\n",
    "**Задание стоит 15 баллов.**"
   ]
  },
  {
   "cell_type": "code",
   "execution_count": 1,
   "metadata": {
    "ExecuteTime": {
     "end_time": "2021-02-22T13:04:19.191877Z",
     "start_time": "2021-02-22T13:04:01.542277Z"
    },
    "id": "ob0NcmbxWQJ7"
   },
   "outputs": [],
   "source": [
    "import numpy as np\n",
    "import pandas as pd\n",
    "from sklearn.base import BaseEstimator\n",
    "from sklearn.metrics import accuracy_score, r2_score\n",
    "from sklearn.model_selection import GridSearchCV, train_test_split\n",
    "import matplotlib.pyplot as plt\n",
    "import warnings\n",
    "import seaborn as sns\n",
    "\n",
    "warnings.filterwarnings('ignore')\n",
    "sns.set(font_scale=1.6)\n",
    "plt.rcParams['axes.facecolor'] = 'lightgrey'"
   ]
  },
  {
   "cell_type": "markdown",
   "metadata": {
    "id": "GbDWBVzYWQJ8"
   },
   "source": [
    "Вспомним, как именно происходит построение решающего дерева. Для построения дерева в каждой нелистовой вершине происходит разбиение подвыборки на две части по некоторому признаку $x_j$. Этот признак и порог $t$, по которому будет происходить разбиение, мы хотим брать не произвольно, а основываясь на соображениях оптимальности.  Для этого нам необходимо знать некоторый фукционал качества, который будем оптимизировать при построении разбиения. \n",
    "\n",
    "Обозначим через $X_m$ — множество объектов, попавших в вершину $m$, разбиваемую на данном шаге, а через $X_l$ и $X_r$ — объекты, попадающие в левое и правое поддерево соответственно при заданном правиле $I\\{x_j < t\\}$. Пусть также $H$ — используемый критерий информативности (impurity criterion).\n",
    "\n",
    "Выпишите функционал, который необходимо минимизировать при разбиении вершины:"
   ]
  },
  {
   "cell_type": "markdown",
   "metadata": {
    "id": "zZ0jiXxcWQJ9"
   },
   "source": [
    "**Ответ:** $$Q(X_m, j, t) = \\frac{|X_l|}{|X_m|} H(X_l) + \\frac{|X_r|}{|X_m|} H(X_r)$$"
   ]
  },
  {
   "cell_type": "markdown",
   "metadata": {
    "id": "HnW-_loVWQJ9"
   },
   "source": [
    "**Реализация критериев информативности.**\n"
   ]
  },
  {
   "cell_type": "markdown",
   "metadata": {
    "id": "zdBYA06QWQJ-"
   },
   "source": [
    "Вспомните еще раз, на какой общей идее основаны критерии информативности и какую характеристику выборки они стремятся оптимизировать?\n",
    "\n",
    "**Ответ:** общая идея критериев информативности --- охарактеризовать разнородность данных в выборке. Они стремятся оптимизировать разброс значений элементов выборки.\n"
   ]
  },
  {
   "cell_type": "markdown",
   "metadata": {
    "id": "QioXc-WBWQJ-"
   },
   "source": [
    "Перед тем, как непосредственно работать с решающими деревьями, реализуйте функции подсчёта значения критериев разбиения вершин решающих деревьев. Использовать готовые реализации критериев или классов для решающих деревьев из `sklearn` и из других библиотек **запрещено.** Также при реализации критериев по причине неэффективности **запрещается использовать циклы**. Воспользуйтесь библиотекой `numpy`.\n",
    "\n",
    "Каждая функция принимает на вход одномерный `numpy` — массив размерности `(n,)` из значений отклика."
   ]
  },
  {
   "cell_type": "code",
   "execution_count": 9,
   "metadata": {
    "ExecuteTime": {
     "end_time": "2021-02-22T13:35:10.186282Z",
     "start_time": "2021-02-22T13:35:10.158495Z"
    },
    "id": "Je5AyjEHWQJ-"
   },
   "outputs": [],
   "source": [
    "# Код функций, реализующих критерии разбиения. \n",
    "\n",
    "def mean_square_criterion(y):\n",
    "    ''' Критерий для квадратичной функции потерь. '''\n",
    "    \n",
    "    y_copy = np.asarray(y)\n",
    "    return np.mean((y_copy - y_copy.mean())**2)\n",
    "\n",
    "\n",
    "def mean_abs_criterion(y):\n",
    "    ''' Критерий для абсолютной функции потерь. '''\n",
    "    \n",
    "    y_copy = np.asarray(y)\n",
    "    return np.mean(np.abs(y_copy - y_copy.mean()))\n",
    "\n",
    "\n",
    "def get_probs_by_y(y):\n",
    "    ''' Возвращает вектор частот для каждого класса выборки. '''\n",
    "\n",
    "    y_copy = np.asarray(y)\n",
    "    unique, counts = np.unique(y_copy, return_counts=True)\n",
    "    return counts / y_copy.shape[0]\n",
    "\n",
    "\n",
    "def gini_criterion(y):\n",
    "    ''' Критерий Джини. '''\n",
    "    \n",
    "    probs = get_probs_by_y(y)\n",
    "    return np.sum(probs * (1 - probs))\n",
    "\n",
    "\n",
    "def entropy_criterion(y):\n",
    "    ''' Энтропийный критерий. '''\n",
    "    \n",
    "    probs = get_probs_by_y(y)\n",
    "    return -np.sum(probs * np.log(probs))"
   ]
  },
  {
   "cell_type": "markdown",
   "metadata": {
    "id": "1dYdP_SsWQJ_"
   },
   "source": [
    "Протестируйте реализованные функции.\n",
    "\n",
    "Тесты для распределения вероятностей на классах."
   ]
  },
  {
   "cell_type": "code",
   "execution_count": 10,
   "metadata": {
    "ExecuteTime": {
     "end_time": "2021-02-22T13:35:11.596617Z",
     "start_time": "2021-02-22T13:35:11.391238Z"
    },
    "id": "FZdYl5hMWQJ_"
   },
   "outputs": [],
   "source": [
    "assert np.allclose(get_probs_by_y([1, 1, 2, 2, 7]), np.array([0.4, 0.4, 0.2]))\n",
    "assert np.allclose(get_probs_by_y([1]), np.array([1]))"
   ]
  },
  {
   "cell_type": "markdown",
   "metadata": {
    "id": "WTx1srwEWQJ_"
   },
   "source": [
    "Тесты для критериев разбиения."
   ]
  },
  {
   "cell_type": "code",
   "execution_count": 11,
   "metadata": {
    "ExecuteTime": {
     "end_time": "2021-02-22T13:35:13.357922Z",
     "start_time": "2021-02-22T13:35:13.344121Z"
    },
    "id": "jm74vCe9WQKA"
   },
   "outputs": [],
   "source": [
    "assert np.allclose(entropy_criterion([25]), 0)\n",
    "assert np.allclose(gini_criterion([25]), 0)\n",
    "assert np.allclose(mean_square_criterion([10, 10, 10]), 0)\n",
    "assert np.allclose(mean_abs_criterion([10, 10, 10]), 0)"
   ]
  },
  {
   "cell_type": "markdown",
   "metadata": {
    "id": "8jkjI3z3WQKA"
   },
   "source": [
    "**Реализация класса решающего дерева.**\n",
    "\n",
    "Для того, чтобы лучше понять, как устроены решающие деревья и как именно устроен процесс их построения, вам предлагается реализовать класс `BaseDecisionTree`, реализующий базовые функции решающего дерева.  Большая часть кода уже написана. \n",
    "\n",
    "Используются следующие классы:\n",
    "\n",
    "**Класс** `BaseDecisionTree` — класс для решающего дерева, в котором реализовано построение дерева. Все вершины дерева хранятся в списке `self.nodes`, при этом вершина с номером 0 — корень.\n",
    "\n",
    "\n",
    "* `__init__` — инициализация дерева. Здесь сохраняются гиперпараметры дерева: `criterion`, `max_depth`, `min_samples_split` и инициализируется список вершин, состоящий только из одной вершины — корневой,\n",
    "* `build_` — рекурсивная функция построения дерева. В ней при посещении каждой вершины дерева проверяются условия, стоит ли продолжать разбивать эту вершину. Если да, то перебираются все возможные признаки и пороговые значения и выбирается та пара (признак, значение), которой соответствует наименьшее значение критерия информативности,\n",
    "* `fit` — функция обучения дерева, принимающая на вход обучающую выборку. В этой функции происходит предподсчёт всех возможных пороговых значений для каждого из признаков, а затем вызывается функция `build_`.\n",
    "\n",
    "**Класс** `Node` — класс вершины дерева. Внутри вершины, помимо раздяляющего признака и порога хранятся `self.left_son`, `self.right_son` — номера дочерних вершин, а также `self.left_prob` и `self.right_prob` — вероятности попадания элемента в каждую из них. При этом в листовых вершиных хранятся также `self.y_values` — значения соответствующих элементов выборки, попавших в вершину.\n",
    "\n",
    "* `__init__` — инициализация вершины. Принимает в качестве аргументов разделяющий признак и пороговое значение и сохраняет их.\n",
    "\n",
    "**Класс** `DecisionTreeRegressor` — наследник класса `BaseDecisionTree`, в котором реализованы функции для предсказаний при решении задачи регрессии.\n",
    "\n",
    "* `predict_instance` — получение предсказания для одного элемента выборки. Выполняется посредством спуска по решающему дереву до листовой вершины,\n",
    "\n",
    "* `predict` — получение предсказаний для всех элементов выборки.\n",
    "\n",
    "\n",
    "**Класс** `DecisionTreeClassifier` — наследник класса `BaseDecisionTree`, в котором реализованы функции для предсказаний при решении задачи классификации.\n",
    "* `predict_proba_instance` — предсказание распределения вероятностей по классам для одного элемента выборки, \n",
    "* `predict_proba` — предсказание распределения вероятностей по классам для всех элементов выборки,\n",
    "* `predict` — предсказание меток классов для всех элементов выборки."
   ]
  },
  {
   "cell_type": "markdown",
   "metadata": {
    "id": "YQEau3fQWQKA"
   },
   "source": [
    "Перед написанием кода разбиения дерева, ответьте на вопрос, какие пороговые значения для каждого из признаков вы будете перебирать. Почему рассматривать другие значения в качестве пороговых не имеет смысла?"
   ]
  },
  {
   "cell_type": "markdown",
   "metadata": {
    "id": "11thq9BIWQKB"
   },
   "source": [
    "**Ответ:** в качестве пороговых перебираться будут только те значения, что встречаются в текущей вершине. Другие перебирать нет смысла, так как при промежуточных значениях попадающие влево и вправо элементы такие же, что и при пороговом."
   ]
  },
  {
   "cell_type": "markdown",
   "metadata": {
    "id": "Uw669AUBWQKB"
   },
   "source": [
    "**Структура решающего дерева**\n",
    "\n",
    "\n",
    "![fBDwbb5VHNQ.jpg](data:image/jpeg;base64,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)"
   ]
  },
  {
   "cell_type": "code",
   "execution_count": 16,
   "metadata": {
    "ExecuteTime": {
     "end_time": "2021-02-22T14:42:18.692645Z",
     "start_time": "2021-02-22T14:42:18.665792Z"
    },
    "id": "jjA9doLvWQKB"
   },
   "outputs": [],
   "source": [
    "def get_not_nans(arr):\n",
    "    '''\n",
    "    Функция, которая создаёт и возвращает новый массив \n",
    "    из всех элементов переданного массива, не являющихся None.\n",
    "    '''\n",
    "    \n",
    "    return arr.copy()[arr != None]\n",
    "\n",
    "\n",
    "class Node(object):\n",
    "    def __init__(self, split_feature=None, split_threshold=None):\n",
    "        '''\n",
    "        Функция инициализации вершины решающего дерева.\n",
    "        \n",
    "        Параметры.\n",
    "        1) split_feature — номер разделяющего признака\n",
    "        2) split_threshold — пороговое значение\n",
    "        '''\n",
    "        \n",
    "        self.split_feature = split_feature\n",
    "        self.split_threshold = split_threshold\n",
    "\n",
    "        # По умолчанию считаем, что у вершины нет дочерних вершин.\n",
    "        self.left_son, self.right_son = None, None\n",
    "\n",
    "        # Вероятности попадания в каждую из дочерних вершин нужно поддерживать \n",
    "        # для корректной обработки данных с пропусками\n",
    "        self.left_prob, self.right_prob = 0, 0\n",
    "\n",
    "        # Массив значений y. Определён только для листовых вершин дерева\n",
    "        self.y_values = None\n",
    "        \n",
    "\n",
    "class BaseDecisionTree(BaseEstimator):\n",
    "    '''\n",
    "    Здесь содержится реализация всех основных функций для работы\n",
    "    с решающим деревом.\n",
    "    \n",
    "    Наследование от класса BaseEstimator нужно для того, чтобы \n",
    "    в дальнейшем данный   класс можно было использовать в \n",
    "    различных функциях библиотеки sklearn, например, в функциях \n",
    "    для кросс-валидации.\n",
    "    '''\n",
    "    \n",
    "    def __init__(self, criterion, max_depth=np.inf, min_samples_split=2):\n",
    "        '''\n",
    "        Функция инициализации решающего дерева.\n",
    "        \n",
    "        Параметры.\n",
    "        1) criterion — критерий информативности, \n",
    "        2) max_depth — максимальная глубина дерева,\n",
    "        3) min_samples_split — минимальное количество элементов \n",
    "        обучающей выборки,  которое должно попасть в вершину, \n",
    "        чтобы потом происходило разбиение этой вершины.\n",
    "        '''\n",
    "        \n",
    "        self.criterion = criterion\n",
    "        self.max_depth = max_depth\n",
    "        self.min_samples_split = min_samples_split\n",
    "\n",
    "        # Список всех вершин дерева. В самом начале \n",
    "        # работы алгоритма есть только одна \n",
    "        # вершина — корень.\n",
    "        self.nodes = [Node()]\n",
    "\n",
    "        # Количество классов. Актуально только \n",
    "        # при решении задачи классификации.\n",
    "        self.class_count = 1\n",
    "\n",
    "        # Сюда нужно будет записать все значения \n",
    "        # для каждого из признаков датасета\n",
    "        # (они будут нашими порогами).\n",
    "        self.feature_values = None\n",
    "    \n",
    "    def build_(self, v, X, y, depth=0):\n",
    "        '''\n",
    "        Рекурсивная функция построения решающего дерева.\n",
    "        \n",
    "        Параметры.\n",
    "        1) v — номер рассматриваемой вершины\n",
    "        2) X, y — обучающая выборка, попавшая в текущую вершину\n",
    "        3) depth — глубина вершины с номером v\n",
    "        '''\n",
    "        \n",
    "        if depth == self.max_depth or len(y) < self.min_samples_split:\n",
    "            # Еcли строим дерево для классификации, то \n",
    "            # сохраняем метки классов всех элементов выборки,\n",
    "            # попавших в вершину.\n",
    "            if callable(getattr(self, \"set_class_count\", None)):\n",
    "                self.nodes[v].y_values = y.copy()\n",
    "\n",
    "            # Для регрессии сразу вычислим среднее всех \n",
    "            # элементов вершины.\n",
    "            else:\n",
    "                self.nodes[v].y_values = np.mean(y)\n",
    "            return\n",
    "        \n",
    "        best_criterion_value = np.inf\n",
    "        best_feature, best_threshold = 0, 0\n",
    "        sample_size, feature_count = X.shape\n",
    "        \n",
    "        # переберём все возможные признаки и значения порогов,\n",
    "        # найдём оптимальный признак и значение порога \n",
    "        # и запишем их в best_feature, best_threshold\n",
    "        for feature_id in range(feature_count):\n",
    "            for threshold in self.feature_values[feature_id]:\n",
    "                left_inds = X[:, feature_id] < threshold\n",
    "                # TODO: Стоит ли пропихивать в оба поддерева NaN?\n",
    "                cur_criterion_value = self.criterion(\n",
    "                    get_not_nans(y[left_inds]))\n",
    "                +\\\n",
    "                self.criterion(get_not_nans(y[not left_inds]))\n",
    "                \n",
    "                # *Замечание.* Я специально сделал знак >=, чтобы не было\n",
    "                # ситуации, когда в левую вершину попадает пустое подмножество\n",
    "                if best_criterion_value >= cur_criterion_value:\n",
    "                    best_criterion = cur_criterion_value\n",
    "                    best_feature = feature_id\n",
    "                    best_threshold = threshold\n",
    "            \n",
    "        # сохраним найденные параметры в класс текущей вершины\n",
    "        self.nodes[v].split_feature = best_feature\n",
    "        self.nodes[v].split_threshold = best_threshold\n",
    "        # разделим выборку на 2 части по порогу\n",
    "        left_inds = X[:, best_feature] < best_threshold\n",
    "        X_l, X_r = X[left_inds], X[not left_inds]\n",
    "        y_l, y_r = y[left_inds], y[not left_inds]\n",
    "        \n",
    "        # создаём левую и правую дочерние вершины,\n",
    "        # и кладём их в массив self.nodes \n",
    "        self.nodes.append(Node())\n",
    "        self.nodes.append(Node())\n",
    "        \n",
    "        # сохраняем индексы созданных вершин в качестве \n",
    "        # левого и правого сына вершины v\n",
    "        self.nodes[v].left_son, self.nodes[v].right_son =\\\n",
    "            len(self.nodes) - 2, len(self.nodes) - 1\n",
    "\n",
    "        # рекурсивно строим дерево для дочерних вершин\n",
    "        self.build_(self.nodes[v].left_son, X_l, y_l, depth + 1)\n",
    "        self.build_(self.nodes[v].right_son, X_r, y_r, depth + 1)\n",
    "    \n",
    "    def fit(self, X, y):\n",
    "        '''\n",
    "        Функция, из которой запускается построение \n",
    "        решающего дерева по обучающей выборке.\n",
    "        \n",
    "        Параметры.\n",
    "        X, y — обучающая выборка\n",
    "        '''\n",
    "        \n",
    "        # сохраним заранее все пороги для каждого из \n",
    "        # признаков обучающей выборки\n",
    "        X, y = np.array(X), np.array(y)\n",
    "        self.feature_values = []\n",
    "        for feature_id in range(X.shape[1]):\n",
    "            self.feature_values.append(\n",
    "                np.unique(get_not_nans(X[:, feature_id]))\n",
    "            )\n",
    "            \n",
    "        set_class_count = getattr(self, \"set_class_count\", None)\n",
    "        # если строится дерево для классификации, \n",
    "        # то нужно посчитать количество классов \n",
    "        if callable(set_class_count):\n",
    "            set_class_count(y)\n",
    "        self.build_(0, X, y)"
   ]
  },
  {
   "cell_type": "markdown",
   "metadata": {
    "id": "zQjy7zi8WQKH"
   },
   "source": [
    "Теперь, когда общий код решающего дерева написан, нужно сделать обёртки над `BaseDecisionTree` — классы `DecisionTreeRegressor` и `DecisionTreeClassifier` для использования решающего дерева в задачах регрессии и классификации соответственно.\n",
    "\n",
    "Допишите функции `predict_instance` и `predict_proba_instance` в классах для регрессии и классификации соответственно. В этих функциях нужно для одного элемента $x$ выборки промоделировать спуск в решающем дереве, а затем по листовой вершине, в которой окажется объект, посчитать для классификации — распределение вероятностей, а для регрессии — число $y$."
   ]
  },
  {
   "cell_type": "code",
   "execution_count": 18,
   "metadata": {
    "ExecuteTime": {
     "end_time": "2021-02-22T14:57:26.903779Z",
     "start_time": "2021-02-22T14:57:26.869556Z"
    },
    "id": "iYx3DRTqWQKN"
   },
   "outputs": [],
   "source": [
    "class DecisionTreeRegressor(BaseDecisionTree):\n",
    "    def predict_instance(self, x, v):\n",
    "        '''\n",
    "        Рекурсивная функция, предсказывающая значение\n",
    "        y для одного элемента x из выборки.\n",
    "        \n",
    "        Параметры.\n",
    "        1) x — элемент выборки, для которого\n",
    "        требуется предсказать значение y\n",
    "        2) v — рассматриваемая вершина дерева\n",
    "        '''\n",
    "        \n",
    "        # если вершина — лист, возвращаем в качестве предсказания \n",
    "        # среднее всех элементов, содержащихся в ней\n",
    "        if self.nodes[v].left_son == None:\n",
    "            return self.nodes[v].y_values\n",
    "            \n",
    "        # если у объекта x значение признака по\n",
    "        # которому происходит разделение,  меньше \n",
    "        # порогового, то спускаемся в левое поддерево,\n",
    "        # иначе — в правое\n",
    "        if x[self.nodes[v].split_feature] < self.nodes[v].split_threshold:\n",
    "            return self.predict_instance(x, self.nodes[v].left_son)\n",
    "        elif x[self.nodes[v].split_feature] >= self.nodes[v].split_threshold:\n",
    "            return self.predict_instance(x, self.nodes[v].right_son)\n",
    "        # а если у элемента отсутствует значение \n",
    "        # разделяющего признака,  то будем спускаться \n",
    "        # в оба поддерева\n",
    "        else:\n",
    "            left_predict = self.predict_instance(x, self.nodes[v].left_son)\n",
    "            right_predict = self.predict_instance(x, self.nodes[v].right_son)\n",
    "            return (left_predict + right_predict) / 2\n",
    "    \n",
    "    def predict(self, X):\n",
    "        '''\n",
    "        Функция, предсказывающая значение\n",
    "        y для всех элементов выборки X.\n",
    "        \n",
    "        Параметры.\n",
    "        X — выборка, для которой требуется\n",
    "        получить вектор предсказаний y\n",
    "        '''\n",
    "        \n",
    "        return [self.predict_instance(x, 0) for x in X]"
   ]
  },
  {
   "cell_type": "markdown",
   "metadata": {
    "id": "BO6k55W5WQKN"
   },
   "source": [
    "Для удобства реализации функции `predict_proba_instance` класса `DecisionTreeClassifier` будем считать, что все классы имеют целочисленные метки от 0 до $k-1$, где $k$ — количество классов. Если бы это условие не было выполнено, то нужно было бы сначала сделать предобработку меток классов в датасете."
   ]
  },
  {
   "cell_type": "code",
   "execution_count": null,
   "metadata": {
    "id": "RR17IMWrWQKN"
   },
   "outputs": [],
   "source": [
    "class DecisionTreeClassifier(BaseDecisionTree):\n",
    "    def set_class_count(self, y):\n",
    "        '''\n",
    "        Функция, вычисляющая количество классов \n",
    "        в обучающей выборке.\n",
    "        \n",
    "        Параметры.\n",
    "        y — значения класса в обучающей выборке\n",
    "        '''\n",
    "        \n",
    "        self.class_count = np.max(y) + 1\n",
    "    \n",
    "    def predict_proba_instance(self, x, v):\n",
    "        '''\n",
    "        Рекурсивная функция, предсказывающая вектор\n",
    "        вероятностей принадлежности  объекта x\n",
    "        к классам\n",
    "        \n",
    "        Параметры.\n",
    "        1) x — элемент выборки, для которого \n",
    "        требуется предсказать значение y\n",
    "        2) v — вершина дерева, в которой \n",
    "        находится алгоритм\n",
    "        '''\n",
    "        \n",
    "        if self.nodes[v].left_son == None:\n",
    "            # считаем долю каждого класса и возвращаем вектор вероятностей \n",
    "            return get_probs_by_y(self.nodes[v].y_values)\n",
    "            \n",
    "        # если у объекта x значение признака по которому\n",
    "        # происходит разделение, меньше порогового, \n",
    "        # то спускаемся в левое поддерево, иначе — в правое\n",
    "        if x[self.nodes[v].split_feature] < self.nodes[v].split_threshold:\n",
    "            return self.predict_proba_instance(x, self.nodes[v].left_son)\n",
    "        elif x[self.nodes[v].split_feature] >= self.nodes[v].split_threshold:\n",
    "            return self.predict_proba_instance(x, self.nodes[v].right_son)\n",
    "        # а если у объекта отсутствует значение \n",
    "        # разделяющего признака, то будем спускаться \n",
    "        # в оба поддерева\n",
    "        else:\n",
    "            left_predict = self.predict_proba_instance(\n",
    "                x, self.nodes[v].left_son)\n",
    "            right_predict = self.predict_proba_instance(\n",
    "                x, self.nodes[v].right_son)\n",
    "            return <...>\n",
    "    \n",
    "    def predict_proba(self, X):\n",
    "        '''\n",
    "        Функция, предсказывающая вектор вероятностей\n",
    "        принадлежности объекта x к классам для \n",
    "        каждого x из X\n",
    "        \n",
    "        Параметры.\n",
    "        X — выборка, для которой требуется получить вектор предсказаний y\n",
    "        '''\n",
    "        \n",
    "        return [self.predict_proba_instance(x, 0) for x in X]\n",
    "    \n",
    "    def predict(self, X):\n",
    "        '''\n",
    "        Функция, предсказывающая метку класса для\n",
    "        всех элементов выборки X.\n",
    "        \n",
    "        Параметры.\n",
    "        X — выборка, для которой требуется получить\n",
    "        вектор предсказаний y\n",
    "        '''\n",
    "        \n",
    "        return np.argmax(self.predict_proba(X), axis=1)"
   ]
  },
  {
   "cell_type": "markdown",
   "metadata": {
    "id": "xt2D1Dt9WQKO"
   },
   "source": [
    "**Подбор параметров.**\n",
    "\n",
    "В этой части задания вам предлагается поработать с написанным решающим деревом, применив его к задачи классификации и регрессии, и в обеих задачах подобрать оптимальные параметры для построения.\n",
    "\n",
    "Не забывайте писать выводы."
   ]
  },
  {
   "cell_type": "markdown",
   "metadata": {
    "id": "nR1Os5VCWQKO"
   },
   "source": [
    "**1. Задача классификации.**"
   ]
  },
  {
   "cell_type": "markdown",
   "metadata": {
    "id": "1bBTaTRhWQKO"
   },
   "source": [
    "Теперь самое время протестировать работу написанного нами решающего дерева. Делать мы это будем на датасете для классификации вина из `sklearn`."
   ]
  },
  {
   "cell_type": "code",
   "execution_count": null,
   "metadata": {
    "id": "vNgM1hXYWQKO"
   },
   "outputs": [],
   "source": [
    "from sklearn.datasets import load_wine\n",
    "\n",
    "X, y = load_wine(return_X_y=True)"
   ]
  },
  {
   "cell_type": "markdown",
   "metadata": {
    "id": "CKcBvgcXWQKP"
   },
   "source": [
    "Далее для критерия Джини и энтропийного критерия найдем оптимальные параметры обучения дерева — `max_depth` и `min_samples_split`."
   ]
  },
  {
   "cell_type": "code",
   "execution_count": null,
   "metadata": {
    "id": "kmn03b8iWQKP"
   },
   "outputs": [],
   "source": [
    "classification_criteria = <...>\n",
    "criterion_names = <...>"
   ]
  },
  {
   "cell_type": "markdown",
   "metadata": {
    "id": "4DuFLhP1WQKP"
   },
   "source": [
    "С начала надо разбить выборку на train и test."
   ]
  },
  {
   "cell_type": "code",
   "execution_count": null,
   "metadata": {
    "id": "jFZ6kQXrWQKP"
   },
   "outputs": [],
   "source": [
    "X_train, X_test, y_train, y_test = <...>"
   ]
  },
  {
   "cell_type": "markdown",
   "metadata": {
    "id": "nOnKmlHLWQKP"
   },
   "source": [
    "Теперь проведите кросс-валидацию для каждого из критериев разбиения вершин."
   ]
  },
  {
   "cell_type": "code",
   "execution_count": null,
   "metadata": {
    "id": "YThg85xyWQKQ"
   },
   "outputs": [],
   "source": [
    "for criterion, criterion_name in zip(classification_criteria, criterion_names):\n",
    "    accuracy = <...>\n",
    "    print('accuracy:', accuracy)\n",
    "    assert(accuracy >= 0.85, \"Something is wrong with your classifier\")"
   ]
  },
  {
   "cell_type": "markdown",
   "metadata": {
    "id": "Rcri8EbrWQKQ"
   },
   "source": [
    "**Построение графиков.**\n",
    "\n",
    "Постройте графики зависимости accuracy от максимальной глубины дерева на обучающей и тестовой выборке для каждого критерия на train и на test. В качестве максимальной глубины используйте значения от 1 до 14. Значение `min_samples_split` фиксируйте."
   ]
  },
  {
   "cell_type": "code",
   "execution_count": null,
   "metadata": {
    "id": "OrKkRSF7WQKQ"
   },
   "outputs": [],
   "source": [
    "# код построения графиков\n",
    "<...>"
   ]
  },
  {
   "cell_type": "markdown",
   "metadata": {
    "id": "drpN4bZnWQKQ"
   },
   "source": [
    "Сделайте выводы. Почему графики получились такими? Как соотносятся оптимальные значения параметров на обучающей и на тестовой выборках?"
   ]
  },
  {
   "cell_type": "markdown",
   "metadata": {
    "id": "fmdW1rMjWQKQ"
   },
   "source": [
    "**Вывод.**\n",
    "\n",
    "<...>"
   ]
  },
  {
   "cell_type": "markdown",
   "metadata": {
    "id": "VKJGvZ7eWQKR"
   },
   "source": [
    "**2. Задача регрессии.**\n",
    "\n",
    "Проделайте аналогичные шаги для задачи регрессии. В качестве датасете возьмите `boston` из `sklearn`, а в качестве критерия качества возьмите r2_score. Рассмотрим диапозон значений для `max_depth`: от 3 до 14."
   ]
  },
  {
   "cell_type": "code",
   "execution_count": null,
   "metadata": {
    "id": "UMpEH6LXWQKR"
   },
   "outputs": [],
   "source": [
    "from sklearn.datasets import load_boston\n",
    "\n",
    "boston_X, boston_y = load_boston(return_X_y=True)"
   ]
  },
  {
   "cell_type": "code",
   "execution_count": null,
   "metadata": {
    "id": "6clABt3bWQKR"
   },
   "outputs": [],
   "source": [
    "regression_criteria = <...>\n",
    "criterion_names = <...>"
   ]
  },
  {
   "cell_type": "code",
   "execution_count": null,
   "metadata": {
    "id": "F1r4rUUNWQKR",
    "scrolled": false
   },
   "outputs": [],
   "source": [
    "<...>"
   ]
  },
  {
   "cell_type": "markdown",
   "metadata": {
    "id": "PpWBmHbUWQKR"
   },
   "source": [
    "Разобьём выборку на обучение и тест."
   ]
  },
  {
   "cell_type": "code",
   "execution_count": null,
   "metadata": {
    "id": "u4DnGxv6WQKR"
   },
   "outputs": [],
   "source": [
    "X_train, X_test, y_train, y_test = <...>"
   ]
  },
  {
   "cell_type": "markdown",
   "metadata": {
    "id": "yvaHs-UaWQKS"
   },
   "source": [
    "Проведите эксперименты, аналогичны тем, что были сделаны для задачи классификации."
   ]
  },
  {
   "cell_type": "code",
   "execution_count": null,
   "metadata": {
    "id": "ICailHTBWQKS"
   },
   "outputs": [],
   "source": [
    "<...>"
   ]
  },
  {
   "cell_type": "markdown",
   "metadata": {
    "id": "QZIiBUYsWQKS"
   },
   "source": [
    "Сделайте вывод, в котором объясните, почему графики получились такими.\n",
    "\n",
    "Скорее всего, вы заметили, что дерево в этих экспериментах строится довольно медленно. Как можно ускорить его построение? Можно ли ускорить нахождение оптимального разбиения по некоторому вещественному признаку?"
   ]
  },
  {
   "cell_type": "markdown",
   "metadata": {
    "id": "sbpPslwjWQKS"
   },
   "source": [
    "**Вывод.**\n",
    "\n",
    "<...>"
   ]
  },
  {
   "cell_type": "markdown",
   "metadata": {
    "id": "X7JN5LBPWQKS"
   },
   "source": [
    "### Обработка пропусков с использованием решающих деревьев."
   ]
  },
  {
   "cell_type": "markdown",
   "metadata": {
    "id": "kDibTwYOWQKT"
   },
   "source": [
    "А теперь рассмотрим датасет, в котором часть данных пропущена. В качестве примера возьмём датасет https://archive.ics.uci.edu/ml/datasets/Adult для определения категории дохода работников, по таким признакам, как возраст, образование, специальность, класс работы, пол, кол-во отрабатываемых часов в неделю и некоторым другим."
   ]
  },
  {
   "cell_type": "code",
   "execution_count": null,
   "metadata": {
    "id": "-6Iy8FF8WQKT"
   },
   "outputs": [],
   "source": [
    "column_names = [\n",
    "    'age', 'workclass', 'fnlwgt', 'education1', 'education2', 'marital-status',\n",
    "    'occupation', 'relationship', 'race', 'sex', 'capital-gain',\n",
    "    'capital-loss', 'hours-per-week', 'native-country', 'target'\n",
    "]"
   ]
  },
  {
   "cell_type": "markdown",
   "metadata": {
    "id": "p5dt0uGPWQKT"
   },
   "source": [
    "Поскольку предсказание в дереве на данных с пропусками часто занимает сильно больше времени, чем в случае отсутствия пропусков (так как часто приходится спускаться разу в 2 поддерева), то для экономии времени сократим датасет, взяв из него только первые 10000 строк данных."
   ]
  },
  {
   "cell_type": "code",
   "execution_count": null,
   "metadata": {
    "id": "YGM5kQTnWQKT"
   },
   "outputs": [],
   "source": [
    "adult_df = pd.read_csv('adult.data', header=None)[:10000]\n",
    "adult_df.columns = column_names\n",
    "target = adult_df['target'] == ' >50K'\n",
    "adult_df = adult_df.drop(['target'], axis=1)\n",
    "adult_df.head()"
   ]
  },
  {
   "cell_type": "markdown",
   "metadata": {
    "id": "o0n05FeFWQKT"
   },
   "source": [
    "Предобработаем датасет, заменив категориальные признаки one-hot векторами."
   ]
  },
  {
   "cell_type": "code",
   "execution_count": null,
   "metadata": {
    "id": "3zgFs2umWQKU"
   },
   "outputs": [],
   "source": [
    "adult_df = pd.get_dummies(adult_df)\n",
    "adult_df.head()"
   ]
  },
  {
   "cell_type": "markdown",
   "metadata": {
    "id": "SGnrHQFHWQKU"
   },
   "source": [
    "Поскольку все пропущенные значения относились к категориальным признакам и помечались в датасете знаком `?`, то для каждого категориального признака `feature` исходного датасета надо выполнить следующую процедуру: рассмотреть признак `feature_?` нового датасета и для всех строк, для которых выполнено `feature_?=1`, значениях всех признаков с префиксом `feature` установить в `None`. "
   ]
  },
  {
   "cell_type": "code",
   "execution_count": null,
   "metadata": {
    "id": "uqjANAbRWQKU"
   },
   "outputs": [],
   "source": [
    "all_indices = np.arange(adult_df.shape[0])\n",
    "\n",
    "for feature in column_names:\n",
    "    if f'{feature}_ ?' in adult_df.columns:\n",
    "        none_indices = all_indices[adult_df[f'{feature}_ ?'] == 1]\n",
    "        \n",
    "        for dummy_feature in adult_df.columns:\n",
    "            if not dummy_feature.startswith(f'{feature}_ '):\n",
    "                continue\n",
    "            if dummy_feature != f'{feature}_ ?':\n",
    "                adult_df[dummy_feature][none_indices] = None\n",
    "        adult_df = adult_df.drop(f'{feature}_ ?', axis=1)"
   ]
  },
  {
   "cell_type": "markdown",
   "metadata": {
    "id": "ZW5zopdrWQKU"
   },
   "source": [
    "Посмотрим на распределение пропущенных значений по признакам."
   ]
  },
  {
   "cell_type": "code",
   "execution_count": null,
   "metadata": {
    "id": "hVyDjjCOWQKU"
   },
   "outputs": [],
   "source": [
    "np.sum(adult_df.isnull(), axis=0)"
   ]
  },
  {
   "cell_type": "markdown",
   "metadata": {
    "id": "vfezUNcvWQKU"
   },
   "source": [
    "Разобьём данные на обучающую и тестовую выборки в отношении 3:1."
   ]
  },
  {
   "cell_type": "code",
   "execution_count": null,
   "metadata": {
    "id": "v9rAFf0aWQKV"
   },
   "outputs": [],
   "source": [
    "X_adult_train, X_adult_test, y_adult_train, y_adult_test = train_test_split(\n",
    "    adult_df, target, random_state=777\n",
    ")"
   ]
  },
  {
   "cell_type": "markdown",
   "metadata": {
    "id": "KCYHT9LWWQKV"
   },
   "source": [
    "При помощи кросс-валидации найдём оптимальные гиперпараметры для каждого из критериев разбиения деревьев для классификации."
   ]
  },
  {
   "cell_type": "code",
   "execution_count": null,
   "metadata": {
    "id": "Gb-fDXBUWQKV"
   },
   "outputs": [],
   "source": [
    "<...>"
   ]
  },
  {
   "cell_type": "markdown",
   "metadata": {
    "id": "-R8YIHAsWQKV"
   },
   "source": [
    "Проведите эксперименты c построением графиков, аналогичные тем, что были сделаны в предыдущем пункте для задач классификации и регрессии."
   ]
  },
  {
   "cell_type": "code",
   "execution_count": null,
   "metadata": {
    "id": "roux0GI3WQKV"
   },
   "outputs": [],
   "source": [
    "<...>"
   ]
  },
  {
   "cell_type": "markdown",
   "metadata": {
    "id": "JXJ_0MdHWQKV"
   },
   "source": [
    "**Вывод.**\n",
    "\n",
    "<...>"
   ]
  }
 ],
 "metadata": {
  "colab": {
   "collapsed_sections": [],
   "name": "tree_implementation_statement.ipynb",
   "provenance": []
  },
  "hide_input": false,
  "kernelspec": {
   "display_name": "Python 3",
   "language": "python",
   "name": "python3"
  },
  "language_info": {
   "codemirror_mode": {
    "name": "ipython",
    "version": 3
   },
   "file_extension": ".py",
   "mimetype": "text/x-python",
   "name": "python",
   "nbconvert_exporter": "python",
   "pygments_lexer": "ipython3",
   "version": "3.7.6"
  }
 },
 "nbformat": 4,
 "nbformat_minor": 1
}
