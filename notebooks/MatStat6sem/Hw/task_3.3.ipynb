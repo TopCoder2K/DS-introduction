{
 "cells": [
  {
   "cell_type": "markdown",
   "metadata": {},
   "source": [
    "# Доп. задачи и анализа данных\n",
    "## Задание 3.3\n",
    "\n",
    "**Правила:**\n",
    "\n",
    "* Выполненную работу нужно отправить телеграм-боту `@miptstats_ds20_bot`.\n",
    "* Дедлайн см. в боте. После дедлайна работы не принимаются кроме случаев наличия уважительной причины.\n",
    "* Прислать нужно ноутбук в формате `ipynb`.\n",
    "* Решения, размещенные на каких-либо интернет-ресурсах не принимаются. Публикация решения может быть приравнена к предоставлении возможности списать.\n",
    "* Для выполнения задания используйте этот ноутбук в качествие основы, ничего не удаляя из него.\n",
    "* Теоретические задачи необходимо оформить в LaTeX/markdown или же прислать фотку в правильной ориентации рукописного решения, **где все четко видно**.\n",
    "\n",
    "**Баллы за задание:**\n",
    "\n",
    "* Задача 1 -  2 баллов\n",
    "* Задача 2 -  4 баллов\n",
    "* Задача 3 -  4 баллов\n",
    "* Задача 4 -  3 балла"
   ]
  },
  {
   "cell_type": "markdown",
   "metadata": {},
   "source": [
    "### Задача 1\n",
    "Во взвешенном методе наименьших квадратов каждому наблюдению задается некоторый известный вес $w_i$. Задача имеет вид $\\sum\\limits_{i=1}^n w_i\\left(Y_i - x_i^T \\theta\\right)^2 \\to \\min\\limits_\\theta$. Найдите решение задачи в матричном виде.\n"
   ]
  },
  {
   "cell_type": "markdown",
   "metadata": {},
   "source": [
    "**Ответ.** pdf с решением отправлен вмести с этим ноутбуком."
   ]
  },
  {
   "cell_type": "markdown",
   "metadata": {},
   "source": [
    "### Задача 2\n",
    "\n",
    "Скачайте <a href=\"https://raw.githubusercontent.com/bdemeshev/em301/master/datasets/flats_moscow.txt\">данные</a> о стоимости квартир в Москве.\tОписание данных доступно по <a href=\"https://github.com/bdemeshev/em301/blob/master/datasets/flats_moscow_description.txt\">ccылке</a>.\n",
    "\t\n",
    "Обучите линейную регрессионную модель для предсказания цены квартиры от всех других параметров. Проверьте гипотезы о незначимости признаков и постройте доверительные интервалы для коэффициентов модели. Определите признаки желаемой для себя квартиры в Москве и постройте предсказательный интервал ее цены."
   ]
  },
  {
   "cell_type": "code",
   "execution_count": 8,
   "metadata": {
    "ExecuteTime": {
     "end_time": "2021-02-16T06:38:27.513897Z",
     "start_time": "2021-02-16T06:38:27.432Z"
    }
   },
   "outputs": [
    {
     "data": {
      "text/html": [
       "<table class=\"dataframe\">\n",
       "<caption>A data.frame: 6 × 10</caption>\n",
       "<thead>\n",
       "\t<tr><th></th><th scope=col>price</th><th scope=col>totsp</th><th scope=col>livesp</th><th scope=col>kitsp</th><th scope=col>dist</th><th scope=col>metrdist</th><th scope=col>walk</th><th scope=col>brick</th><th scope=col>floor</th><th scope=col>code</th></tr>\n",
       "\t<tr><th></th><th scope=col>&lt;int&gt;</th><th scope=col>&lt;int&gt;</th><th scope=col>&lt;int&gt;</th><th scope=col>&lt;dbl&gt;</th><th scope=col>&lt;dbl&gt;</th><th scope=col>&lt;int&gt;</th><th scope=col>&lt;int&gt;</th><th scope=col>&lt;int&gt;</th><th scope=col>&lt;int&gt;</th><th scope=col>&lt;int&gt;</th></tr>\n",
       "</thead>\n",
       "<tbody>\n",
       "\t<tr><th scope=row>1</th><td> 81</td><td> 58</td><td>40</td><td> 6</td><td>12.5</td><td>7</td><td>1</td><td>1</td><td>1</td><td>3</td></tr>\n",
       "\t<tr><th scope=row>2</th><td> 75</td><td> 44</td><td>28</td><td> 6</td><td>13.5</td><td>7</td><td>1</td><td>0</td><td>1</td><td>6</td></tr>\n",
       "\t<tr><th scope=row>3</th><td>128</td><td> 70</td><td>42</td><td> 6</td><td>14.5</td><td>3</td><td>1</td><td>1</td><td>1</td><td>3</td></tr>\n",
       "\t<tr><th scope=row>4</th><td> 95</td><td> 61</td><td>37</td><td> 6</td><td>13.5</td><td>7</td><td>1</td><td>0</td><td>1</td><td>1</td></tr>\n",
       "\t<tr><th scope=row>5</th><td>330</td><td>104</td><td>60</td><td>11</td><td>10.5</td><td>7</td><td>0</td><td>1</td><td>1</td><td>3</td></tr>\n",
       "\t<tr><th scope=row>6</th><td>137</td><td> 76</td><td>50</td><td> 9</td><td>11.0</td><td>7</td><td>1</td><td>1</td><td>1</td><td>8</td></tr>\n",
       "</tbody>\n",
       "</table>\n"
      ],
      "text/latex": [
       "A data.frame: 6 × 10\n",
       "\\begin{tabular}{r|llllllllll}\n",
       "  & price & totsp & livesp & kitsp & dist & metrdist & walk & brick & floor & code\\\\\n",
       "  & <int> & <int> & <int> & <dbl> & <dbl> & <int> & <int> & <int> & <int> & <int>\\\\\n",
       "\\hline\n",
       "\t1 &  81 &  58 & 40 &  6 & 12.5 & 7 & 1 & 1 & 1 & 3\\\\\n",
       "\t2 &  75 &  44 & 28 &  6 & 13.5 & 7 & 1 & 0 & 1 & 6\\\\\n",
       "\t3 & 128 &  70 & 42 &  6 & 14.5 & 3 & 1 & 1 & 1 & 3\\\\\n",
       "\t4 &  95 &  61 & 37 &  6 & 13.5 & 7 & 1 & 0 & 1 & 1\\\\\n",
       "\t5 & 330 & 104 & 60 & 11 & 10.5 & 7 & 0 & 1 & 1 & 3\\\\\n",
       "\t6 & 137 &  76 & 50 &  9 & 11.0 & 7 & 1 & 1 & 1 & 8\\\\\n",
       "\\end{tabular}\n"
      ],
      "text/markdown": [
       "\n",
       "A data.frame: 6 × 10\n",
       "\n",
       "| <!--/--> | price &lt;int&gt; | totsp &lt;int&gt; | livesp &lt;int&gt; | kitsp &lt;dbl&gt; | dist &lt;dbl&gt; | metrdist &lt;int&gt; | walk &lt;int&gt; | brick &lt;int&gt; | floor &lt;int&gt; | code &lt;int&gt; |\n",
       "|---|---|---|---|---|---|---|---|---|---|---|\n",
       "| 1 |  81 |  58 | 40 |  6 | 12.5 | 7 | 1 | 1 | 1 | 3 |\n",
       "| 2 |  75 |  44 | 28 |  6 | 13.5 | 7 | 1 | 0 | 1 | 6 |\n",
       "| 3 | 128 |  70 | 42 |  6 | 14.5 | 3 | 1 | 1 | 1 | 3 |\n",
       "| 4 |  95 |  61 | 37 |  6 | 13.5 | 7 | 1 | 0 | 1 | 1 |\n",
       "| 5 | 330 | 104 | 60 | 11 | 10.5 | 7 | 0 | 1 | 1 | 3 |\n",
       "| 6 | 137 |  76 | 50 |  9 | 11.0 | 7 | 1 | 1 | 1 | 8 |\n",
       "\n"
      ],
      "text/plain": [
       "  price totsp livesp kitsp dist metrdist walk brick floor code\n",
       "1  81    58   40      6    12.5 7        1    1     1     3   \n",
       "2  75    44   28      6    13.5 7        1    0     1     6   \n",
       "3 128    70   42      6    14.5 3        1    1     1     3   \n",
       "4  95    61   37      6    13.5 7        1    0     1     1   \n",
       "5 330   104   60     11    10.5 7        0    1     1     3   \n",
       "6 137    76   50      9    11.0 7        1    1     1     8   "
      ]
     },
     "metadata": {},
     "output_type": "display_data"
    }
   ],
   "source": [
    "flats <- read.delim(\n",
    "    '/home/topcoder2k/ds-intro/data/raw/MatStat/flats_moscow.txt', \n",
    "    row.names = 1\n",
    ")\n",
    "head(flats)"
   ]
  },
  {
   "cell_type": "code",
   "execution_count": 15,
   "metadata": {
    "ExecuteTime": {
     "end_time": "2021-02-16T06:58:03.061088Z",
     "start_time": "2021-02-16T06:58:02.993Z"
    }
   },
   "outputs": [
    {
     "data": {
      "text/plain": [
       "\n",
       "Call:\n",
       "lm(formula = price ~ ., data = flats)\n",
       "\n",
       "Residuals:\n",
       "    Min      1Q  Median      3Q     Max \n",
       "-107.34  -14.23   -1.22   10.52  414.52 \n",
       "\n",
       "Coefficients:\n",
       "            Estimate Std. Error t value Pr(>|t|)    \n",
       "(Intercept) -23.9780     5.6809  -4.221 2.54e-05 ***\n",
       "totsp         1.5737     0.1181  13.330  < 2e-16 ***\n",
       "livesp        1.3716     0.1782   7.695 2.19e-14 ***\n",
       "kitsp         1.7409     0.3970   4.385 1.22e-05 ***\n",
       "dist         -3.1704     0.2175 -14.579  < 2e-16 ***\n",
       "metrdist     -1.2332     0.1711  -7.209 7.94e-13 ***\n",
       "walk          9.2209     1.4307   6.445 1.44e-10 ***\n",
       "brick         6.9052     1.5807   4.368 1.31e-05 ***\n",
       "floor         6.5504     1.6113   4.065 4.98e-05 ***\n",
       "code         -2.6339     0.3047  -8.644  < 2e-16 ***\n",
       "---\n",
       "Signif. codes:  0 ‘***’ 0.001 ‘**’ 0.01 ‘*’ 0.05 ‘.’ 0.1 ‘ ’ 1\n",
       "\n",
       "Residual standard error: 29.29 on 2030 degrees of freedom\n",
       "Multiple R-squared:  0.6827,\tAdjusted R-squared:  0.6813 \n",
       "F-statistic: 485.3 on 9 and 2030 DF,  p-value: < 2.2e-16\n"
      ]
     },
     "metadata": {},
     "output_type": "display_data"
    }
   ],
   "source": [
    "library(caret)\n",
    "\n",
    "model <- lm(formula = price ~ ., data = flats)\n",
    "summary(model)"
   ]
  },
  {
   "cell_type": "markdown",
   "metadata": {},
   "source": [
    "**Вывод.** Гипотезы о незначимости каждого из коэффициентов отвергаются. Также заодно заметим, что p-value F-статистики маленькое, так что гипотеза о незначимости ЛР тоже отвергается."
   ]
  },
  {
   "cell_type": "code",
   "execution_count": 16,
   "metadata": {
    "ExecuteTime": {
     "end_time": "2021-02-16T06:58:11.267438Z",
     "start_time": "2021-02-16T06:58:11.243Z"
    }
   },
   "outputs": [
    {
     "data": {
      "text/html": [
       "<table class=\"dataframe\">\n",
       "<caption>A matrix: 10 × 2 of type dbl</caption>\n",
       "<thead>\n",
       "\t<tr><th></th><th scope=col>2.5 %</th><th scope=col>97.5 %</th></tr>\n",
       "</thead>\n",
       "<tbody>\n",
       "\t<tr><th scope=row>(Intercept)</th><td>-35.1189319</td><td>-12.836973</td></tr>\n",
       "\t<tr><th scope=row>totsp</th><td>  1.3421449</td><td>  1.805184</td></tr>\n",
       "\t<tr><th scope=row>livesp</th><td>  1.0220751</td><td>  1.721183</td></tr>\n",
       "\t<tr><th scope=row>kitsp</th><td>  0.9623293</td><td>  2.519509</td></tr>\n",
       "\t<tr><th scope=row>dist</th><td> -3.5969036</td><td> -2.743955</td></tr>\n",
       "\t<tr><th scope=row>metrdist</th><td> -1.5686816</td><td> -0.897688</td></tr>\n",
       "\t<tr><th scope=row>walk</th><td>  6.4150409</td><td> 12.026772</td></tr>\n",
       "\t<tr><th scope=row>brick</th><td>  3.8052097</td><td> 10.005109</td></tr>\n",
       "\t<tr><th scope=row>floor</th><td>  3.3904145</td><td>  9.710350</td></tr>\n",
       "\t<tr><th scope=row>code</th><td> -3.2314701</td><td> -2.036342</td></tr>\n",
       "</tbody>\n",
       "</table>\n"
      ],
      "text/latex": [
       "A matrix: 10 × 2 of type dbl\n",
       "\\begin{tabular}{r|ll}\n",
       "  & 2.5 \\% & 97.5 \\%\\\\\n",
       "\\hline\n",
       "\t(Intercept) & -35.1189319 & -12.836973\\\\\n",
       "\ttotsp &   1.3421449 &   1.805184\\\\\n",
       "\tlivesp &   1.0220751 &   1.721183\\\\\n",
       "\tkitsp &   0.9623293 &   2.519509\\\\\n",
       "\tdist &  -3.5969036 &  -2.743955\\\\\n",
       "\tmetrdist &  -1.5686816 &  -0.897688\\\\\n",
       "\twalk &   6.4150409 &  12.026772\\\\\n",
       "\tbrick &   3.8052097 &  10.005109\\\\\n",
       "\tfloor &   3.3904145 &   9.710350\\\\\n",
       "\tcode &  -3.2314701 &  -2.036342\\\\\n",
       "\\end{tabular}\n"
      ],
      "text/markdown": [
       "\n",
       "A matrix: 10 × 2 of type dbl\n",
       "\n",
       "| <!--/--> | 2.5 % | 97.5 % |\n",
       "|---|---|---|\n",
       "| (Intercept) | -35.1189319 | -12.836973 |\n",
       "| totsp |   1.3421449 |   1.805184 |\n",
       "| livesp |   1.0220751 |   1.721183 |\n",
       "| kitsp |   0.9623293 |   2.519509 |\n",
       "| dist |  -3.5969036 |  -2.743955 |\n",
       "| metrdist |  -1.5686816 |  -0.897688 |\n",
       "| walk |   6.4150409 |  12.026772 |\n",
       "| brick |   3.8052097 |  10.005109 |\n",
       "| floor |   3.3904145 |   9.710350 |\n",
       "| code |  -3.2314701 |  -2.036342 |\n",
       "\n"
      ],
      "text/plain": [
       "            2.5 %       97.5 %    \n",
       "(Intercept) -35.1189319 -12.836973\n",
       "totsp         1.3421449   1.805184\n",
       "livesp        1.0220751   1.721183\n",
       "kitsp         0.9623293   2.519509\n",
       "dist         -3.5969036  -2.743955\n",
       "metrdist     -1.5686816  -0.897688\n",
       "walk          6.4150409  12.026772\n",
       "brick         3.8052097  10.005109\n",
       "floor         3.3904145   9.710350\n",
       "code         -3.2314701  -2.036342"
      ]
     },
     "metadata": {},
     "output_type": "display_data"
    }
   ],
   "source": [
    "confint(model, level = 0.95)"
   ]
  },
  {
   "cell_type": "markdown",
   "metadata": {},
   "source": [
    "Определим признаки желаемой квартиры (мечтать не вредно!):"
   ]
  },
  {
   "cell_type": "code",
   "execution_count": 17,
   "metadata": {
    "ExecuteTime": {
     "end_time": "2021-02-16T06:58:22.503179Z",
     "start_time": "2021-02-16T06:58:22.460Z"
    }
   },
   "outputs": [
    {
     "data": {
      "text/html": [
       "<table class=\"dataframe\">\n",
       "<caption>A data.frame: 10 × 10</caption>\n",
       "<thead>\n",
       "\t<tr><th></th><th scope=col>price</th><th scope=col>totsp</th><th scope=col>livesp</th><th scope=col>kitsp</th><th scope=col>dist</th><th scope=col>metrdist</th><th scope=col>walk</th><th scope=col>brick</th><th scope=col>floor</th><th scope=col>code</th></tr>\n",
       "\t<tr><th></th><th scope=col>&lt;int&gt;</th><th scope=col>&lt;int&gt;</th><th scope=col>&lt;int&gt;</th><th scope=col>&lt;dbl&gt;</th><th scope=col>&lt;dbl&gt;</th><th scope=col>&lt;int&gt;</th><th scope=col>&lt;int&gt;</th><th scope=col>&lt;int&gt;</th><th scope=col>&lt;int&gt;</th><th scope=col>&lt;int&gt;</th></tr>\n",
       "</thead>\n",
       "<tbody>\n",
       "\t<tr><th scope=row>1</th><td> 81</td><td> 58</td><td>40</td><td> 6</td><td>12.5</td><td> 7</td><td>1</td><td>1</td><td>1</td><td>3</td></tr>\n",
       "\t<tr><th scope=row>2</th><td> 75</td><td> 44</td><td>28</td><td> 6</td><td>13.5</td><td> 7</td><td>1</td><td>0</td><td>1</td><td>6</td></tr>\n",
       "\t<tr><th scope=row>3</th><td>128</td><td> 70</td><td>42</td><td> 6</td><td>14.5</td><td> 3</td><td>1</td><td>1</td><td>1</td><td>3</td></tr>\n",
       "\t<tr><th scope=row>4</th><td> 95</td><td> 61</td><td>37</td><td> 6</td><td>13.5</td><td> 7</td><td>1</td><td>0</td><td>1</td><td>1</td></tr>\n",
       "\t<tr><th scope=row>5</th><td>330</td><td>104</td><td>60</td><td>11</td><td>10.5</td><td> 7</td><td>0</td><td>1</td><td>1</td><td>3</td></tr>\n",
       "\t<tr><th scope=row>6</th><td>137</td><td> 76</td><td>50</td><td> 9</td><td>11.0</td><td> 7</td><td>1</td><td>1</td><td>1</td><td>8</td></tr>\n",
       "\t<tr><th scope=row>7</th><td> 98</td><td> 59</td><td>39</td><td> 6</td><td> 7.5</td><td>10</td><td>0</td><td>0</td><td>1</td><td>8</td></tr>\n",
       "\t<tr><th scope=row>8</th><td> 88</td><td> 55</td><td>36</td><td> 6</td><td> 9.0</td><td> 5</td><td>1</td><td>1</td><td>0</td><td>4</td></tr>\n",
       "\t<tr><th scope=row>9</th><td>225</td><td> 80</td><td>56</td><td> 9</td><td> 9.0</td><td> 5</td><td>1</td><td>1</td><td>1</td><td>3</td></tr>\n",
       "\t<tr><th scope=row>10</th><td>140</td><td> 86</td><td>51</td><td>10</td><td>12.7</td><td>10</td><td>1</td><td>0</td><td>1</td><td>5</td></tr>\n",
       "</tbody>\n",
       "</table>\n"
      ],
      "text/latex": [
       "A data.frame: 10 × 10\n",
       "\\begin{tabular}{r|llllllllll}\n",
       "  & price & totsp & livesp & kitsp & dist & metrdist & walk & brick & floor & code\\\\\n",
       "  & <int> & <int> & <int> & <dbl> & <dbl> & <int> & <int> & <int> & <int> & <int>\\\\\n",
       "\\hline\n",
       "\t1 &  81 &  58 & 40 &  6 & 12.5 &  7 & 1 & 1 & 1 & 3\\\\\n",
       "\t2 &  75 &  44 & 28 &  6 & 13.5 &  7 & 1 & 0 & 1 & 6\\\\\n",
       "\t3 & 128 &  70 & 42 &  6 & 14.5 &  3 & 1 & 1 & 1 & 3\\\\\n",
       "\t4 &  95 &  61 & 37 &  6 & 13.5 &  7 & 1 & 0 & 1 & 1\\\\\n",
       "\t5 & 330 & 104 & 60 & 11 & 10.5 &  7 & 0 & 1 & 1 & 3\\\\\n",
       "\t6 & 137 &  76 & 50 &  9 & 11.0 &  7 & 1 & 1 & 1 & 8\\\\\n",
       "\t7 &  98 &  59 & 39 &  6 &  7.5 & 10 & 0 & 0 & 1 & 8\\\\\n",
       "\t8 &  88 &  55 & 36 &  6 &  9.0 &  5 & 1 & 1 & 0 & 4\\\\\n",
       "\t9 & 225 &  80 & 56 &  9 &  9.0 &  5 & 1 & 1 & 1 & 3\\\\\n",
       "\t10 & 140 &  86 & 51 & 10 & 12.7 & 10 & 1 & 0 & 1 & 5\\\\\n",
       "\\end{tabular}\n"
      ],
      "text/markdown": [
       "\n",
       "A data.frame: 10 × 10\n",
       "\n",
       "| <!--/--> | price &lt;int&gt; | totsp &lt;int&gt; | livesp &lt;int&gt; | kitsp &lt;dbl&gt; | dist &lt;dbl&gt; | metrdist &lt;int&gt; | walk &lt;int&gt; | brick &lt;int&gt; | floor &lt;int&gt; | code &lt;int&gt; |\n",
       "|---|---|---|---|---|---|---|---|---|---|---|\n",
       "| 1 |  81 |  58 | 40 |  6 | 12.5 |  7 | 1 | 1 | 1 | 3 |\n",
       "| 2 |  75 |  44 | 28 |  6 | 13.5 |  7 | 1 | 0 | 1 | 6 |\n",
       "| 3 | 128 |  70 | 42 |  6 | 14.5 |  3 | 1 | 1 | 1 | 3 |\n",
       "| 4 |  95 |  61 | 37 |  6 | 13.5 |  7 | 1 | 0 | 1 | 1 |\n",
       "| 5 | 330 | 104 | 60 | 11 | 10.5 |  7 | 0 | 1 | 1 | 3 |\n",
       "| 6 | 137 |  76 | 50 |  9 | 11.0 |  7 | 1 | 1 | 1 | 8 |\n",
       "| 7 |  98 |  59 | 39 |  6 |  7.5 | 10 | 0 | 0 | 1 | 8 |\n",
       "| 8 |  88 |  55 | 36 |  6 |  9.0 |  5 | 1 | 1 | 0 | 4 |\n",
       "| 9 | 225 |  80 | 56 |  9 |  9.0 |  5 | 1 | 1 | 1 | 3 |\n",
       "| 10 | 140 |  86 | 51 | 10 | 12.7 | 10 | 1 | 0 | 1 | 5 |\n",
       "\n"
      ],
      "text/plain": [
       "   price totsp livesp kitsp dist metrdist walk brick floor code\n",
       "1   81    58   40      6    12.5  7       1    1     1     3   \n",
       "2   75    44   28      6    13.5  7       1    0     1     6   \n",
       "3  128    70   42      6    14.5  3       1    1     1     3   \n",
       "4   95    61   37      6    13.5  7       1    0     1     1   \n",
       "5  330   104   60     11    10.5  7       0    1     1     3   \n",
       "6  137    76   50      9    11.0  7       1    1     1     8   \n",
       "7   98    59   39      6     7.5 10       0    0     1     8   \n",
       "8   88    55   36      6     9.0  5       1    1     0     4   \n",
       "9  225    80   56      9     9.0  5       1    1     1     3   \n",
       "10 140    86   51     10    12.7 10       1    0     1     5   "
      ]
     },
     "metadata": {},
     "output_type": "display_data"
    }
   ],
   "source": [
    "head(flats, 10)"
   ]
  },
  {
   "cell_type": "code",
   "execution_count": 25,
   "metadata": {
    "ExecuteTime": {
     "end_time": "2021-02-16T07:04:01.483115Z",
     "start_time": "2021-02-16T07:04:01.428Z"
    }
   },
   "outputs": [
    {
     "data": {
      "text/html": [
       "<table class=\"dataframe\">\n",
       "<caption>A matrix: 1 × 3 of type dbl</caption>\n",
       "<thead>\n",
       "\t<tr><th></th><th scope=col>fit</th><th scope=col>lwr</th><th scope=col>upr</th></tr>\n",
       "</thead>\n",
       "<tbody>\n",
       "\t<tr><th scope=row>1</th><td>941.188</td><td>897.2068</td><td>985.1692</td></tr>\n",
       "</tbody>\n",
       "</table>\n"
      ],
      "text/latex": [
       "A matrix: 1 × 3 of type dbl\n",
       "\\begin{tabular}{r|lll}\n",
       "  & fit & lwr & upr\\\\\n",
       "\\hline\n",
       "\t1 & 941.188 & 897.2068 & 985.1692\\\\\n",
       "\\end{tabular}\n"
      ],
      "text/markdown": [
       "\n",
       "A matrix: 1 × 3 of type dbl\n",
       "\n",
       "| <!--/--> | fit | lwr | upr |\n",
       "|---|---|---|---|\n",
       "| 1 | 941.188 | 897.2068 | 985.1692 |\n",
       "\n"
      ],
      "text/plain": [
       "  fit     lwr      upr     \n",
       "1 941.188 897.2068 985.1692"
      ]
     },
     "metadata": {},
     "output_type": "display_data"
    }
   ],
   "source": [
    "totsp = 320\n",
    "livesp = 200\n",
    "kitsp = 60\n",
    "dist = 0.1\n",
    "metrdist = 3\n",
    "walk = 1\n",
    "brick = 1\n",
    "floor = 12\n",
    "code = 3\n",
    "x_new = data.frame(\n",
    "    matrix(\n",
    "        c(totsp, livesp, kitsp, dist, metrdist, walk, brick, floor, code),\n",
    "        ncol = 9\n",
    "    )\n",
    ")\n",
    "colnames(x_new) <- c('totsp', 'livesp', 'kitsp', 'dist', 'metrdist',\n",
    "                'walk', 'brick', 'floor', 'code')\n",
    "\n",
    "predict(model, x_new, level = 0.95, interval = 'confidence')"
   ]
  },
  {
   "cell_type": "markdown",
   "metadata": {},
   "source": [
    "**Вывод.** Таким образом, квартира будет стоить всего лишь 941k$. С моей стипендией в 5000 р. мне потребуется всего лишь 1150 лет. Ах, чёрт, я ещё забыл про рост цен со временем..."
   ]
  },
  {
   "cell_type": "markdown",
   "metadata": {},
   "source": [
    "### Задача 3\n",
    "\n",
    "*Эту задачу можно выполнить в Питоне. Можно в отдельном ноутбуке.*\n",
    "\n",
    "Проведите эксперимент по определению реального уровня значимости критерия для проверки гипотезы о незначимости коэффициента в гауссовской линейной модели, если на самом деле в данных присутствует гетероскедастичность. \n",
    "Для этого смоделируйте некоторым образом двумерные данные $x$ и посчитайте по ним ожидаемый отклик \n",
    "\t$y(x) = \\theta_0 + \\theta_1 x^{(1)} + \\theta_2 x^{(2)}$, где коэффициенты выберите по своему усмотрению, причем $\\theta_2 = 0$. \n",
    "Зашумите набор значений $y(x_i)$ некоторым шумом, дисперсия которого зависит от $x$ или от номера наблюдения. \n",
    "По таким данным обучите\tлинейную модель и проверьте гипотезу $\\mathsf{H}_0\\colon \\theta_2 = 0$. \n",
    "Повторите эксперимент несколько раз и посчитайте долю случаев, в которых гипотеза отвергается. Распределение шума должно быть одинаковым в каждом эксперименте."
   ]
  },
  {
   "cell_type": "markdown",
   "metadata": {},
   "source": [
    "**Ответ.** Сделана в отдельном ноутбуке."
   ]
  },
  {
   "cell_type": "markdown",
   "metadata": {},
   "source": [
    "### Задача 4\n",
    "Загрузите датасет <a href=\"https://github.com/txm676/sars/tree/master/R\">`galapagos.csv`</a>, в котором содержатся данные об островах на Галапагосском архипелаге:\n",
    "* `island` -- наименование острова;\n",
    "* `species` -- количество наблюдаемых видов растений на острове;\n",
    "* `endemics` -- количество уникальных видов [*в задаче не рассматриваем*];\n",
    "* `area` -- площадь (км^2);\n",
    "* `elevation` -- высота (м);\n",
    "* `nearest` -- расстояние до ближайшего острова (км);\n",
    "* `scruz` -- расстояние до самого крупного острова архипелага Санта-Крус (км);\n",
    "* `adjacent` -- площадь соседнего острова (км^2)."
   ]
  },
  {
   "cell_type": "code",
   "execution_count": 83,
   "metadata": {
    "ExecuteTime": {
     "end_time": "2021-02-16T11:37:41.024678Z",
     "start_time": "2021-02-16T11:37:40.977Z"
    }
   },
   "outputs": [
    {
     "data": {
      "text/html": [
       "<table class=\"dataframe\">\n",
       "<caption>A data.frame: 6 × 7</caption>\n",
       "<thead>\n",
       "\t<tr><th></th><th scope=col>island</th><th scope=col>species</th><th scope=col>area</th><th scope=col>elevation</th><th scope=col>nearest</th><th scope=col>scruz</th><th scope=col>adjacent</th></tr>\n",
       "\t<tr><th></th><th scope=col>&lt;fct&gt;</th><th scope=col>&lt;int&gt;</th><th scope=col>&lt;dbl&gt;</th><th scope=col>&lt;int&gt;</th><th scope=col>&lt;dbl&gt;</th><th scope=col>&lt;dbl&gt;</th><th scope=col>&lt;dbl&gt;</th></tr>\n",
       "</thead>\n",
       "<tbody>\n",
       "\t<tr><th scope=row>1</th><td>Baltra      </td><td>58</td><td>25.09</td><td>332</td><td>0.6</td><td> 0.6</td><td>  1.84</td></tr>\n",
       "\t<tr><th scope=row>2</th><td>Bartolome   </td><td>31</td><td> 1.24</td><td>109</td><td>0.6</td><td>26.3</td><td>572.33</td></tr>\n",
       "\t<tr><th scope=row>3</th><td>Caldwell    </td><td> 3</td><td> 0.21</td><td>114</td><td>2.8</td><td>58.7</td><td>  0.78</td></tr>\n",
       "\t<tr><th scope=row>4</th><td>Champion    </td><td>25</td><td> 0.10</td><td> 46</td><td>1.9</td><td>47.4</td><td>  0.18</td></tr>\n",
       "\t<tr><th scope=row>5</th><td>Coamano     </td><td> 2</td><td> 1.05</td><td>130</td><td>1.9</td><td> 1.9</td><td>903.82</td></tr>\n",
       "\t<tr><th scope=row>6</th><td>Daphne Major</td><td>18</td><td> 0.34</td><td>119</td><td>8.0</td><td> 8.0</td><td>  1.84</td></tr>\n",
       "</tbody>\n",
       "</table>\n"
      ],
      "text/latex": [
       "A data.frame: 6 × 7\n",
       "\\begin{tabular}{r|lllllll}\n",
       "  & island & species & area & elevation & nearest & scruz & adjacent\\\\\n",
       "  & <fct> & <int> & <dbl> & <int> & <dbl> & <dbl> & <dbl>\\\\\n",
       "\\hline\n",
       "\t1 & Baltra       & 58 & 25.09 & 332 & 0.6 &  0.6 &   1.84\\\\\n",
       "\t2 & Bartolome    & 31 &  1.24 & 109 & 0.6 & 26.3 & 572.33\\\\\n",
       "\t3 & Caldwell     &  3 &  0.21 & 114 & 2.8 & 58.7 &   0.78\\\\\n",
       "\t4 & Champion     & 25 &  0.10 &  46 & 1.9 & 47.4 &   0.18\\\\\n",
       "\t5 & Coamano      &  2 &  1.05 & 130 & 1.9 &  1.9 & 903.82\\\\\n",
       "\t6 & Daphne Major & 18 &  0.34 & 119 & 8.0 &  8.0 &   1.84\\\\\n",
       "\\end{tabular}\n"
      ],
      "text/markdown": [
       "\n",
       "A data.frame: 6 × 7\n",
       "\n",
       "| <!--/--> | island &lt;fct&gt; | species &lt;int&gt; | area &lt;dbl&gt; | elevation &lt;int&gt; | nearest &lt;dbl&gt; | scruz &lt;dbl&gt; | adjacent &lt;dbl&gt; |\n",
       "|---|---|---|---|---|---|---|---|\n",
       "| 1 | Baltra       | 58 | 25.09 | 332 | 0.6 |  0.6 |   1.84 |\n",
       "| 2 | Bartolome    | 31 |  1.24 | 109 | 0.6 | 26.3 | 572.33 |\n",
       "| 3 | Caldwell     |  3 |  0.21 | 114 | 2.8 | 58.7 |   0.78 |\n",
       "| 4 | Champion     | 25 |  0.10 |  46 | 1.9 | 47.4 |   0.18 |\n",
       "| 5 | Coamano      |  2 |  1.05 | 130 | 1.9 |  1.9 | 903.82 |\n",
       "| 6 | Daphne Major | 18 |  0.34 | 119 | 8.0 |  8.0 |   1.84 |\n",
       "\n"
      ],
      "text/plain": [
       "  island       species area  elevation nearest scruz adjacent\n",
       "1 Baltra       58      25.09 332       0.6      0.6    1.84  \n",
       "2 Bartolome    31       1.24 109       0.6     26.3  572.33  \n",
       "3 Caldwell      3       0.21 114       2.8     58.7    0.78  \n",
       "4 Champion     25       0.10  46       1.9     47.4    0.18  \n",
       "5 Coamano       2       1.05 130       1.9      1.9  903.82  \n",
       "6 Daphne Major 18       0.34 119       8.0      8.0    1.84  "
      ]
     },
     "metadata": {},
     "output_type": "display_data"
    }
   ],
   "source": [
    "galapagos <- read.csv(\n",
    "    '/home/topcoder2k/ds-intro/data/raw/MatStat/galapagos.csv',\n",
    "    sep=';'\n",
    ")\n",
    "galapagos$endemics <- NULL\n",
    "head(galapagos)"
   ]
  },
  {
   "cell_type": "markdown",
   "metadata": {},
   "source": [
    "Рассмотрим пуассоновскую (колличественную) регрессию. Какая ожидается зависимость отклика от признаков?\n",
    "\n",
    "*Подсказка:* чему равно математическое ожидание отклика?\n",
    "\n",
    "**Ответ.** Так как МО отклика равно $e^{x^T \\theta}$, то именно такая зависимость отклика от признаков и ожидается.\n",
    "\n",
    "Постройте графики зависимости отклика `species` от всех признаков. Значения каких признаков лучше прологарифмировать? "
   ]
  },
  {
   "cell_type": "code",
   "execution_count": 78,
   "metadata": {
    "ExecuteTime": {
     "end_time": "2021-02-16T11:37:01.182492Z",
     "start_time": "2021-02-16T11:37:00.964Z"
    },
    "scrolled": false
   },
   "outputs": [
    {
     "data": {
      "image/png": "[encoded data removed]",
      "text/plain": [
       "plot without title"
      ]
     },
     "metadata": {
      "image/png": {
       "height": 1080,
       "width": 960
      }
     },
     "output_type": "display_data"
    }
   ],
   "source": [
    "options(repr.plot.width = 16, repr.plot.height = 18)\n",
    "par(mfrow=c(3, 2))\n",
    "\n",
    "for (column_name in colnames(galapagos)) {\n",
    "    if(column_name != 'species' && column_name != 'island') {\n",
    "        plot(as.formula(paste(\"species ~ \", column_name)), galapagos,\n",
    "             cex.lab = 2, cex.axis = 2)\n",
    "    }\n",
    "}"
   ]
  },
  {
   "cell_type": "markdown",
   "metadata": {},
   "source": [
    "**Вывод.** Лучше прологарифмировать те признаки, от которых наблюдается линейная зависимость target-а (ведь тогда в модели эти признаки будут линейными после возведения в экспоненту), а также те, в которых есть резкий рост значений target-а в узком диапазоне значений признака (то есть такие признаки смогут \"конкурировать\" и обучаться с экспонентой на равных)."
   ]
  },
  {
   "cell_type": "markdown",
   "metadata": {},
   "source": [
    "Обучите пуассоновскую регрессию по всем признакам, предварительно прологарифмировав некоторых из них. В R регрессию можно сделать функцией `glm`, указав конкретный тип обобщенной модели как `family = poisson()`. Напечатайте `summary` модели."
   ]
  },
  {
   "cell_type": "code",
   "execution_count": 84,
   "metadata": {
    "ExecuteTime": {
     "end_time": "2021-02-16T11:37:46.179477Z",
     "start_time": "2021-02-16T11:37:46.131Z"
    }
   },
   "outputs": [
    {
     "data": {
      "text/html": [
       "<table class=\"dataframe\">\n",
       "<caption>A data.frame: 6 × 7</caption>\n",
       "<thead>\n",
       "\t<tr><th></th><th scope=col>island</th><th scope=col>species</th><th scope=col>area</th><th scope=col>elevation</th><th scope=col>nearest</th><th scope=col>scruz</th><th scope=col>adjacent</th></tr>\n",
       "\t<tr><th></th><th scope=col>&lt;fct&gt;</th><th scope=col>&lt;int&gt;</th><th scope=col>&lt;dbl&gt;</th><th scope=col>&lt;int&gt;</th><th scope=col>&lt;dbl&gt;</th><th scope=col>&lt;dbl&gt;</th><th scope=col>&lt;dbl&gt;</th></tr>\n",
       "</thead>\n",
       "<tbody>\n",
       "\t<tr><th scope=row>1</th><td>Baltra      </td><td>58</td><td> 3.22246937</td><td>332</td><td>0.6</td><td> 0.6</td><td> 0.6097656</td></tr>\n",
       "\t<tr><th scope=row>2</th><td>Bartolome   </td><td>31</td><td> 0.21511139</td><td>109</td><td>0.6</td><td>26.3</td><td> 6.3497158</td></tr>\n",
       "\t<tr><th scope=row>3</th><td>Caldwell    </td><td> 3</td><td>-1.56064778</td><td>114</td><td>2.8</td><td>58.7</td><td>-0.2484614</td></tr>\n",
       "\t<tr><th scope=row>4</th><td>Champion    </td><td>25</td><td>-2.30258508</td><td> 46</td><td>1.9</td><td>47.4</td><td>-1.7147984</td></tr>\n",
       "\t<tr><th scope=row>5</th><td>Coamano     </td><td> 2</td><td> 0.04879012</td><td>130</td><td>1.9</td><td> 1.9</td><td> 6.8066302</td></tr>\n",
       "\t<tr><th scope=row>6</th><td>Daphne Major</td><td>18</td><td>-1.07880965</td><td>119</td><td>8.0</td><td> 8.0</td><td> 0.6097656</td></tr>\n",
       "</tbody>\n",
       "</table>\n"
      ],
      "text/latex": [
       "A data.frame: 6 × 7\n",
       "\\begin{tabular}{r|lllllll}\n",
       "  & island & species & area & elevation & nearest & scruz & adjacent\\\\\n",
       "  & <fct> & <int> & <dbl> & <int> & <dbl> & <dbl> & <dbl>\\\\\n",
       "\\hline\n",
       "\t1 & Baltra       & 58 &  3.22246937 & 332 & 0.6 &  0.6 &  0.6097656\\\\\n",
       "\t2 & Bartolome    & 31 &  0.21511139 & 109 & 0.6 & 26.3 &  6.3497158\\\\\n",
       "\t3 & Caldwell     &  3 & -1.56064778 & 114 & 2.8 & 58.7 & -0.2484614\\\\\n",
       "\t4 & Champion     & 25 & -2.30258508 &  46 & 1.9 & 47.4 & -1.7147984\\\\\n",
       "\t5 & Coamano      &  2 &  0.04879012 & 130 & 1.9 &  1.9 &  6.8066302\\\\\n",
       "\t6 & Daphne Major & 18 & -1.07880965 & 119 & 8.0 &  8.0 &  0.6097656\\\\\n",
       "\\end{tabular}\n"
      ],
      "text/markdown": [
       "\n",
       "A data.frame: 6 × 7\n",
       "\n",
       "| <!--/--> | island &lt;fct&gt; | species &lt;int&gt; | area &lt;dbl&gt; | elevation &lt;int&gt; | nearest &lt;dbl&gt; | scruz &lt;dbl&gt; | adjacent &lt;dbl&gt; |\n",
       "|---|---|---|---|---|---|---|---|\n",
       "| 1 | Baltra       | 58 |  3.22246937 | 332 | 0.6 |  0.6 |  0.6097656 |\n",
       "| 2 | Bartolome    | 31 |  0.21511139 | 109 | 0.6 | 26.3 |  6.3497158 |\n",
       "| 3 | Caldwell     |  3 | -1.56064778 | 114 | 2.8 | 58.7 | -0.2484614 |\n",
       "| 4 | Champion     | 25 | -2.30258508 |  46 | 1.9 | 47.4 | -1.7147984 |\n",
       "| 5 | Coamano      |  2 |  0.04879012 | 130 | 1.9 |  1.9 |  6.8066302 |\n",
       "| 6 | Daphne Major | 18 | -1.07880965 | 119 | 8.0 |  8.0 |  0.6097656 |\n",
       "\n"
      ],
      "text/plain": [
       "  island       species area        elevation nearest scruz adjacent  \n",
       "1 Baltra       58       3.22246937 332       0.6      0.6   0.6097656\n",
       "2 Bartolome    31       0.21511139 109       0.6     26.3   6.3497158\n",
       "3 Caldwell      3      -1.56064778 114       2.8     58.7  -0.2484614\n",
       "4 Champion     25      -2.30258508  46       1.9     47.4  -1.7147984\n",
       "5 Coamano       2       0.04879012 130       1.9      1.9   6.8066302\n",
       "6 Daphne Major 18      -1.07880965 119       8.0      8.0   0.6097656"
      ]
     },
     "metadata": {},
     "output_type": "display_data"
    }
   ],
   "source": [
    "# Логарифмируем\n",
    "galapagos$area <- log(galapagos$area, base = exp(1))\n",
    "galapagos$adjacent <- log(galapagos$adjacent, base = exp(1))\n",
    "head(galapagos)"
   ]
  },
  {
   "cell_type": "code",
   "execution_count": 85,
   "metadata": {
    "ExecuteTime": {
     "end_time": "2021-02-16T11:38:07.105781Z",
     "start_time": "2021-02-16T11:38:07.070Z"
    },
    "scrolled": false
   },
   "outputs": [
    {
     "data": {
      "text/plain": [
       "\n",
       "Call:\n",
       "glm(formula = species ~ area + elevation + nearest + scruz + \n",
       "    adjacent, family = poisson(), data = galapagos)\n",
       "\n",
       "Deviance Residuals: \n",
       "    Min       1Q   Median       3Q      Max  \n",
       "-5.4896  -2.6099  -0.6567   2.4306   8.7654  \n",
       "\n",
       "Coefficients:\n",
       "              Estimate Std. Error z value Pr(>|z|)    \n",
       "(Intercept)  3.453e+00  5.187e-02  66.584  < 2e-16 ***\n",
       "area         3.543e-01  1.602e-02  22.117  < 2e-16 ***\n",
       "elevation    7.011e-05  1.025e-04   0.684    0.494    \n",
       "nearest     -1.718e-03  1.672e-03  -1.027    0.304    \n",
       "scruz       -2.539e-03  5.715e-04  -4.443 8.87e-06 ***\n",
       "adjacent    -9.344e-02  8.545e-03 -10.935  < 2e-16 ***\n",
       "---\n",
       "Signif. codes:  0 ‘***’ 0.001 ‘**’ 0.01 ‘*’ 0.05 ‘.’ 0.1 ‘ ’ 1\n",
       "\n",
       "(Dispersion parameter for poisson family taken to be 1)\n",
       "\n",
       "    Null deviance: 3510.73  on 29  degrees of freedom\n",
       "Residual deviance:  365.64  on 24  degrees of freedom\n",
       "AIC: 538.47\n",
       "\n",
       "Number of Fisher Scoring iterations: 5\n"
      ]
     },
     "metadata": {},
     "output_type": "display_data"
    }
   ],
   "source": [
    "model = glm(species ~ area + elevation + nearest + scruz + adjacent,\n",
    "            data = galapagos, family = poisson())\n",
    "summary(model)"
   ]
  },
  {
   "cell_type": "markdown",
   "metadata": {},
   "source": [
    "Оставьте только значимые признаки, обучите модель еще раз и проинтерпретируйте полученные результаты. Какой смысл имеют коэффициенты модели?"
   ]
  },
  {
   "cell_type": "code",
   "execution_count": 99,
   "metadata": {
    "ExecuteTime": {
     "end_time": "2021-02-16T11:58:00.249125Z",
     "start_time": "2021-02-16T11:58:00.133Z"
    },
    "scrolled": false
   },
   "outputs": [
    {
     "name": "stderr",
     "output_type": "stream",
     "text": [
      "Morgan-Tatar search since family is non-gaussian.\n",
      "\n"
     ]
    },
    {
     "data": {
      "text/plain": [
       "BIC\n",
       "BICq equivalent for q in (4.46904446782526e-09, 0.68387105384684)\n",
       "Best Model:\n",
       "               Estimate   Std. Error    z value     Pr(>|z|)\n",
       "(Intercept)  3.45701146 0.0516329617  66.953577 0.000000e+00\n",
       "area         0.36253517 0.0080856524  44.836849 0.000000e+00\n",
       "scruz       -0.00297321 0.0004795808  -6.199602 5.660606e-10\n",
       "adjacent    -0.08737342 0.0062953229 -13.879101 8.480049e-44"
      ]
     },
     "metadata": {},
     "output_type": "display_data"
    }
   ],
   "source": [
    "library(bestglm)\n",
    "\n",
    "galapagos2 <- galapagos[, c(3, 4, 5, 6, 7)]\n",
    "galapagos2$species <- galapagos$species\n",
    "bestglm(galapagos2, family = poisson(), IC = \"BIC\")"
   ]
  },
  {
   "cell_type": "markdown",
   "metadata": {},
   "source": [
    "**Замечание.** Как ни крути, ```elevation, nearest``` убираем."
   ]
  },
  {
   "cell_type": "code",
   "execution_count": 98,
   "metadata": {
    "ExecuteTime": {
     "end_time": "2021-02-16T11:57:51.591216Z",
     "start_time": "2021-02-16T11:57:51.542Z"
    }
   },
   "outputs": [
    {
     "data": {
      "text/plain": [
       "\n",
       "Call:\n",
       "glm(formula = species ~ area + scruz + adjacent, family = poisson(), \n",
       "    data = galapagos2)\n",
       "\n",
       "Deviance Residuals: \n",
       "    Min       1Q   Median       3Q      Max  \n",
       "-5.4380  -2.3327  -0.6106   2.5260   8.8574  \n",
       "\n",
       "Coefficients:\n",
       "              Estimate Std. Error z value Pr(>|z|)    \n",
       "(Intercept)  3.4570115  0.0516330   66.95  < 2e-16 ***\n",
       "area         0.3625352  0.0080857   44.84  < 2e-16 ***\n",
       "scruz       -0.0029732  0.0004796   -6.20 5.66e-10 ***\n",
       "adjacent    -0.0873734  0.0062953  -13.88  < 2e-16 ***\n",
       "---\n",
       "Signif. codes:  0 ‘***’ 0.001 ‘**’ 0.01 ‘*’ 0.05 ‘.’ 0.1 ‘ ’ 1\n",
       "\n",
       "(Dispersion parameter for poisson family taken to be 1)\n",
       "\n",
       "    Null deviance: 3510.73  on 29  degrees of freedom\n",
       "Residual deviance:  367.97  on 26  degrees of freedom\n",
       "AIC: 536.8\n",
       "\n",
       "Number of Fisher Scoring iterations: 5\n"
      ]
     },
     "metadata": {},
     "output_type": "display_data"
    }
   ],
   "source": [
    "galapagos2$elevation <- NULL\n",
    "galapagos2$nearest <- NULL\n",
    "\n",
    "model = glm(species ~ area + scruz + adjacent,\n",
    "            data = galapagos2, family = poisson())\n",
    "summary(model)"
   ]
  },
  {
   "cell_type": "markdown",
   "metadata": {},
   "source": [
    "**Ответ.** Свободный коэффициент устанавливает масштаб значений в независимости от признаков (так как он в экспоненте и не умножается на x), число видов прямопропорционально площади с заданным коэффициентом, а близость к главному острову и размеры соседнего острова уменьшают число видов экспоненциально (так как соотв. коэф-ты отрицательные)."
   ]
  },
  {
   "cell_type": "markdown",
   "metadata": {},
   "source": [
    "При использовании статистических свойств необходимо выполнить проверку предположений модели. Аналогом гомоскедастичности для гауссовской линейной модели в случае пуассоновской регрессии является равенство математического ожидания и дисперсии (это свойство пуассоновского распределения). \n",
    "\n",
    "Аналогично гауссовской линейной модели можно определить устойчивые оценки дисперсии. Посчитайте и напечатайте ковариационную матрицу оценок коэффициентов модели с помощью функции `vcovHC`, рассмотрев тип оценки `HC3`."
   ]
  },
  {
   "cell_type": "code",
   "execution_count": 103,
   "metadata": {
    "ExecuteTime": {
     "end_time": "2021-02-16T12:59:30.014862Z",
     "start_time": "2021-02-16T12:59:26.533Z"
    }
   },
   "outputs": [],
   "source": [
    "?vcovHC"
   ]
  },
  {
   "cell_type": "code",
   "execution_count": 102,
   "metadata": {
    "ExecuteTime": {
     "end_time": "2021-02-16T12:59:05.422075Z",
     "start_time": "2021-02-16T12:59:03.309Z"
    }
   },
   "outputs": [
    {
     "name": "stderr",
     "output_type": "stream",
     "text": [
      "Loading required package: zoo\n",
      "\n",
      "\n",
      "Attaching package: ‘zoo’\n",
      "\n",
      "\n",
      "The following objects are masked from ‘package:base’:\n",
      "\n",
      "    as.Date, as.Date.numeric\n",
      "\n",
      "\n"
     ]
    },
    {
     "data": {
      "text/html": [
       "<table class=\"dataframe\">\n",
       "<caption>A matrix: 4 × 4 of type dbl</caption>\n",
       "<thead>\n",
       "\t<tr><th></th><th scope=col>(Intercept)</th><th scope=col>area</th><th scope=col>scruz</th><th scope=col>adjacent</th></tr>\n",
       "</thead>\n",
       "<tbody>\n",
       "\t<tr><th scope=row>(Intercept)</th><td> 0.0382914773</td><td>-5.380001e-03</td><td>-1.340556e-04</td><td> 1.865033e-03</td></tr>\n",
       "\t<tr><th scope=row>area</th><td>-0.0053800014</td><td> 9.964898e-04</td><td> 1.054524e-05</td><td>-5.052216e-04</td></tr>\n",
       "\t<tr><th scope=row>scruz</th><td>-0.0001340556</td><td> 1.054524e-05</td><td> 2.151437e-06</td><td>-4.901018e-06</td></tr>\n",
       "\t<tr><th scope=row>adjacent</th><td> 0.0018650329</td><td>-5.052216e-04</td><td>-4.901018e-06</td><td> 5.872167e-04</td></tr>\n",
       "</tbody>\n",
       "</table>\n"
      ],
      "text/latex": [
       "A matrix: 4 × 4 of type dbl\n",
       "\\begin{tabular}{r|llll}\n",
       "  & (Intercept) & area & scruz & adjacent\\\\\n",
       "\\hline\n",
       "\t(Intercept) &  0.0382914773 & -5.380001e-03 & -1.340556e-04 &  1.865033e-03\\\\\n",
       "\tarea & -0.0053800014 &  9.964898e-04 &  1.054524e-05 & -5.052216e-04\\\\\n",
       "\tscruz & -0.0001340556 &  1.054524e-05 &  2.151437e-06 & -4.901018e-06\\\\\n",
       "\tadjacent &  0.0018650329 & -5.052216e-04 & -4.901018e-06 &  5.872167e-04\\\\\n",
       "\\end{tabular}\n"
      ],
      "text/markdown": [
       "\n",
       "A matrix: 4 × 4 of type dbl\n",
       "\n",
       "| <!--/--> | (Intercept) | area | scruz | adjacent |\n",
       "|---|---|---|---|---|\n",
       "| (Intercept) |  0.0382914773 | -5.380001e-03 | -1.340556e-04 |  1.865033e-03 |\n",
       "| area | -0.0053800014 |  9.964898e-04 |  1.054524e-05 | -5.052216e-04 |\n",
       "| scruz | -0.0001340556 |  1.054524e-05 |  2.151437e-06 | -4.901018e-06 |\n",
       "| adjacent |  0.0018650329 | -5.052216e-04 | -4.901018e-06 |  5.872167e-04 |\n",
       "\n"
      ],
      "text/plain": [
       "            (Intercept)   area          scruz         adjacent     \n",
       "(Intercept)  0.0382914773 -5.380001e-03 -1.340556e-04  1.865033e-03\n",
       "area        -0.0053800014  9.964898e-04  1.054524e-05 -5.052216e-04\n",
       "scruz       -0.0001340556  1.054524e-05  2.151437e-06 -4.901018e-06\n",
       "adjacent     0.0018650329 -5.052216e-04 -4.901018e-06  5.872167e-04"
      ]
     },
     "metadata": {},
     "output_type": "display_data"
    }
   ],
   "source": [
    "library('lmtest')\n",
    "library(\"sandwich\")\n",
    "\n",
    "vcovHC(model, type = \"HC3\")"
   ]
  },
  {
   "cell_type": "markdown",
   "metadata": {},
   "source": [
    "Напечатайте таблицу статистических свойств оценок коэффициентов и доверительные интервалы. Для этого можно использовать те же функции, что и для гауссовской модели."
   ]
  },
  {
   "cell_type": "code",
   "execution_count": 104,
   "metadata": {
    "ExecuteTime": {
     "end_time": "2021-02-16T13:02:41.435032Z",
     "start_time": "2021-02-16T13:02:41.395Z"
    }
   },
   "outputs": [
    {
     "data": {
      "text/plain": [
       "\n",
       "z test of coefficients:\n",
       "\n",
       "              Estimate Std. Error z value  Pr(>|z|)    \n",
       "(Intercept)  3.4570115  0.1956821 17.6665 < 2.2e-16 ***\n",
       "area         0.3625352  0.0315672 11.4845 < 2.2e-16 ***\n",
       "scruz       -0.0029732  0.0014668 -2.0270 0.0426588 *  \n",
       "adjacent    -0.0873734  0.0242326 -3.6056 0.0003114 ***\n",
       "---\n",
       "Signif. codes:  0 ‘***’ 0.001 ‘**’ 0.01 ‘*’ 0.05 ‘.’ 0.1 ‘ ’ 1\n"
      ]
     },
     "metadata": {},
     "output_type": "display_data"
    }
   ],
   "source": [
    "coef.table <- coeftest(model, vcov = vcovHC(model, type = \"HC3\"))\n",
    "coef.table"
   ]
  },
  {
   "cell_type": "markdown",
   "metadata": {},
   "source": [
    "**Замечание**. Нууу, не сказать, что для признаков оценка равна дисперсии. Хотя для ```area``` попадание близкое."
   ]
  },
  {
   "cell_type": "markdown",
   "metadata": {},
   "source": [
    "Придумайте на Галапагосском архипелаге еще один остров, задайте ему некоторые характеристики и назовите своим именем. Оцените, в каком интервале лежит ожидаемое количество видов растений на этом острове.\n",
    "\n",
    "*Указания.* Установите в функции `predict` опцию `se.fit = TRUE`. Из полученных значений сформируйте доверительный интервал линеаризованного отклика. Доверительный интервал для ожидаемого отклика получите с помощью функции `<имя обученной модели>$family$linkinv`."
   ]
  },
  {
   "cell_type": "code",
   "execution_count": 126,
   "metadata": {
    "ExecuteTime": {
     "end_time": "2021-02-16T14:06:41.922635Z",
     "start_time": "2021-02-16T14:06:41.866Z"
    }
   },
   "outputs": [
    {
     "data": {
      "text/html": [
       "<table class=\"dataframe\">\n",
       "<caption>A data.frame: 1 × 2</caption>\n",
       "<thead>\n",
       "\t<tr><th></th><th scope=col>lwr_bound</th><th scope=col>upr_bound</th></tr>\n",
       "\t<tr><th></th><th scope=col>&lt;dbl&gt;</th><th scope=col>&lt;dbl&gt;</th></tr>\n",
       "</thead>\n",
       "<tbody>\n",
       "\t<tr><th scope=row>1</th><td>40.94095</td><td>48.8298</td></tr>\n",
       "</tbody>\n",
       "</table>\n"
      ],
      "text/latex": [
       "A data.frame: 1 × 2\n",
       "\\begin{tabular}{r|ll}\n",
       "  & lwr\\_bound & upr\\_bound\\\\\n",
       "  & <dbl> & <dbl>\\\\\n",
       "\\hline\n",
       "\t1 & 40.94095 & 48.8298\\\\\n",
       "\\end{tabular}\n"
      ],
      "text/markdown": [
       "\n",
       "A data.frame: 1 × 2\n",
       "\n",
       "| <!--/--> | lwr_bound &lt;dbl&gt; | upr_bound &lt;dbl&gt; |\n",
       "|---|---|---|\n",
       "| 1 | 40.94095 | 48.8298 |\n",
       "\n"
      ],
      "text/plain": [
       "  lwr_bound upr_bound\n",
       "1 40.94095  48.8298  "
      ]
     },
     "metadata": {},
     "output_type": "display_data"
    }
   ],
   "source": [
    "x_new = data.frame(matrix(c(\n",
    "    log(3, base = exp(1)),\n",
    "    50,\n",
    "    0.6,\n",
    "    0.6,\n",
    "    0.6097656\n",
    "), ncol=5))\n",
    "colnames(x_new) = c(\"area\", \"elevation\", \"nearest\", \"scruz\", \"adjacent\")\n",
    "\n",
    "# Получим интервал для линеаризированного отклика по формуле с лекции\n",
    "predicted = predict(model, x_new, se.fit = TRUE)\n",
    "linear_int = data.frame(matrix(c(\n",
    "    predicted$fit - qnorm(1 - 0.05 / 2) * predicted$se.fit,\n",
    "    predicted$fit + qnorm(1 - 0.05 / 2) * predicted$se.fit\n",
    "), ncol=2))\n",
    "colnames(linear_int) = c(\"lwr_bound\", \"upr_bound\")\n",
    "\n",
    "# Теперь для ожидаемого\n",
    "expect_int = poisson()$linkinv(linear_int)\n",
    "expect_int"
   ]
  },
  {
   "cell_type": "markdown",
   "metadata": {},
   "source": [
    "Наконец, получите предсказательный интервал для количества растений на вашем острове. Для этого посчитайте предсказательные интервалы для пуассоновских случайных величин, параметры которых соответствуют границам доверительного интервала, построенного на предыдущем шаге. Объедините эти два интервала."
   ]
  },
  {
   "cell_type": "code",
   "execution_count": 128,
   "metadata": {
    "ExecuteTime": {
     "end_time": "2021-02-16T16:03:22.557258Z",
     "start_time": "2021-02-16T16:03:22.427Z"
    }
   },
   "outputs": [
    {
     "data": {
      "text/html": [
       "<table class=\"dataframe\">\n",
       "<caption>A data.frame: 1 × 4</caption>\n",
       "<thead>\n",
       "\t<tr><th></th><th scope=col>left_lwr_bnd</th><th scope=col>left_upr_bnd</th><th scope=col>right_lwr_bnd</th><th scope=col>right_upr_bnd</th></tr>\n",
       "\t<tr><th></th><th scope=col>&lt;dbl&gt;</th><th scope=col>&lt;dbl&gt;</th><th scope=col>&lt;dbl&gt;</th><th scope=col>&lt;dbl&gt;</th></tr>\n",
       "</thead>\n",
       "<tbody>\n",
       "\t<tr><th scope=row>1</th><td>37.48819</td><td>44.71173</td><td>44.71173</td><td>53.32716</td></tr>\n",
       "</tbody>\n",
       "</table>\n"
      ],
      "text/latex": [
       "A data.frame: 1 × 4\n",
       "\\begin{tabular}{r|llll}\n",
       "  & left\\_lwr\\_bnd & left\\_upr\\_bnd & right\\_lwr\\_bnd & right\\_upr\\_bnd\\\\\n",
       "  & <dbl> & <dbl> & <dbl> & <dbl>\\\\\n",
       "\\hline\n",
       "\t1 & 37.48819 & 44.71173 & 44.71173 & 53.32716\\\\\n",
       "\\end{tabular}\n"
      ],
      "text/markdown": [
       "\n",
       "A data.frame: 1 × 4\n",
       "\n",
       "| <!--/--> | left_lwr_bnd &lt;dbl&gt; | left_upr_bnd &lt;dbl&gt; | right_lwr_bnd &lt;dbl&gt; | right_upr_bnd &lt;dbl&gt; |\n",
       "|---|---|---|---|---|\n",
       "| 1 | 37.48819 | 44.71173 | 44.71173 | 53.32716 |\n",
       "\n"
      ],
      "text/plain": [
       "  left_lwr_bnd left_upr_bnd right_lwr_bnd right_upr_bnd\n",
       "1 37.48819     44.71173     44.71173      53.32716     "
      ]
     },
     "metadata": {},
     "output_type": "display_data"
    }
   ],
   "source": [
    "# Как и говорит условие, возьмём левую и правую границы, построим  для них\n",
    "# интервалы для ожидаемого отклика, а потом возведём в exp и объединим\n",
    "linear_int = data.frame(matrix(c(\n",
    "    predicted$fit - 2 * qnorm(1 - 0.05 / 2) * predicted$se.fit,\n",
    "    predicted$fit,\n",
    "    predicted$fit,\n",
    "    predicted$fit + 2 * qnorm(1 - 0.05 / 2) * predicted$se.fit\n",
    "), ncol=4))\n",
    "colnames(linear_int) = c(\"left_lwr_bnd\", \"left_upr_bnd\", \"right_lwr_bnd\",\n",
    "                        \"right_upr_bnd\")\n",
    "\n",
    "# Теперь для ожидаемого\n",
    "expect_int = poisson()$linkinv(linear_int)\n",
    "expect_int"
   ]
  },
  {
   "cell_type": "markdown",
   "metadata": {},
   "source": [
    "**Ответ.** Сливаем вместе интервалы и получаем ответ: $[37.49; 53.32]$. Нуу, ничего так у меня остров, приезжайте в гости ;)"
   ]
  },
  {
   "cell_type": "code",
   "execution_count": null,
   "metadata": {},
   "outputs": [],
   "source": []
  }
 ],
 "metadata": {
  "hide_input": false,
  "kernelspec": {
   "display_name": "R",
   "language": "R",
   "name": "ir"
  },
  "language_info": {
   "codemirror_mode": "r",
   "file_extension": ".r",
   "mimetype": "text/x-r-source",
   "name": "R",
   "pygments_lexer": "r",
   "version": "3.6.2"
  }
 },
 "nbformat": 4,
 "nbformat_minor": 2
}
