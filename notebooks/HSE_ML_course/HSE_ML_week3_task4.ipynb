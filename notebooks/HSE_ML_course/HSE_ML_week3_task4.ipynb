{
 "cells": [
  {
   "cell_type": "markdown",
   "metadata": {},
   "source": [
    "### Инструкция по выполнению\n",
    "\n",
    "    1. Загрузите файл classification.csv. В нем записаны истинные классы объектов выборки (колонка true) и ответы некоторого классификатора (колонка pred).\n",
    "    2. Заполните таблицу ошибок классификации:"
   ]
  },
  {
   "cell_type": "markdown",
   "metadata": {
    "ExecuteTime": {
     "end_time": "2020-08-18T11:20:20.850340Z",
     "start_time": "2020-08-18T11:20:20.828667Z"
    }
   },
   "source": [
    "|Actual |Positive|\tActual| Negative|\n",
    "    | ------| ------ | ------ | ------- |\n",
    "    |Predicted| Positive|\tTP|\tFP|\n",
    "    |Predicted| Negative|\tFN|\tTN|"
   ]
  },
  {
   "cell_type": "markdown",
   "metadata": {},
   "source": [
    "    Для этого подсчитайте величины TP, FP, FN и TN согласно их определениям. Например, FP — это количество объектов, имеющих класс 0, но отнесенных алгоритмом к классу 1. Ответ в данном вопросе — четыре числа через пробел.\n",
    "\n",
    "    3. Посчитайте основные метрики качества классификатора:\n",
    "\n",
    "    Accuracy (доля верно угаданных) — sklearn.metrics.accuracy_score\n",
    "    Precision (точность) — sklearn.metrics.precision_score\n",
    "    Recall (полнота) — sklearn.metrics.recall_score\n",
    "    F-мера — sklearn.metrics.f1_score\n",
    "\n",
    "    В качестве ответа укажите эти четыре числа через пробел.\n",
    "\n",
    "    4. Имеется четыре обученных классификатора. В файле scores.csv записаны истинные классы и значения степени принадлежности положительному классу для каждого классификатора на некоторой выборке:\n",
    "\n",
    "    для логистической регрессии — вероятность положительного класса (колонка score_logreg),\n",
    "    для SVM — отступ от разделяющей поверхности (колонка score_svm),\n",
    "    для метрического алгоритма — взвешенная сумма классов соседей (колонка score_knn),\n",
    "    для решающего дерева — доля положительных объектов в листе (колонка score_tree).\n",
    "\n",
    "    Загрузите этот файл.\n",
    "\n",
    "    5. Посчитайте площадь под ROC-кривой для каждого классификатора. Какой классификатор имеет наибольшее значение метрики AUC-ROC (укажите название столбца)? Воспользуйтесь функцией sklearn.metrics.roc_auc_score.\n",
    "\n",
    "    6. Какой классификатор достигает наибольшей точности (Precision) при полноте (Recall) не менее 70% ?\n",
    "\n",
    "Чтобы получить ответ на этот вопрос, найдите все точки precision-recall-кривой с помощью функции sklearn.metrics.precision_recall_curve. Она возвращает три массива: precision, recall, thresholds. В них записаны точность и полнота при определенных порогах, указанных в массиве thresholds. Найдите максимальной значение точности среди тех записей, для которых полнота не меньше, чем 0.7.\n",
    "\n",
    "Если ответом является нецелое число, то целую и дробную часть необходимо разграничивать точкой, например, 0.42. При необходимости округляйте дробную часть до двух знаков.\n",
    "\n",
    "Ответ на каждое задание — текстовый файл, содержащий ответ в первой строчке. Обратите внимание, что отправляемые файлы не должны содержать перевод строки в конце. Данный нюанс является ограничением платформы Coursera. Мы работаем над тем, чтобы убрать это ограничение."
   ]
  },
  {
   "cell_type": "code",
   "execution_count": 2,
   "metadata": {
    "ExecuteTime": {
     "end_time": "2020-08-18T11:23:11.683869Z",
     "start_time": "2020-08-18T11:23:07.695749Z"
    }
   },
   "outputs": [
    {
     "data": {
      "text/html": [
       "<div>\n",
       "<style scoped>\n",
       "    .dataframe tbody tr th:only-of-type {\n",
       "        vertical-align: middle;\n",
       "    }\n",
       "\n",
       "    .dataframe tbody tr th {\n",
       "        vertical-align: top;\n",
       "    }\n",
       "\n",
       "    .dataframe thead th {\n",
       "        text-align: right;\n",
       "    }\n",
       "</style>\n",
       "<table border=\"1\" class=\"dataframe\">\n",
       "  <thead>\n",
       "    <tr style=\"text-align: right;\">\n",
       "      <th></th>\n",
       "      <th>true</th>\n",
       "      <th>pred</th>\n",
       "    </tr>\n",
       "  </thead>\n",
       "  <tbody>\n",
       "    <tr>\n",
       "      <th>0</th>\n",
       "      <td>1</td>\n",
       "      <td>0</td>\n",
       "    </tr>\n",
       "    <tr>\n",
       "      <th>1</th>\n",
       "      <td>1</td>\n",
       "      <td>1</td>\n",
       "    </tr>\n",
       "    <tr>\n",
       "      <th>2</th>\n",
       "      <td>1</td>\n",
       "      <td>1</td>\n",
       "    </tr>\n",
       "    <tr>\n",
       "      <th>3</th>\n",
       "      <td>0</td>\n",
       "      <td>0</td>\n",
       "    </tr>\n",
       "    <tr>\n",
       "      <th>4</th>\n",
       "      <td>1</td>\n",
       "      <td>1</td>\n",
       "    </tr>\n",
       "    <tr>\n",
       "      <th>5</th>\n",
       "      <td>1</td>\n",
       "      <td>1</td>\n",
       "    </tr>\n",
       "    <tr>\n",
       "      <th>6</th>\n",
       "      <td>1</td>\n",
       "      <td>1</td>\n",
       "    </tr>\n",
       "    <tr>\n",
       "      <th>7</th>\n",
       "      <td>0</td>\n",
       "      <td>1</td>\n",
       "    </tr>\n",
       "    <tr>\n",
       "      <th>8</th>\n",
       "      <td>0</td>\n",
       "      <td>0</td>\n",
       "    </tr>\n",
       "    <tr>\n",
       "      <th>9</th>\n",
       "      <td>0</td>\n",
       "      <td>1</td>\n",
       "    </tr>\n",
       "  </tbody>\n",
       "</table>\n",
       "</div>"
      ],
      "text/plain": [
       "   true  pred\n",
       "0     1     0\n",
       "1     1     1\n",
       "2     1     1\n",
       "3     0     0\n",
       "4     1     1\n",
       "5     1     1\n",
       "6     1     1\n",
       "7     0     1\n",
       "8     0     0\n",
       "9     0     1"
      ]
     },
     "execution_count": 2,
     "metadata": {},
     "output_type": "execute_result"
    }
   ],
   "source": [
    "import pandas as pd\n",
    "from pathlib import Path\n",
    "path = Path.cwd()\n",
    "path = path.joinpath('../data/raw/HSE_ML_week3')\n",
    "\n",
    "data = pd.read_csv(path.joinpath('classification.csv'))\n",
    "data.head(10)"
   ]
  },
  {
   "cell_type": "code",
   "execution_count": 9,
   "metadata": {
    "ExecuteTime": {
     "end_time": "2020-08-18T11:32:14.991944Z",
     "start_time": "2020-08-18T11:32:14.948862Z"
    }
   },
   "outputs": [
    {
     "data": {
      "text/plain": [
       "False    157\n",
       "True      43\n",
       "dtype: int64"
      ]
     },
     "execution_count": 9,
     "metadata": {},
     "output_type": "execute_result"
    }
   ],
   "source": [
    "TP = data.apply(\n",
    "        lambda row: row[0]==1 and row[0]==row[1],\n",
    "        axis=1\n",
    "    )\n",
    "TP.value_counts()"
   ]
  },
  {
   "cell_type": "code",
   "execution_count": 10,
   "metadata": {
    "ExecuteTime": {
     "end_time": "2020-08-18T11:33:20.580231Z",
     "start_time": "2020-08-18T11:33:20.541068Z"
    }
   },
   "outputs": [
    {
     "data": {
      "text/plain": [
       "False    166\n",
       "True      34\n",
       "dtype: int64"
      ]
     },
     "execution_count": 10,
     "metadata": {},
     "output_type": "execute_result"
    }
   ],
   "source": [
    "TP = data.apply(\n",
    "        lambda row: row[0]==0 and row[0]!=row[1],\n",
    "        axis=1\n",
    "    )\n",
    "TP.value_counts()"
   ]
  },
  {
   "cell_type": "code",
   "execution_count": 11,
   "metadata": {
    "ExecuteTime": {
     "end_time": "2020-08-18T11:33:58.682630Z",
     "start_time": "2020-08-18T11:33:58.641826Z"
    }
   },
   "outputs": [
    {
     "data": {
      "text/plain": [
       "False    141\n",
       "True      59\n",
       "dtype: int64"
      ]
     },
     "execution_count": 11,
     "metadata": {},
     "output_type": "execute_result"
    }
   ],
   "source": [
    "TP = data.apply(\n",
    "        lambda row: row[0]==1 and row[0]!=row[1],\n",
    "        axis=1\n",
    "    )\n",
    "TP.value_counts()"
   ]
  },
  {
   "cell_type": "code",
   "execution_count": 12,
   "metadata": {
    "ExecuteTime": {
     "end_time": "2020-08-18T11:34:06.156398Z",
     "start_time": "2020-08-18T11:34:06.119029Z"
    }
   },
   "outputs": [
    {
     "data": {
      "text/plain": [
       "False    136\n",
       "True      64\n",
       "dtype: int64"
      ]
     },
     "execution_count": 12,
     "metadata": {},
     "output_type": "execute_result"
    }
   ],
   "source": [
    "TP = data.apply(\n",
    "        lambda row: row[0]==0 and row[0]==row[1],\n",
    "        axis=1\n",
    "    )\n",
    "TP.value_counts()"
   ]
  },
  {
   "cell_type": "code",
   "execution_count": 13,
   "metadata": {
    "ExecuteTime": {
     "end_time": "2020-08-18T11:35:50.833050Z",
     "start_time": "2020-08-18T11:35:50.817234Z"
    }
   },
   "outputs": [],
   "source": [
    "file = open('/home/topcoder2k/HSE_ML/HSE_ML_week3_answers/classification_errors.txt', 'w')\n",
    "file.write('43 34 59 64')\n",
    "file.close()"
   ]
  },
  {
   "cell_type": "code",
   "execution_count": 17,
   "metadata": {
    "ExecuteTime": {
     "end_time": "2020-08-18T11:38:54.266610Z",
     "start_time": "2020-08-18T11:38:54.231993Z"
    }
   },
   "outputs": [
    {
     "name": "stdout",
     "output_type": "stream",
     "text": [
      "0.535\n",
      "0.5584415584415584\n",
      "0.4215686274509804\n",
      "0.48044692737430167\n"
     ]
    }
   ],
   "source": [
    "from sklearn.metrics import accuracy_score, precision_score, recall_score, f1_score\n",
    "\n",
    "print(accuracy_score(data['true'], data['pred']))\n",
    "print(precision_score(data['true'], data['pred']))\n",
    "print(recall_score(data['true'], data['pred']))\n",
    "print(f1_score(data['true'], data['pred']))"
   ]
  },
  {
   "cell_type": "code",
   "execution_count": 18,
   "metadata": {
    "ExecuteTime": {
     "end_time": "2020-08-18T11:39:58.083565Z",
     "start_time": "2020-08-18T11:39:58.057641Z"
    }
   },
   "outputs": [],
   "source": [
    "file = open('/home/topcoder2k/HSE_ML/HSE_ML_week3_answers/model_scores.txt', 'w')\n",
    "file.write('0.54 0.56 0.42 0.48')\n",
    "file.close()"
   ]
  },
  {
   "cell_type": "code",
   "execution_count": 19,
   "metadata": {
    "ExecuteTime": {
     "end_time": "2020-08-18T11:41:25.119308Z",
     "start_time": "2020-08-18T11:41:25.099753Z"
    }
   },
   "outputs": [
    {
     "data": {
      "text/html": [
       "<div>\n",
       "<style scoped>\n",
       "    .dataframe tbody tr th:only-of-type {\n",
       "        vertical-align: middle;\n",
       "    }\n",
       "\n",
       "    .dataframe tbody tr th {\n",
       "        vertical-align: top;\n",
       "    }\n",
       "\n",
       "    .dataframe thead th {\n",
       "        text-align: right;\n",
       "    }\n",
       "</style>\n",
       "<table border=\"1\" class=\"dataframe\">\n",
       "  <thead>\n",
       "    <tr style=\"text-align: right;\">\n",
       "      <th></th>\n",
       "      <th>true</th>\n",
       "      <th>score_logreg</th>\n",
       "      <th>score_svm</th>\n",
       "      <th>score_knn</th>\n",
       "      <th>score_tree</th>\n",
       "    </tr>\n",
       "  </thead>\n",
       "  <tbody>\n",
       "    <tr>\n",
       "      <th>0</th>\n",
       "      <td>0</td>\n",
       "      <td>0.683832</td>\n",
       "      <td>0.145976</td>\n",
       "      <td>0.787063</td>\n",
       "      <td>0.500000</td>\n",
       "    </tr>\n",
       "    <tr>\n",
       "      <th>1</th>\n",
       "      <td>1</td>\n",
       "      <td>0.801966</td>\n",
       "      <td>0.239511</td>\n",
       "      <td>1.000000</td>\n",
       "      <td>0.833333</td>\n",
       "    </tr>\n",
       "    <tr>\n",
       "      <th>2</th>\n",
       "      <td>0</td>\n",
       "      <td>0.382315</td>\n",
       "      <td>-0.245701</td>\n",
       "      <td>0.000000</td>\n",
       "      <td>0.000000</td>\n",
       "    </tr>\n",
       "    <tr>\n",
       "      <th>3</th>\n",
       "      <td>1</td>\n",
       "      <td>0.506797</td>\n",
       "      <td>-0.137058</td>\n",
       "      <td>0.000000</td>\n",
       "      <td>0.105263</td>\n",
       "    </tr>\n",
       "    <tr>\n",
       "      <th>4</th>\n",
       "      <td>1</td>\n",
       "      <td>0.488781</td>\n",
       "      <td>-0.154148</td>\n",
       "      <td>0.000000</td>\n",
       "      <td>0.105263</td>\n",
       "    </tr>\n",
       "    <tr>\n",
       "      <th>5</th>\n",
       "      <td>0</td>\n",
       "      <td>0.108506</td>\n",
       "      <td>-0.790864</td>\n",
       "      <td>0.000000</td>\n",
       "      <td>0.000000</td>\n",
       "    </tr>\n",
       "    <tr>\n",
       "      <th>6</th>\n",
       "      <td>0</td>\n",
       "      <td>0.413749</td>\n",
       "      <td>-0.185143</td>\n",
       "      <td>0.283053</td>\n",
       "      <td>0.363636</td>\n",
       "    </tr>\n",
       "    <tr>\n",
       "      <th>7</th>\n",
       "      <td>0</td>\n",
       "      <td>0.961081</td>\n",
       "      <td>0.830973</td>\n",
       "      <td>1.000000</td>\n",
       "      <td>1.000000</td>\n",
       "    </tr>\n",
       "    <tr>\n",
       "      <th>8</th>\n",
       "      <td>0</td>\n",
       "      <td>0.055733</td>\n",
       "      <td>-0.872805</td>\n",
       "      <td>0.000000</td>\n",
       "      <td>0.100000</td>\n",
       "    </tr>\n",
       "    <tr>\n",
       "      <th>9</th>\n",
       "      <td>0</td>\n",
       "      <td>0.168708</td>\n",
       "      <td>-0.518390</td>\n",
       "      <td>0.000000</td>\n",
       "      <td>0.100000</td>\n",
       "    </tr>\n",
       "  </tbody>\n",
       "</table>\n",
       "</div>"
      ],
      "text/plain": [
       "   true  score_logreg  score_svm  score_knn  score_tree\n",
       "0     0      0.683832   0.145976   0.787063    0.500000\n",
       "1     1      0.801966   0.239511   1.000000    0.833333\n",
       "2     0      0.382315  -0.245701   0.000000    0.000000\n",
       "3     1      0.506797  -0.137058   0.000000    0.105263\n",
       "4     1      0.488781  -0.154148   0.000000    0.105263\n",
       "5     0      0.108506  -0.790864   0.000000    0.000000\n",
       "6     0      0.413749  -0.185143   0.283053    0.363636\n",
       "7     0      0.961081   0.830973   1.000000    1.000000\n",
       "8     0      0.055733  -0.872805   0.000000    0.100000\n",
       "9     0      0.168708  -0.518390   0.000000    0.100000"
      ]
     },
     "execution_count": 19,
     "metadata": {},
     "output_type": "execute_result"
    }
   ],
   "source": [
    "data = pd.read_csv(path.joinpath('scores.csv'))\n",
    "data.head(10)"
   ]
  },
  {
   "cell_type": "code",
   "execution_count": 20,
   "metadata": {
    "ExecuteTime": {
     "end_time": "2020-08-18T11:46:06.594692Z",
     "start_time": "2020-08-18T11:46:06.532926Z"
    }
   },
   "outputs": [
    {
     "name": "stdout",
     "output_type": "stream",
     "text": [
      "0.719187675070028\n",
      "0.7086834733893557\n",
      "0.6351540616246498\n",
      "0.6919267707082833\n"
     ]
    }
   ],
   "source": [
    "from sklearn.metrics import roc_auc_score\n",
    "\n",
    "print(roc_auc_score(data['true'], data['score_logreg']))\n",
    "print(roc_auc_score(data['true'], data['score_svm']))\n",
    "print(roc_auc_score(data['true'], data['score_knn']))\n",
    "print(roc_auc_score(data['true'], data['score_tree']))"
   ]
  },
  {
   "cell_type": "code",
   "execution_count": 21,
   "metadata": {
    "ExecuteTime": {
     "end_time": "2020-08-18T11:46:36.012908Z",
     "start_time": "2020-08-18T11:46:35.991088Z"
    }
   },
   "outputs": [],
   "source": [
    "file = open('/home/topcoder2k/HSE_ML/HSE_ML_week3_answers/best_model_score.txt', 'w')\n",
    "file.write('score_logreg')\n",
    "file.close()"
   ]
  },
  {
   "cell_type": "code",
   "execution_count": 30,
   "metadata": {
    "ExecuteTime": {
     "end_time": "2020-08-18T17:33:23.016566Z",
     "start_time": "2020-08-18T17:33:22.989755Z"
    },
    "scrolled": true
   },
   "outputs": [
    {
     "data": {
      "text/plain": [
       "(array([0.49746193, 0.49489796, 0.49230769, 0.49484536, 0.49740933,\n",
       "        0.49479167, 0.4973822 , 0.49473684, 0.4973545 , 0.5       ,\n",
       "        0.5026738 , 0.5       , 0.4972973 , 0.5       , 0.50273224,\n",
       "        0.50549451, 0.50828729, 0.51111111, 0.51396648, 0.51685393,\n",
       "        0.51977401, 0.52272727, 0.52571429, 0.52873563, 0.53179191,\n",
       "        0.53488372, 0.5380117 , 0.53529412, 0.53846154, 0.54166667,\n",
       "        0.54491018, 0.54819277, 0.55151515, 0.54878049, 0.55214724,\n",
       "        0.54938272, 0.55279503, 0.55625   , 0.55974843, 0.55696203,\n",
       "        0.56050955, 0.56410256, 0.56129032, 0.56493506, 0.56862745,\n",
       "        0.56578947, 0.56953642, 0.56666667, 0.5704698 , 0.57432432,\n",
       "        0.57142857, 0.57534247, 0.57241379, 0.57638889, 0.58041958,\n",
       "        0.58450704, 0.58156028, 0.58571429, 0.58992806, 0.58695652,\n",
       "        0.59124088, 0.59558824, 0.6       , 0.59701493, 0.60150376,\n",
       "        0.60606061, 0.60305344, 0.6       , 0.60465116, 0.609375  ,\n",
       "        0.61417323, 0.61111111, 0.616     , 0.62096774, 0.62601626,\n",
       "        0.62295082, 0.61983471, 0.625     , 0.6302521 , 0.62711864,\n",
       "        0.62393162, 0.62068966, 0.62608696, 0.62280702, 0.61946903,\n",
       "        0.61607143, 0.61261261, 0.60909091, 0.6146789 , 0.62037037,\n",
       "        0.61682243, 0.62264151, 0.62857143, 0.625     , 0.63106796,\n",
       "        0.62745098, 0.62376238, 0.62      , 0.62626263, 0.63265306,\n",
       "        0.62886598, 0.63541667, 0.63157895, 0.63829787, 0.64516129,\n",
       "        0.65217391, 0.64835165, 0.65555556, 0.65168539, 0.64772727,\n",
       "        0.65517241, 0.6627907 , 0.67058824, 0.67857143, 0.68674699,\n",
       "        0.69512195, 0.7037037 , 0.7       , 0.70886076, 0.71794872,\n",
       "        0.72727273, 0.72368421, 0.72      , 0.72972973, 0.7260274 ,\n",
       "        0.72222222, 0.71830986, 0.72857143, 0.72463768, 0.73529412,\n",
       "        0.73134328, 0.72727273, 0.73846154, 0.734375  , 0.74603175,\n",
       "        0.75806452, 0.75409836, 0.75      , 0.76271186, 0.75862069,\n",
       "        0.75438596, 0.75      , 0.74545455, 0.74074074, 0.75471698,\n",
       "        0.75      , 0.74509804, 0.76      , 0.7755102 , 0.77083333,\n",
       "        0.76595745, 0.76086957, 0.77777778, 0.79545455, 0.81395349,\n",
       "        0.83333333, 0.85365854, 0.875     , 0.87179487, 0.86842105,\n",
       "        0.86486486, 0.86111111, 0.85714286, 0.85294118, 0.84848485,\n",
       "        0.84375   , 0.83870968, 0.83333333, 0.82758621, 0.82142857,\n",
       "        0.81481481, 0.80769231, 0.8       , 0.79166667, 0.7826087 ,\n",
       "        0.77272727, 0.76190476, 0.75      , 0.78947368, 0.77777778,\n",
       "        0.76470588, 0.75      , 0.8       , 0.78571429, 0.76923077,\n",
       "        0.83333333, 0.81818182, 0.8       , 0.77777778, 0.75      ,\n",
       "        0.71428571, 0.66666667, 0.6       , 0.75      , 1.        ,\n",
       "        1.        , 1.        , 1.        ]),\n",
       " array([1.        , 0.98979592, 0.97959184, 0.97959184, 0.97959184,\n",
       "        0.96938776, 0.96938776, 0.95918367, 0.95918367, 0.95918367,\n",
       "        0.95918367, 0.94897959, 0.93877551, 0.93877551, 0.93877551,\n",
       "        0.93877551, 0.93877551, 0.93877551, 0.93877551, 0.93877551,\n",
       "        0.93877551, 0.93877551, 0.93877551, 0.93877551, 0.93877551,\n",
       "        0.93877551, 0.93877551, 0.92857143, 0.92857143, 0.92857143,\n",
       "        0.92857143, 0.92857143, 0.92857143, 0.91836735, 0.91836735,\n",
       "        0.90816327, 0.90816327, 0.90816327, 0.90816327, 0.89795918,\n",
       "        0.89795918, 0.89795918, 0.8877551 , 0.8877551 , 0.8877551 ,\n",
       "        0.87755102, 0.87755102, 0.86734694, 0.86734694, 0.86734694,\n",
       "        0.85714286, 0.85714286, 0.84693878, 0.84693878, 0.84693878,\n",
       "        0.84693878, 0.83673469, 0.83673469, 0.83673469, 0.82653061,\n",
       "        0.82653061, 0.82653061, 0.82653061, 0.81632653, 0.81632653,\n",
       "        0.81632653, 0.80612245, 0.79591837, 0.79591837, 0.79591837,\n",
       "        0.79591837, 0.78571429, 0.78571429, 0.78571429, 0.78571429,\n",
       "        0.7755102 , 0.76530612, 0.76530612, 0.76530612, 0.75510204,\n",
       "        0.74489796, 0.73469388, 0.73469388, 0.7244898 , 0.71428571,\n",
       "        0.70408163, 0.69387755, 0.68367347, 0.68367347, 0.68367347,\n",
       "        0.67346939, 0.67346939, 0.67346939, 0.66326531, 0.66326531,\n",
       "        0.65306122, 0.64285714, 0.63265306, 0.63265306, 0.63265306,\n",
       "        0.62244898, 0.62244898, 0.6122449 , 0.6122449 , 0.6122449 ,\n",
       "        0.6122449 , 0.60204082, 0.60204082, 0.59183673, 0.58163265,\n",
       "        0.58163265, 0.58163265, 0.58163265, 0.58163265, 0.58163265,\n",
       "        0.58163265, 0.58163265, 0.57142857, 0.57142857, 0.57142857,\n",
       "        0.57142857, 0.56122449, 0.55102041, 0.55102041, 0.54081633,\n",
       "        0.53061224, 0.52040816, 0.52040816, 0.51020408, 0.51020408,\n",
       "        0.5       , 0.48979592, 0.48979592, 0.47959184, 0.47959184,\n",
       "        0.47959184, 0.46938776, 0.45918367, 0.45918367, 0.44897959,\n",
       "        0.43877551, 0.42857143, 0.41836735, 0.40816327, 0.40816327,\n",
       "        0.39795918, 0.3877551 , 0.3877551 , 0.3877551 , 0.37755102,\n",
       "        0.36734694, 0.35714286, 0.35714286, 0.35714286, 0.35714286,\n",
       "        0.35714286, 0.35714286, 0.35714286, 0.34693878, 0.33673469,\n",
       "        0.32653061, 0.31632653, 0.30612245, 0.29591837, 0.28571429,\n",
       "        0.2755102 , 0.26530612, 0.25510204, 0.24489796, 0.23469388,\n",
       "        0.2244898 , 0.21428571, 0.20408163, 0.19387755, 0.18367347,\n",
       "        0.17346939, 0.16326531, 0.15306122, 0.15306122, 0.14285714,\n",
       "        0.13265306, 0.12244898, 0.12244898, 0.1122449 , 0.10204082,\n",
       "        0.10204082, 0.09183673, 0.08163265, 0.07142857, 0.06122449,\n",
       "        0.05102041, 0.04081633, 0.03061224, 0.03061224, 0.03061224,\n",
       "        0.02040816, 0.01020408, 0.        ]))"
      ]
     },
     "execution_count": 30,
     "metadata": {},
     "output_type": "execute_result"
    }
   ],
   "source": [
    "from sklearn.metrics import precision_recall_curve\n",
    "\n",
    "precision, recall, thresholds = precision_recall_curve(\n",
    "    data['true'],\n",
    "    data['score_logreg']\n",
    ")\n",
    "precision, recall"
   ]
  },
  {
   "cell_type": "code",
   "execution_count": 31,
   "metadata": {
    "ExecuteTime": {
     "end_time": "2020-08-18T17:35:17.467683Z",
     "start_time": "2020-08-18T17:35:17.437327Z"
    }
   },
   "outputs": [
    {
     "name": "stdout",
     "output_type": "stream",
     "text": [
      "0.6302521008403361\n",
      "0.6228070175438597\n",
      "0.6065573770491803\n",
      "0.6517857142857143\n"
     ]
    }
   ],
   "source": [
    "recall_threshold = 0.7\n",
    "def recall_threshold_pos(recall):\n",
    "    pos = 0\n",
    "    while recall[pos] >= 0.7:\n",
    "        pos += 1\n",
    "    \n",
    "    return pos\n",
    "\n",
    "\n",
    "print(precision[:recall_threshold_pos(recall)].max())\n",
    "\n",
    "precision, recall, thresholds = precision_recall_curve(\n",
    "    data['true'],\n",
    "    data['score_svm']\n",
    ")\n",
    "print(precision[:recall_threshold_pos(recall)].max())\n",
    "\n",
    "precision, recall, thresholds = precision_recall_curve(\n",
    "    data['true'],\n",
    "    data['score_knn']\n",
    ")\n",
    "print(precision[:recall_threshold_pos(recall)].max())\n",
    "\n",
    "precision, recall, thresholds = precision_recall_curve(\n",
    "    data['true'],\n",
    "    data['score_tree']\n",
    ")\n",
    "print(precision[:recall_threshold_pos(recall)].max())"
   ]
  },
  {
   "cell_type": "code",
   "execution_count": 32,
   "metadata": {
    "ExecuteTime": {
     "end_time": "2020-08-18T17:36:52.964379Z",
     "start_time": "2020-08-18T17:36:52.939909Z"
    }
   },
   "outputs": [],
   "source": [
    "file = open('/home/topcoder2k/HSE_ML/HSE_ML_week3_answers/best_0.7_precision_score.txt', 'w')\n",
    "file.write('score_tree')\n",
    "file.close()"
   ]
  },
  {
   "cell_type": "code",
   "execution_count": null,
   "metadata": {},
   "outputs": [],
   "source": []
  }
 ],
 "metadata": {
  "kernelspec": {
   "display_name": "Python [conda env:mipt-stats] *",
   "language": "python",
   "name": "conda-env-mipt-stats-py"
  },
  "language_info": {
   "codemirror_mode": {
    "name": "ipython",
    "version": 3
   },
   "file_extension": ".py",
   "mimetype": "text/x-python",
   "name": "python",
   "nbconvert_exporter": "python",
   "pygments_lexer": "ipython3",
   "version": "3.7.6"
  }
 },
 "nbformat": 4,
 "nbformat_minor": 4
}
