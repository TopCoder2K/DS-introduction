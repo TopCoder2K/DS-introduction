{
 "cells": [
  {
   "cell_type": "markdown",
   "metadata": {},
   "source": [
    "### Инструкция по выполнению\n",
    "\n",
    "    1. Загрузите данные из файла data-logistic.csv. Это двумерная выборка, целевая переменная на которой принимает значения -1 или 1.\n",
    "    2. Убедитесь, что выше выписаны правильные формулы для градиентного спуска. Обратите внимание, что мы используем полноценный градиентный спуск, а не его стохастический вариант!\n",
    "    3. Реализуйте градиентный спуск для обычной и L2-регуляризованной (с коэффициентом регуляризации 10) логистической регрессии. Используйте длину шага k=0.1. В качестве начального приближения используйте вектор (0, 0).\n",
    "    4. Запустите градиентный спуск и доведите до сходимости (евклидово расстояние между векторами весов на соседних итерациях должно быть не больше 1e-5). Рекомендуется ограничить сверху число итераций десятью тысячами.\n",
    "    5. Какое значение принимает AUC-ROC на обучении без регуляризации и при ее использовании? Эти величины будут ответом на задание. В качестве ответа приведите два числа через пробел. Обратите внимание, что на вход функции roc_auc_score нужно подавать оценки вероятностей, подсчитанные обученным алгоритмом. Для этого воспользуйтесь сигмоидной функцией: a(x) = 1 / (1 + exp(-w1 x1 - w2 x2)).\n",
    "    6. Попробуйте поменять длину шага. Будет ли сходиться алгоритм, если делать более длинные шаги? Как меняется число итераций при уменьшении длины шага?\n",
    "    7. Попробуйте менять начальное приближение. Влияет ли оно на что-нибудь?\n",
    "\n",
    "Если ответом является нецелое число, то целую и дробную часть необходимо разграничивать точкой, например, 0.421. При необходимости округляйте дробную часть до трех знаков.\n",
    "\n",
    "Ответ на каждое задание — текстовый файл, содержащий ответ в первой строчке. Обратите внимание, что отправляемые файлы не должны содержать перевод строки в конце. Данный нюанс является ограничением платформы Coursera. Мы работаем над тем, чтобы убрать это ограничение.\n",
    "\n"
   ]
  },
  {
   "cell_type": "code",
   "execution_count": 2,
   "metadata": {
    "ExecuteTime": {
     "end_time": "2020-08-17T16:48:02.855177Z",
     "start_time": "2020-08-17T16:48:02.832148Z"
    }
   },
   "outputs": [
    {
     "data": {
      "text/html": [
       "<div>\n",
       "<style scoped>\n",
       "    .dataframe tbody tr th:only-of-type {\n",
       "        vertical-align: middle;\n",
       "    }\n",
       "\n",
       "    .dataframe tbody tr th {\n",
       "        vertical-align: top;\n",
       "    }\n",
       "\n",
       "    .dataframe thead th {\n",
       "        text-align: right;\n",
       "    }\n",
       "</style>\n",
       "<table border=\"1\" class=\"dataframe\">\n",
       "  <thead>\n",
       "    <tr style=\"text-align: right;\">\n",
       "      <th></th>\n",
       "      <th>target</th>\n",
       "      <th>attr1</th>\n",
       "      <th>attr2</th>\n",
       "    </tr>\n",
       "  </thead>\n",
       "  <tbody>\n",
       "    <tr>\n",
       "      <th>0</th>\n",
       "      <td>-1</td>\n",
       "      <td>-0.663827</td>\n",
       "      <td>-0.138526</td>\n",
       "    </tr>\n",
       "    <tr>\n",
       "      <th>1</th>\n",
       "      <td>1</td>\n",
       "      <td>1.994596</td>\n",
       "      <td>2.468025</td>\n",
       "    </tr>\n",
       "    <tr>\n",
       "      <th>2</th>\n",
       "      <td>-1</td>\n",
       "      <td>-1.247395</td>\n",
       "      <td>0.749425</td>\n",
       "    </tr>\n",
       "    <tr>\n",
       "      <th>3</th>\n",
       "      <td>1</td>\n",
       "      <td>2.309374</td>\n",
       "      <td>1.899836</td>\n",
       "    </tr>\n",
       "    <tr>\n",
       "      <th>4</th>\n",
       "      <td>1</td>\n",
       "      <td>0.849143</td>\n",
       "      <td>2.407750</td>\n",
       "    </tr>\n",
       "    <tr>\n",
       "      <th>5</th>\n",
       "      <td>1</td>\n",
       "      <td>1.454271</td>\n",
       "      <td>-0.665416</td>\n",
       "    </tr>\n",
       "    <tr>\n",
       "      <th>6</th>\n",
       "      <td>1</td>\n",
       "      <td>2.254227</td>\n",
       "      <td>2.263786</td>\n",
       "    </tr>\n",
       "    <tr>\n",
       "      <th>7</th>\n",
       "      <td>-1</td>\n",
       "      <td>-0.067580</td>\n",
       "      <td>1.469141</td>\n",
       "    </tr>\n",
       "    <tr>\n",
       "      <th>8</th>\n",
       "      <td>-1</td>\n",
       "      <td>-0.861961</td>\n",
       "      <td>-0.824856</td>\n",
       "    </tr>\n",
       "    <tr>\n",
       "      <th>9</th>\n",
       "      <td>1</td>\n",
       "      <td>0.699179</td>\n",
       "      <td>2.032488</td>\n",
       "    </tr>\n",
       "  </tbody>\n",
       "</table>\n",
       "</div>"
      ],
      "text/plain": [
       "   target     attr1     attr2\n",
       "0      -1 -0.663827 -0.138526\n",
       "1       1  1.994596  2.468025\n",
       "2      -1 -1.247395  0.749425\n",
       "3       1  2.309374  1.899836\n",
       "4       1  0.849143  2.407750\n",
       "5       1  1.454271 -0.665416\n",
       "6       1  2.254227  2.263786\n",
       "7      -1 -0.067580  1.469141\n",
       "8      -1 -0.861961 -0.824856\n",
       "9       1  0.699179  2.032488"
      ]
     },
     "execution_count": 2,
     "metadata": {},
     "output_type": "execute_result"
    }
   ],
   "source": [
    "import pandas as pd\n",
    "from pathlib import Path\n",
    "path = Path.cwd()\n",
    "path = path.joinpath('../data/raw/HSE_ML_week3')\n",
    "\n",
    "data = pd.read_csv(path.joinpath('data-logistic.csv'), names=['target', 'attr1', 'attr2'])\n",
    "data.head(10)"
   ]
  },
  {
   "cell_type": "code",
   "execution_count": 38,
   "metadata": {
    "ExecuteTime": {
     "end_time": "2020-08-17T17:46:37.120657Z",
     "start_time": "2020-08-17T17:46:36.463752Z"
    },
    "code_folding": []
   },
   "outputs": [
    {
     "name": "stdout",
     "output_type": "stream",
     "text": [
      "21 0.2880984149587087 0.09171905740473663\n"
     ]
    }
   ],
   "source": [
    "from math import exp\n",
    "\n",
    "def euclid_dist(x1, x2, y1, y2):\n",
    "    return ((y1-x1)**2 + (y2-x2)**2)**0.5\n",
    "\n",
    "def gradient_descent(w1, w2, C, k):\n",
    "    new_w1 = w1 + k/data.shape[0]*data.apply(\n",
    "        lambda row: row[0]*row[1]*(1 - 1/(1 + exp(-row[0]*(w1*row[1] + w2*row[2])))),\n",
    "        axis=1\n",
    "    ).sum() - k*C*w1\n",
    "    new_w2 = w2 + k/data.shape[0]*data.apply(\n",
    "        lambda row: row[0]*row[2]*(1 - 1/(1 + exp(-row[0]*(w1*row[1] + w2*row[2])))),\n",
    "        axis=1\n",
    "    ).sum() - k*C*w2\n",
    "    \n",
    "    return new_w1, new_w2\n",
    "    \n",
    "\n",
    "w1_prev = -1\n",
    "w2_prev = -1\n",
    "w1 = 0\n",
    "w2 = 0\n",
    "counter = 0\n",
    "while euclid_dist(w1, w2, w1_prev, w2_prev) > 0.00001 and counter < 10000:\n",
    "    w1_prev = w1\n",
    "    w2_prev = w2\n",
    "    w1, w2 = gradient_descent(w1, w2, C=0, k=1.5)\n",
    "    \n",
    "    counter += 1\n",
    "\n",
    "print(counter, w1, w2)"
   ]
  },
  {
   "cell_type": "markdown",
   "metadata": {},
   "source": [
    "**Вывод:** начальные w1, w2 влияют на число шагов, k сильно влияет на число шагов: например, при k = 1.5 сходимость получается за 26 шагов, а при k = 0.05 --- за 400 с чем-то."
   ]
  },
  {
   "cell_type": "code",
   "execution_count": 32,
   "metadata": {
    "ExecuteTime": {
     "end_time": "2020-08-17T17:44:58.632016Z",
     "start_time": "2020-08-17T17:44:58.568138Z"
    }
   },
   "outputs": [
    {
     "data": {
      "text/plain": [
       "0.9268571428571428"
      ]
     },
     "execution_count": 32,
     "metadata": {},
     "output_type": "execute_result"
    }
   ],
   "source": [
    "from sklearn.metrics import roc_auc_score\n",
    "\n",
    "\n",
    "y_true = data['target']\n",
    "y_score = data.apply(\n",
    "        lambda row: 1/(1 + exp(-w1*row[1] - w2*row[2])),\n",
    "        axis=1\n",
    "    )\n",
    "roc_auc_score(y_true, y_score)"
   ]
  },
  {
   "cell_type": "code",
   "execution_count": 44,
   "metadata": {
    "ExecuteTime": {
     "end_time": "2020-08-17T17:49:19.033243Z",
     "start_time": "2020-08-17T17:49:18.764970Z"
    }
   },
   "outputs": [
    {
     "name": "stdout",
     "output_type": "stream",
     "text": [
      "8 0.02855875454623421 0.024780137249735552\n"
     ]
    }
   ],
   "source": [
    "w1_prev = -1\n",
    "w2_prev = -1\n",
    "w1 = 0\n",
    "w2 = 0\n",
    "counter = 0\n",
    "while euclid_dist(w1, w2, w1_prev, w2_prev) > 0.00001 and counter < 10000:\n",
    "    w1_prev = w1\n",
    "    w2_prev = w2\n",
    "    w1, w2 = gradient_descent(w1, w2, C=10, k=0.1)\n",
    "    \n",
    "    counter += 1\n",
    "\n",
    "print(counter, w1, w2)"
   ]
  },
  {
   "cell_type": "code",
   "execution_count": 45,
   "metadata": {
    "ExecuteTime": {
     "end_time": "2020-08-17T17:49:20.113245Z",
     "start_time": "2020-08-17T17:49:20.095404Z"
    }
   },
   "outputs": [
    {
     "data": {
      "text/plain": [
       "0.9362857142857142"
      ]
     },
     "execution_count": 45,
     "metadata": {},
     "output_type": "execute_result"
    }
   ],
   "source": [
    "y_score = data.apply(\n",
    "        lambda row: 1/(1 + exp(-w1*row[1] - w2*row[2])),\n",
    "        axis=1\n",
    "    )\n",
    "roc_auc_score(y_true, y_score)"
   ]
  },
  {
   "cell_type": "code",
   "execution_count": 46,
   "metadata": {
    "ExecuteTime": {
     "end_time": "2020-08-17T17:50:45.964039Z",
     "start_time": "2020-08-17T17:50:45.944480Z"
    }
   },
   "outputs": [],
   "source": [
    "file = open('/home/topcoder2k/HSE_ML/HSE_ML_week3_answers/logistic_regression.txt', 'w')\n",
    "file.write('0.927 0.936')\n",
    "file.close()"
   ]
  },
  {
   "cell_type": "code",
   "execution_count": null,
   "metadata": {},
   "outputs": [],
   "source": []
  }
 ],
 "metadata": {
  "kernelspec": {
   "display_name": "Python [conda env:mipt-stats] *",
   "language": "python",
   "name": "conda-env-mipt-stats-py"
  },
  "language_info": {
   "codemirror_mode": {
    "name": "ipython",
    "version": 3
   },
   "file_extension": ".py",
   "mimetype": "text/x-python",
   "name": "python",
   "nbconvert_exporter": "python",
   "pygments_lexer": "ipython3",
   "version": "3.7.6"
  }
 },
 "nbformat": 4,
 "nbformat_minor": 4
}
